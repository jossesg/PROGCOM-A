{
  "nbformat": 4,
  "nbformat_minor": 0,
  "metadata": {
    "colab": {
      "provenance": [],
      "authorship_tag": "ABX9TyNqCU3qu19GejWRaRLjXeBt",
      "include_colab_link": true
    },
    "kernelspec": {
      "name": "python3",
      "display_name": "Python 3"
    },
    "language_info": {
      "name": "python"
    }
  },
  "cells": [
    {
      "cell_type": "markdown",
      "metadata": {
        "id": "view-in-github",
        "colab_type": "text"
      },
      "source": [
        "<a href=\"https://colab.research.google.com/github/jossesg/PROGCOM-A/blob/main/clase_3_estructura_de_repeticion.ipynb\" target=\"_parent\"><img src=\"https://colab.research.google.com/assets/colab-badge.svg\" alt=\"Open In Colab\"/></a>"
      ]
    },
    {
      "cell_type": "markdown",
      "source": [
        "estructura de repeticion\n",
        "\n",
        "permite repetir una o mas acciones de acuerdo con una condicion (mientras se cumpla la condicion)"
      ],
      "metadata": {
        "id": "yD5bE_g1PS7g"
      }
    },
    {
      "cell_type": "markdown",
      "source": [
        "##estructura para - for\n",
        "\n",
        "-cuando se sabe cuantas veces se repite una accion (eso es un para)\n",
        "\n",
        "-esta conformado por una condicion inicial (CI) una condicion final (CF) y pasos (frecuencia de repeticion)\n",
        "\n",
        "-esta estructura no se detendra hasta alcanzar CF-1\n",
        "\n",
        "estructura general del for\n",
        "\n",
        "\n",
        "\n",
        "\n",
        "\n",
        "```\n",
        "for (variable) in range(CI,CF+1,paso):\n",
        "  se repite (CF+1-CI)/paso veces una accion\n",
        "\n",
        "```\n",
        "\n",
        "estructura resumida del for\n",
        "\n",
        "\n",
        "\n",
        "\n",
        "```\n",
        "for (variable) in range (cantidad):\n",
        "  se repite cantidad de veces una accion\n",
        "```\n",
        "\n",
        "estructura for como iteracion\n",
        "\n",
        "1- el para (for) itera tantas veces, como elementos tenga la lista(si tiene 5 elementos se repite 5 veces)\n",
        "\n",
        "2- la variable toma el valor de cada elemento de la lista de iteracion\n",
        "\n",
        "3- len (cuenta la cantidad de elementos)\n",
        "\n",
        "```\n",
        "lista=[1,2,3,4,5]\n",
        "for (variable) in lista:\n",
        "  se repite len(lista)\n",
        "\n",
        "```\n",
        "\n",
        "\n",
        "\n"
      ],
      "metadata": {
        "id": "i88M35chPh5R"
      }
    },
    {
      "cell_type": "code",
      "source": [
        "#hacer la tabla multiplicar de un numero n\n",
        "n=int(input(\"ingrese un numero\"))"
      ],
      "metadata": {
        "colab": {
          "base_uri": "https://localhost:8080/"
        },
        "id": "zF4dr8ChRoeo",
        "outputId": "ff360ed1-e638-4a66-cff7-9712ea735bd3"
      },
      "execution_count": null,
      "outputs": [
        {
          "name": "stdout",
          "output_type": "stream",
          "text": [
            "ingrese un numero1\n"
          ]
        }
      ]
    },
    {
      "cell_type": "code",
      "source": [
        "print(f\"tabla del {n}\")\n",
        "for holitas in range(1,11,1):\n",
        "  print(f\"{n} x {holitas} = {n*holitas}\")"
      ],
      "metadata": {
        "colab": {
          "base_uri": "https://localhost:8080/"
        },
        "id": "tBjYuz3-SdZf",
        "outputId": "1f19c80f-6930-4f3d-c5c9-a483f76c3c2c"
      },
      "execution_count": null,
      "outputs": [
        {
          "output_type": "stream",
          "name": "stdout",
          "text": [
            "tabla del 1\n",
            "1 x 1 = 1\n",
            "1 x 2 = 2\n",
            "1 x 3 = 3\n",
            "1 x 4 = 4\n",
            "1 x 5 = 5\n",
            "1 x 6 = 6\n",
            "1 x 7 = 7\n",
            "1 x 8 = 8\n",
            "1 x 9 = 9\n",
            "1 x 10 = 10\n"
          ]
        }
      ]
    },
    {
      "cell_type": "code",
      "source": [
        "for n in range(1,11):\n",
        "  print(f\"(n/tabla del {n})\")\n",
        "  for holitas in range(1,11):\n",
        "    print(f\"{n} x {holitas} = {n * holitas}\")"
      ],
      "metadata": {
        "colab": {
          "base_uri": "https://localhost:8080/"
        },
        "id": "PvpVAR3JUTmV",
        "outputId": "c0d62fcb-3917-4355-d553-814ec9a1920b"
      },
      "execution_count": null,
      "outputs": [
        {
          "output_type": "stream",
          "name": "stdout",
          "text": [
            "(n/tabla del 1)\n",
            "1 x 1 = 1\n",
            "1 x 2 = 2\n",
            "1 x 3 = 3\n",
            "1 x 4 = 4\n",
            "1 x 5 = 5\n",
            "1 x 6 = 6\n",
            "1 x 7 = 7\n",
            "1 x 8 = 8\n",
            "1 x 9 = 9\n",
            "1 x 10 = 10\n",
            "(n/tabla del 2)\n",
            "2 x 1 = 2\n",
            "2 x 2 = 4\n",
            "2 x 3 = 6\n",
            "2 x 4 = 8\n",
            "2 x 5 = 10\n",
            "2 x 6 = 12\n",
            "2 x 7 = 14\n",
            "2 x 8 = 16\n",
            "2 x 9 = 18\n",
            "2 x 10 = 20\n",
            "(n/tabla del 3)\n",
            "3 x 1 = 3\n",
            "3 x 2 = 6\n",
            "3 x 3 = 9\n",
            "3 x 4 = 12\n",
            "3 x 5 = 15\n",
            "3 x 6 = 18\n",
            "3 x 7 = 21\n",
            "3 x 8 = 24\n",
            "3 x 9 = 27\n",
            "3 x 10 = 30\n",
            "(n/tabla del 4)\n",
            "4 x 1 = 4\n",
            "4 x 2 = 8\n",
            "4 x 3 = 12\n",
            "4 x 4 = 16\n",
            "4 x 5 = 20\n",
            "4 x 6 = 24\n",
            "4 x 7 = 28\n",
            "4 x 8 = 32\n",
            "4 x 9 = 36\n",
            "4 x 10 = 40\n",
            "(n/tabla del 5)\n",
            "5 x 1 = 5\n",
            "5 x 2 = 10\n",
            "5 x 3 = 15\n",
            "5 x 4 = 20\n",
            "5 x 5 = 25\n",
            "5 x 6 = 30\n",
            "5 x 7 = 35\n",
            "5 x 8 = 40\n",
            "5 x 9 = 45\n",
            "5 x 10 = 50\n",
            "(n/tabla del 6)\n",
            "6 x 1 = 6\n",
            "6 x 2 = 12\n",
            "6 x 3 = 18\n",
            "6 x 4 = 24\n",
            "6 x 5 = 30\n",
            "6 x 6 = 36\n",
            "6 x 7 = 42\n",
            "6 x 8 = 48\n",
            "6 x 9 = 54\n",
            "6 x 10 = 60\n",
            "(n/tabla del 7)\n",
            "7 x 1 = 7\n",
            "7 x 2 = 14\n",
            "7 x 3 = 21\n",
            "7 x 4 = 28\n",
            "7 x 5 = 35\n",
            "7 x 6 = 42\n",
            "7 x 7 = 49\n",
            "7 x 8 = 56\n",
            "7 x 9 = 63\n",
            "7 x 10 = 70\n",
            "(n/tabla del 8)\n",
            "8 x 1 = 8\n",
            "8 x 2 = 16\n",
            "8 x 3 = 24\n",
            "8 x 4 = 32\n",
            "8 x 5 = 40\n",
            "8 x 6 = 48\n",
            "8 x 7 = 56\n",
            "8 x 8 = 64\n",
            "8 x 9 = 72\n",
            "8 x 10 = 80\n",
            "(n/tabla del 9)\n",
            "9 x 1 = 9\n",
            "9 x 2 = 18\n",
            "9 x 3 = 27\n",
            "9 x 4 = 36\n",
            "9 x 5 = 45\n",
            "9 x 6 = 54\n",
            "9 x 7 = 63\n",
            "9 x 8 = 72\n",
            "9 x 9 = 81\n",
            "9 x 10 = 90\n",
            "(n/tabla del 10)\n",
            "10 x 1 = 10\n",
            "10 x 2 = 20\n",
            "10 x 3 = 30\n",
            "10 x 4 = 40\n",
            "10 x 5 = 50\n",
            "10 x 6 = 60\n",
            "10 x 7 = 70\n",
            "10 x 8 = 80\n",
            "10 x 9 = 90\n",
            "10 x 10 = 100\n"
          ]
        }
      ]
    },
    {
      "cell_type": "code",
      "source": [
        "numeros=[1,2,3,4,5,6,7,8,9,10]\n",
        "for num in numeros:\n",
        "  print(f\"{n} x {num} = {n*num}\")"
      ],
      "metadata": {
        "colab": {
          "base_uri": "https://localhost:8080/"
        },
        "id": "ddYk3ic8d_jt",
        "outputId": "6c74da04-1e3d-4be4-83af-9f1911510dd6"
      },
      "execution_count": null,
      "outputs": [
        {
          "output_type": "stream",
          "name": "stdout",
          "text": [
            "10 x 1 = 10\n",
            "10 x 2 = 20\n",
            "10 x 3 = 30\n",
            "10 x 4 = 40\n",
            "10 x 5 = 50\n",
            "10 x 6 = 60\n",
            "10 x 7 = 70\n",
            "10 x 8 = 80\n",
            "10 x 9 = 90\n",
            "10 x 10 = 100\n"
          ]
        }
      ]
    },
    {
      "cell_type": "code",
      "source": [
        "numero2=list(range(1,11))\n",
        "numeros2"
      ],
      "metadata": {
        "colab": {
          "base_uri": "https://localhost:8080/",
          "height": 159
        },
        "id": "aO9l3cUHfJlj",
        "outputId": "a738ea8f-ca29-4391-ba0e-cf9f9279d22e"
      },
      "execution_count": null,
      "outputs": [
        {
          "output_type": "error",
          "ename": "NameError",
          "evalue": "name 'numeros2' is not defined",
          "traceback": [
            "\u001b[0;31m---------------------------------------------------------------------------\u001b[0m",
            "\u001b[0;31mNameError\u001b[0m                                 Traceback (most recent call last)",
            "\u001b[0;32m/tmp/ipython-input-2671290086.py\u001b[0m in \u001b[0;36m<cell line: 0>\u001b[0;34m()\u001b[0m\n\u001b[1;32m      1\u001b[0m \u001b[0mnumero2\u001b[0m\u001b[0;34m=\u001b[0m\u001b[0mlist\u001b[0m\u001b[0;34m(\u001b[0m\u001b[0mrange\u001b[0m\u001b[0;34m(\u001b[0m\u001b[0;36m1\u001b[0m\u001b[0;34m,\u001b[0m\u001b[0;36m11\u001b[0m\u001b[0;34m)\u001b[0m\u001b[0;34m)\u001b[0m\u001b[0;34m\u001b[0m\u001b[0;34m\u001b[0m\u001b[0m\n\u001b[0;32m----> 2\u001b[0;31m \u001b[0mnumeros2\u001b[0m\u001b[0;34m\u001b[0m\u001b[0;34m\u001b[0m\u001b[0m\n\u001b[0m",
            "\u001b[0;31mNameError\u001b[0m: name 'numeros2' is not defined"
          ]
        }
      ]
    },
    {
      "cell_type": "markdown",
      "source": [
        "##listas\n",
        "\n",
        "1.es un tipo de datos\n",
        "\n",
        "2. todos los elementos de una lista **deben** separarse por comas\n",
        "\n",
        "3.forma canonica para declarar una lista\n",
        "\n",
        "\n",
        "\n",
        "```\n",
        "(variable) = []\n",
        "\n",
        "```\n",
        "\n",
        "ejemplo:\n",
        "\n",
        "flores = [\"amapola\",\"tulipan\",\"lengua de suegra\",dahlia,\"rosa\"]\n"
      ],
      "metadata": {
        "id": "oIN-aJcTw4Ot"
      }
    },
    {
      "cell_type": "code",
      "source": [
        "dahlia=3 #variable de tipo numerica, int\n",
        "rosa=\"cinco\" #variable de tipo alfanumerico,str\n",
        "flores=[\"amapola\",\"tulipan\",\"lengua de suegra\",dahlia,rosa]"
      ],
      "metadata": {
        "id": "xwuB48fSfdjr"
      },
      "execution_count": null,
      "outputs": []
    },
    {
      "cell_type": "markdown",
      "source": [
        "4. manual\n",
        "\n",
        "\n",
        "\n",
        "```\n",
        "lista2=[dato1,dato2,datos3...datoN]\n",
        "\n",
        "```\n",
        "\n",
        "5.siempre son finitas\n",
        "6.son indexadas\n",
        "\n",
        "\n",
        "\n",
        "```\n",
        "lista2=[dato1,dato2,datos3...datoN]\n",
        "```\n",
        "\n",
        "dato1 esta en el index 0\n",
        "dato 2 esta ubicado en el index 1\n",
        "\n",
        "7.estructuras **para** para la creacion de listas\n",
        "\n",
        "#ejemplo: crear una lista de 5 elementos\n",
        "\n",
        "```\n",
        "#ejemplo: crear una lista de 5 elementos\n",
        "lista=[] #para que el programa sepa que es una lista\n",
        "for loquesea in range(5):\n",
        "lista=input(\"ingrese el nombre de una flor\")\n",
        "\n",
        "```\n",
        "\n",
        "\n"
      ],
      "metadata": {
        "id": "N4FxqIqHy2D9"
      }
    },
    {
      "cell_type": "code",
      "source": [
        "lista=[]\n",
        "for loquesea in range(5):\n",
        "    lista=input(\"ingrese el nombre de una flor\")\n"
      ],
      "metadata": {
        "colab": {
          "base_uri": "https://localhost:8080/"
        },
        "id": "BZS_dE4g0-r8",
        "outputId": "5797d673-cf3a-45d1-bf91-0a6063021dce"
      },
      "execution_count": 4,
      "outputs": [
        {
          "name": "stdout",
          "output_type": "stream",
          "text": [
            "ingrese el nombre de una florflor\n",
            "ingrese el nombre de una flortulipan\n",
            "ingrese el nombre de una florlengua de suegra\n",
            "ingrese el nombre de una flormargarita\n",
            "ingrese el nombre de una florsiete cueros\n"
          ]
        }
      ]
    },
    {
      "cell_type": "code",
      "source": [
        "lista=[]\n",
        "for loquesea in range (5):\n",
        "    lista.append(loquesea)"
      ],
      "metadata": {
        "id": "9TPX5Eea6Unl"
      },
      "execution_count": 37,
      "outputs": []
    },
    {
      "cell_type": "code",
      "source": [
        "lista"
      ],
      "metadata": {
        "colab": {
          "base_uri": "https://localhost:8080/"
        },
        "id": "YCvMfyoB69Ik",
        "outputId": "60282614-c74f-45fc-93ba-f2d69b87b8c3"
      },
      "execution_count": 38,
      "outputs": [
        {
          "output_type": "execute_result",
          "data": {
            "text/plain": [
              "[0, 1, 2, 3, 4]"
            ]
          },
          "metadata": {},
          "execution_count": 38
        }
      ]
    },
    {
      "cell_type": "code",
      "source": [
        "loquesea"
      ],
      "metadata": {
        "colab": {
          "base_uri": "https://localhost:8080/"
        },
        "id": "tmGcdFmM5ivW",
        "outputId": "1d0228f1-6fc2-4980-9ea7-56417fa19441"
      },
      "execution_count": 6,
      "outputs": [
        {
          "output_type": "execute_result",
          "data": {
            "text/plain": [
              "4"
            ]
          },
          "metadata": {},
          "execution_count": 6
        }
      ]
    },
    {
      "cell_type": "markdown",
      "source": [
        "10 ejercicios utilizando para y lista"
      ],
      "metadata": {
        "id": "QimI_lxj9ExD"
      }
    },
    {
      "cell_type": "code",
      "source": [
        "for i in range(1,11):\n",
        "  print(i)"
      ],
      "metadata": {
        "colab": {
          "base_uri": "https://localhost:8080/"
        },
        "id": "CeKWlhxd7wEb",
        "outputId": "97fc8eaa-99a1-4bf0-808d-f014fe4556d7"
      },
      "execution_count": 41,
      "outputs": [
        {
          "output_type": "stream",
          "name": "stdout",
          "text": [
            "1\n",
            "2\n",
            "3\n",
            "4\n",
            "5\n",
            "6\n",
            "7\n",
            "8\n",
            "9\n",
            "10\n"
          ]
        }
      ]
    },
    {
      "cell_type": "code",
      "source": [
        "numeros = list(range(1,11))\n",
        "print(numeros)"
      ],
      "metadata": {
        "colab": {
          "base_uri": "https://localhost:8080/"
        },
        "id": "Rx83X6kuDCX1",
        "outputId": "83d1ccbe-aa59-4be4-de13-86000d580789"
      },
      "execution_count": 55,
      "outputs": [
        {
          "output_type": "stream",
          "name": "stdout",
          "text": [
            "[1, 2, 3, 4, 5, 6, 7, 8, 9, 10]\n"
          ]
        }
      ]
    },
    {
      "cell_type": "code",
      "source": [
        "suma = 0\n",
        "for i in range(1,101):\n",
        "  suma +=i\n",
        "print(\"suma\",suma)"
      ],
      "metadata": {
        "colab": {
          "base_uri": "https://localhost:8080/"
        },
        "id": "YUL5Rmnj9uMd",
        "outputId": "28ae2107-0532-4830-c2c9-2c5de7cf9a8e"
      },
      "execution_count": 54,
      "outputs": [
        {
          "output_type": "stream",
          "name": "stdout",
          "text": [
            "suma 5050\n"
          ]
        }
      ]
    },
    {
      "cell_type": "code",
      "source": [
        "suma = sum(list(range(1,101)))\n",
        "print(\"suma\",suma)"
      ],
      "metadata": {
        "colab": {
          "base_uri": "https://localhost:8080/"
        },
        "id": "3n1NbEqoDJ0t",
        "outputId": "63034fb7-0ab1-4787-dfc2-fc6f4a9a754e"
      },
      "execution_count": 56,
      "outputs": [
        {
          "output_type": "stream",
          "name": "stdout",
          "text": [
            "suma 5050\n"
          ]
        }
      ]
    },
    {
      "cell_type": "code",
      "source": [
        "for i in range(1,31):\n",
        "  if i % 3==0:\n",
        "    print(i)"
      ],
      "metadata": {
        "colab": {
          "base_uri": "https://localhost:8080/"
        },
        "id": "fa0rNXYv-Hqh",
        "outputId": "210b987a-5736-46fe-ae01-ec509f76a14b"
      },
      "execution_count": 43,
      "outputs": [
        {
          "output_type": "stream",
          "name": "stdout",
          "text": [
            "3\n",
            "6\n",
            "9\n",
            "12\n",
            "15\n",
            "18\n",
            "21\n",
            "24\n",
            "27\n",
            "30\n"
          ]
        }
      ]
    },
    {
      "cell_type": "code",
      "source": [
        "multiplos = [i for i in range(1,31) if i % 3 == 0]\n",
        "print(multiplos)"
      ],
      "metadata": {
        "colab": {
          "base_uri": "https://localhost:8080/"
        },
        "id": "peKEy9FjDcTF",
        "outputId": "c6597052-d8ef-4e2b-f03c-30f42b2f5b0f"
      },
      "execution_count": 57,
      "outputs": [
        {
          "output_type": "stream",
          "name": "stdout",
          "text": [
            "[3, 6, 9, 12, 15, 18, 21, 24, 27, 30]\n"
          ]
        }
      ]
    },
    {
      "cell_type": "code",
      "source": [
        "num = int(input(\"ingrese un numero\"))\n",
        "for i in range(1,11):\n",
        "  print(f\"{num} x {i} = {num*i}\")"
      ],
      "metadata": {
        "colab": {
          "base_uri": "https://localhost:8080/"
        },
        "id": "YtSA4mdx-2Ds",
        "outputId": "b5822acb-454a-44c2-a0ca-3ad3a9399aae"
      },
      "execution_count": 59,
      "outputs": [
        {
          "output_type": "stream",
          "name": "stdout",
          "text": [
            "ingrese un numero6\n",
            "6 x 1 = 6\n",
            "6 x 2 = 12\n",
            "6 x 3 = 18\n",
            "6 x 4 = 24\n",
            "6 x 5 = 30\n",
            "6 x 6 = 36\n",
            "6 x 7 = 42\n",
            "6 x 8 = 48\n",
            "6 x 9 = 54\n",
            "6 x 10 = 60\n"
          ]
        }
      ]
    },
    {
      "cell_type": "code",
      "source": [
        "n = int(input(\"ingrese un numero\"))\n",
        "tabla = [f\"{n} x {i} = {n*1}\" for i in range(1,11)]\n",
        "print(\"\\n\".join(tabla))"
      ],
      "metadata": {
        "colab": {
          "base_uri": "https://localhost:8080/"
        },
        "id": "yBur9w9TD3O8",
        "outputId": "e50a059f-0ece-455e-9f8f-53a95081a306"
      },
      "execution_count": 64,
      "outputs": [
        {
          "output_type": "stream",
          "name": "stdout",
          "text": [
            "ingrese un numero8\n",
            "8 x 1 = 8\n",
            "8 x 2 = 8\n",
            "8 x 3 = 8\n",
            "8 x 4 = 8\n",
            "8 x 5 = 8\n",
            "8 x 6 = 8\n",
            "8 x 7 = 8\n",
            "8 x 8 = 8\n",
            "8 x 9 = 8\n",
            "8 x 10 = 8\n"
          ]
        }
      ]
    },
    {
      "cell_type": "code",
      "source": [
        "suma = 0\n",
        "for i in range(5):\n",
        "  n = float(input(f\"ingrese un numero{i+1}\"))\n",
        "  suma +=n\n",
        "promedio = suma / 5\n",
        "print(\"el promedio es\", promedio)"
      ],
      "metadata": {
        "colab": {
          "base_uri": "https://localhost:8080/"
        },
        "id": "4s0tRjcv_nNY",
        "outputId": "f236a4d0-f3b4-497e-96b8-d024e9a24c1e"
      },
      "execution_count": 51,
      "outputs": [
        {
          "output_type": "stream",
          "name": "stdout",
          "text": [
            "ingrese un numero12\n",
            "ingrese un numero25\n",
            "ingrese un numero36\n",
            "ingrese un numero44\n",
            "ingrese un numero54\n",
            "el promedio es 4.2\n"
          ]
        }
      ]
    },
    {
      "cell_type": "code",
      "source": [
        "numeros =[float(input(f\"ingrese un numero {i+1}:\"))for i in range(5)]\n",
        "promedio = sum(numeros) / len(numeros)\n",
        "print(\"promedio\", promedio)"
      ],
      "metadata": {
        "colab": {
          "base_uri": "https://localhost:8080/"
        },
        "id": "oaHTXK5xEn_s",
        "outputId": "850b533e-953b-4207-9c7c-b9206479cb99"
      },
      "execution_count": 65,
      "outputs": [
        {
          "output_type": "stream",
          "name": "stdout",
          "text": [
            "ingrese un numero 1:2\n",
            "ingrese un numero 2:5\n",
            "ingrese un numero 3:8\n",
            "ingrese un numero 4:9\n",
            "ingrese un numero 5:4\n",
            "promedio 5.6\n"
          ]
        }
      ]
    },
    {
      "cell_type": "code",
      "source": [
        "n = int(input(\"ingresa un numero\"))\n",
        "contador = 0\n",
        "for i in range(1, n+1):\n",
        "    if i % 2 == 0:\n",
        "        contador += 1\n",
        "print(\"cantidad de pares\", contador)"
      ],
      "metadata": {
        "colab": {
          "base_uri": "https://localhost:8080/"
        },
        "id": "_zY4OUgkBCYu",
        "outputId": "5fd19c57-ec73-449d-d921-bd1764642ecd"
      },
      "execution_count": 67,
      "outputs": [
        {
          "output_type": "stream",
          "name": "stdout",
          "text": [
            "ingresa un numero5\n",
            "cantidad de pares 2\n"
          ]
        }
      ]
    },
    {
      "cell_type": "code",
      "source": [
        "n = int(input(\"ingresa un numero\"))\n",
        "pares = [i for i in range(1, n+1)if i % 2 == 0]\n",
        "print(\"cantidad de pares\", len (pares))"
      ],
      "metadata": {
        "colab": {
          "base_uri": "https://localhost:8080/"
        },
        "id": "NSiwjX4DFENz",
        "outputId": "c6c117d8-61ad-4e85-8ea5-9ccfe95bc36d"
      },
      "execution_count": 68,
      "outputs": [
        {
          "output_type": "stream",
          "name": "stdout",
          "text": [
            "ingresa un numero5\n",
            "cantidad de pares 2\n"
          ]
        }
      ]
    },
    {
      "cell_type": "code",
      "source": [
        "n = int(input(\"cuantos numeros de fibonacci\"))\n",
        "a, b = 0, 1\n",
        "for _ in range(n):\n",
        "  print(a)\n",
        "  a,b = b, a + b"
      ],
      "metadata": {
        "colab": {
          "base_uri": "https://localhost:8080/"
        },
        "id": "ddPCA0sXBd9_",
        "outputId": "f3374800-a0ca-4ba7-b1e6-f54bb62346a1"
      },
      "execution_count": 69,
      "outputs": [
        {
          "output_type": "stream",
          "name": "stdout",
          "text": [
            "cuantos numeros de fibonacci6\n",
            "0\n",
            "1\n",
            "1\n",
            "2\n",
            "3\n",
            "5\n"
          ]
        }
      ]
    }
  ]
}