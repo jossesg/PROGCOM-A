{
  "nbformat": 4,
  "nbformat_minor": 0,
  "metadata": {
    "colab": {
      "provenance": [],
      "authorship_tag": "ABX9TyO8J79C7Oc7HAkCr9txqNbO",
      "include_colab_link": true
    },
    "kernelspec": {
      "name": "python3",
      "display_name": "Python 3"
    },
    "language_info": {
      "name": "python"
    }
  },
  "cells": [
    {
      "cell_type": "markdown",
      "metadata": {
        "id": "view-in-github",
        "colab_type": "text"
      },
      "source": [
        "<a href=\"https://colab.research.google.com/github/jossesg/PROGCOM-A/blob/main/HQ4_STOP.ipynb\" target=\"_parent\"><img src=\"https://colab.research.google.com/assets/colab-badge.svg\" alt=\"Open In Colab\"/></a>"
      ]
    },
    {
      "cell_type": "code",
      "execution_count": 1,
      "metadata": {
        "id": "JAhN_JTM0Ocd",
        "colab": {
          "base_uri": "https://localhost:8080/"
        },
        "outputId": "6e1ceb34-8bc9-4ca5-b24c-a4fa49efb88c"
      },
      "outputs": [
        {
          "output_type": "stream",
          "name": "stdout",
          "text": [
            " bienvenido a stop la dificultad esta en modo fácil\n",
            "categorías: Marca de carro, Comida, Nombre, Apellido, Color\n",
            "la máquina también jugará contra ti.\n",
            "presiona Enter para comenzar...\n",
            "\n",
            "la siguiente letra es K\n",
            "escribe una palabra de las categorias que estan ahi con la letra que te toque\n",
            "\n",
            "Marca de carro: kia\n",
            "Comida: kuruma\n",
            "Nombre: kevin\n",
            "Apellido: klaus\n",
            "Color: kaka\n",
            "\n",
            " resultados\n",
            "categoría            tu respuesta         máquina              puntos\n",
            "Marca de carro       Kia                  Kia                  5/5\n",
            "Comida               Kuruma               ninguna              10/0\n",
            "Nombre               Kevin                ninguna              10/0\n",
            "Apellido             Klaus                ninguna              10/0\n",
            "Color                Kaka                 ninguna              10/0\n",
            "\n",
            " puntaje final \n",
            "Tu puntaje: 45\n",
            "Puntaje de la máquina: 5\n",
            " ganaste la partida.\n"
          ]
        }
      ],
      "source": [
        "import random\n",
        "import time\n",
        "\n",
        "\n",
        "categorias = [\"Marca de carro\", \"Comida\", \"Nombre\", \"Apellido\", \"Color\"]\n",
        "letras = [chr(i) for i in range(65, 91)]  # Letras A-Z\n",
        "\n",
        "\n",
        "palabras_maquina = {\n",
        "    \"Marca de carro\": [\"Mazda\", \"Chevrolet\", \"Toyota\", \"Ford\", \"Kia\", \"Honda\", \"Audi\", \"BMW\", \"Nissan\", \"Renault\"],\n",
        "    \"Comida\": [\"Manzana\", \"Pizza\", \"Arepa\", \"Lasaña\", \"Hamburguesa\", \"Tamal\", \"Cereal\", \"Pasta\", \"Empanada\", \"Sopa\"],\n",
        "    \"Nombre\": [\"Maria\", \"Luis\", \"Ana\", \"Carlos\", \"Pedro\", \"Lucía\", \"Andrés\", \"Sofía\", \"Laura\", \"Miguel\"],\n",
        "    \"Apellido\": [\"Martinez\", \"López\", \"Gómez\", \"Rodriguez\", \"Pérez\", \"Castro\", \"Vargas\", \"Sánchez\", \"Ruiz\", \"Torres\"],\n",
        "    \"Color\": [\"Morado\", \"Rojo\", \"Azul\", \"Verde\", \"Amarillo\", \"Negro\", \"Blanco\", \"Gris\", \"Naranja\", \"Rosa\", \"fucsia\",\"purpura\",\"celeste\",\"dorado\",\"plateado\",\"marron\",\"beige\",\"cian\"]\n",
        "}\n",
        "\n",
        "\n",
        "print(\" bienvenido a stop la dificultad esta en modo fácil\")\n",
        "print(\"categorías:\", \", \".join(categorias))\n",
        "print(\"la máquina también jugará contra ti.\")\n",
        "input(\"presiona Enter para comenzar...\")\n",
        "\n",
        "\n",
        "letra = random.choice(letras)\n",
        "print(\"\\nla siguiente letra es\", letra)\n",
        "print(\"escribe una palabra de las categorias que estan ahi con la letra que te toque\\n\")\n",
        "\n",
        "\n",
        "respuestas_humano = {}\n",
        "for cat in categorias:\n",
        "    respuesta = input(f\"{cat}: \").strip().capitalize()\n",
        "    respuestas_humano[cat] = respuesta if respuesta else \"ninguna\"\n",
        "\n",
        "\n",
        "respuestas_maquina = {}\n",
        "for cat in categorias:\n",
        "    opciones = [p for p in palabras_maquina[cat] if p[0].upper() == letra]\n",
        "    if opciones:\n",
        "        respuestas_maquina[cat] = random.choice(opciones)\n",
        "    else:\n",
        "        respuestas_maquina[cat] = \"ninguna\"\n",
        "\n",
        "\n",
        "puntaje_humano = 0\n",
        "puntaje_maquina = 0\n",
        "\n",
        "print(\"\\n resultados\")\n",
        "print(f\"{'categoría':20} {'tu respuesta':20} {'máquina':20} {'puntos'}\")\n",
        "\n",
        "for cat in categorias:\n",
        "    hum = respuestas_humano[cat]\n",
        "    maq = respuestas_maquina[cat]\n",
        "\n",
        "    puntos_hum = 0\n",
        "    puntos_maq = 0\n",
        "\n",
        "    if hum != \"ninguna\" and hum[0].upper() == letra:\n",
        "        puntos_hum = 10\n",
        "    if maq != \"ninguna\":\n",
        "        puntos_maq = 10\n",
        "\n",
        "\n",
        "    if hum.lower() == maq.lower() and hum != \"ninguna\":\n",
        "        puntos_hum = 5\n",
        "        puntos_maq = 5\n",
        "\n",
        "    puntaje_humano += puntos_hum\n",
        "    puntaje_maquina += puntos_maq\n",
        "\n",
        "    print(f\"{cat:20} {hum:20} {maq:20} {puntos_hum}/{puntos_maq}\")\n",
        "\n",
        "\n",
        "print(\"\\n puntaje final \")\n",
        "print(f\"Tu puntaje: {puntaje_humano}\")\n",
        "print(f\"Puntaje de la máquina: {puntaje_maquina}\")\n",
        "\n",
        "if puntaje_humano > puntaje_maquina:\n",
        "    print(\" ganaste la partida.\")\n",
        "elif puntaje_humano < puntaje_maquina:\n",
        "    print(\" la maquina ganó\")\n",
        "else:\n",
        "    print(\" empate vuelve a intentarlo\")\n"
      ]
    }
  ]
}