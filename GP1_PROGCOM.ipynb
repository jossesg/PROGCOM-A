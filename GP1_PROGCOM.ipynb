{
  "nbformat": 4,
  "nbformat_minor": 0,
  "metadata": {
    "colab": {
      "provenance": [],
      "authorship_tag": "ABX9TyPZ31ni62McCZ95uYUGFrNV",
      "include_colab_link": true
    },
    "kernelspec": {
      "name": "python3",
      "display_name": "Python 3"
    },
    "language_info": {
      "name": "python"
    }
  },
  "cells": [
    {
      "cell_type": "markdown",
      "metadata": {
        "id": "view-in-github",
        "colab_type": "text"
      },
      "source": [
        "<a href=\"https://colab.research.google.com/github/jossesg/PROGCOM-A/blob/main/GP1_PROGCOM.ipynb\" target=\"_parent\"><img src=\"https://colab.research.google.com/assets/colab-badge.svg\" alt=\"Open In Colab\"/></a>"
      ]
    },
    {
      "cell_type": "code",
      "execution_count": 1,
      "metadata": {
        "colab": {
          "base_uri": "https://localhost:8080/"
        },
        "id": "2x2Ywq5suqte",
        "outputId": "9b80a7ba-ec92-4374-a6a6-78294008edd9"
      },
      "outputs": [
        {
          "output_type": "stream",
          "name": "stdout",
          "text": [
            "Bienvenido a Piedra, Papel, Tijera, Lagarto o Spock\n",
            "Elige una opción (piedra, papel, tijera, lagarto, spock): tijera\n",
            "\n",
            "Tú elegiste: tijera\n",
            "La computadora eligió: spock\n",
            "\n",
            "Perdiste \n"
          ]
        }
      ],
      "source": [
        "import random\n",
        "\n",
        "\n",
        "opciones = [\"piedra\", \"papel\", \"tijera\", \"lagarto\", \"spock\"]\n",
        "\n",
        "\n",
        "reglas = {\n",
        "    \"tijera\": [\"papel\", \"lagarto\"],\n",
        "    \"papel\": [\"piedra\", \"spock\"],\n",
        "    \"piedra\": [\"lagarto\", \"tijera\"],\n",
        "    \"lagarto\": [\"spock\", \"papel\"],\n",
        "    \"spock\": [\"tijera\", \"piedra\"]\n",
        "}\n",
        "\n",
        "def jugar():\n",
        "    print(\"bienvenido a piedra, papel, Tijera, lagarto o spock\")\n",
        "    jugador = input(\"elige una opción (piedra, papel, tijera, lagarto, spock): \").lower()\n",
        "\n",
        "    if jugador not in opciones:\n",
        "        print(\"opción inválida, intenta de nuevo.\")\n",
        "        return\n",
        "\n",
        "    computadora = random.choice(opciones)\n",
        "    print(f\"usted elegio: {jugador}\")\n",
        "    print(f\"el contrincate eligio: {computadora}\\n\")\n",
        "\n",
        "    if jugador == computadora:\n",
        "        print(\"empataron\")\n",
        "    elif computadora in reglas[jugador]:\n",
        "        print(\"ganaste \")\n",
        "    else:\n",
        "        print(\"perdiste\")\n",
        "\n",
        "jugar()\n"
      ]
    }
  ]
}