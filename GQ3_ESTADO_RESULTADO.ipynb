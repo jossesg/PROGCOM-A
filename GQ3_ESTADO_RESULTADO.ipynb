{
  "nbformat": 4,
  "nbformat_minor": 0,
  "metadata": {
    "colab": {
      "provenance": []
    },
    "kernelspec": {
      "name": "python3",
      "display_name": "Python 3"
    },
    "language_info": {
      "name": "python"
    }
  },
  "cells": [
    {
      "cell_type": "code",
      "execution_count": 4,
      "metadata": {
        "colab": {
          "base_uri": "https://localhost:8080/"
        },
        "id": "muNQUpxcxWcS",
        "outputId": "d2af8c09-ca6d-49ee-a38f-dd0163757216"
      },
      "outputs": [
        {
          "output_type": "stream",
          "name": "stdout",
          "text": [
            "Ingresa el monto de Ventas Netas: 12000\n",
            "Ingresa la Mano de Obra Directa (MOD): 3500\n",
            "Ingresa los Costos Indirectos de Fabricación (CIF): 5000\n",
            "Ingresa el Costo de Mercancía Vendida (CMV): 15000\n",
            "Ingresa los Gastos Operativos Totales: 6000\n",
            " estado de resultados \n",
            "ventas netas 12,000.00\n",
            "costo de producción 8,500.00\n",
            "costo de mercancía vendida (CMV) 15,000.00\n",
            "utilidad bruta  -3,000.00\n",
            "gastos operativos  6,000.00\n",
            "utilidad operativa  -9,000.00\n"
          ]
        }
      ],
      "source": [
        "ventas = float(input(\"Ingresa el monto de Ventas Netas: \"))\n",
        "mod = float(input(\"Ingresa la Mano de Obra Directa (MOD): \"))\n",
        "cif = float(input(\"Ingresa los Costos Indirectos de Fabricación (CIF): \"))\n",
        "cmv = float(input(\"Ingresa el Costo de Mercancía Vendida (CMV): \"))\n",
        "gastos = float(input(\"Ingresa los Gastos Operativos Totales: \"))\n",
        "\n",
        "costo_produccion = mod + cif\n",
        "utilidad_bruta = ventas - cmv\n",
        "utilidad_operativa = utilidad_bruta - gastos\n",
        "\n",
        "print(\" estado de resultados \")\n",
        "print(f\"ventas netas {ventas:,.2f}\")\n",
        "print(f\"costo de producción {costo_produccion:,.2f}\")\n",
        "print(f\"costo de mercancía vendida (CMV) {cmv:,.2f}\")\n",
        "print(f\"utilidad bruta  {utilidad_bruta:,.2f}\")\n",
        "print(f\"gastos operativos  {gastos:,.2f}\")\n",
        "print(f\"utilidad operativa  {utilidad_operativa:,.2f}\")"
      ]
    }
  ]
}