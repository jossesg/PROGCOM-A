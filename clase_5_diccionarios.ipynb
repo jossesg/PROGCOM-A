{
  "nbformat": 4,
  "nbformat_minor": 0,
  "metadata": {
    "colab": {
      "provenance": [],
      "authorship_tag": "ABX9TyOnoxBm39h/VcylWmVZkqDw",
      "include_colab_link": true
    },
    "kernelspec": {
      "name": "python3",
      "display_name": "Python 3"
    },
    "language_info": {
      "name": "python"
    }
  },
  "cells": [
    {
      "cell_type": "markdown",
      "metadata": {
        "id": "view-in-github",
        "colab_type": "text"
      },
      "source": [
        "<a href=\"https://colab.research.google.com/github/jossesg/PROGCOM-A/blob/main/clase_5_diccionarios.ipynb\" target=\"_parent\"><img src=\"https://colab.research.google.com/assets/colab-badge.svg\" alt=\"Open In Colab\"/></a>"
      ]
    },
    {
      "cell_type": "markdown",
      "source": [
        "#diccionarios\n",
        "\n",
        "un tipo de datos que tiene las siguientes caracteristicas\n",
        "\n",
        "1. no tiene indexacion\n"
      ],
      "metadata": {
        "id": "VUx4yrHkdXak"
      }
    },
    {
      "cell_type": "code",
      "execution_count": 2,
      "metadata": {
        "colab": {
          "base_uri": "https://localhost:8080/"
        },
        "id": "GBVCVrPxVOlQ",
        "outputId": "9df0a30c-f982-450d-ea68-bd23dbfdc14c"
      },
      "outputs": [
        {
          "output_type": "execute_result",
          "data": {
            "text/plain": [
              "10"
            ]
          },
          "metadata": {},
          "execution_count": 2
        }
      ],
      "source": [
        "lista=list(range(1,11))\n",
        "lista[-1]"
      ]
    },
    {
      "cell_type": "markdown",
      "source": [
        "un tipo de dato que tiene como  sintaxis:\n",
        "\n",
        "\n",
        "\n",
        "```\n",
        "\n",
        "nombre:dict={}\n",
        "dict2={\"clave\":valor}\n",
        "\n",
        "\n",
        "```\n",
        "\n",
        "* la \"clave o llave\": siempre es alfanumerica\n",
        "\n",
        "* valor: puede ser cualquier tipo de dato\n",
        "\n",
        "posee las siguientes caracteristicas\n",
        "\n",
        "1. no tiene indexacion\n",
        "\n"
      ],
      "metadata": {
        "id": "Kp9YkCRtejlU"
      }
    },
    {
      "cell_type": "code",
      "source": [
        "liga_justicia = {\n",
        "    \"superheroes\": [\"superman\", \"batman\", \"wonder woman\"],\n",
        "    \"villanos\": [\"lex luthor\", \"joker\", \"cheetah\"],\n",
        "    \"identidad secreta\": [\"clark kent\", \"bruce wayne\", \"diana prince\"]\n",
        "}\n",
        "\n",
        "\n"
      ],
      "metadata": {
        "id": "F2luz1JkfQlk"
      },
      "execution_count": 51,
      "outputs": []
    },
    {
      "cell_type": "code",
      "source": [
        "print(liga_justicia[\"villanos\"])"
      ],
      "metadata": {
        "colab": {
          "base_uri": "https://localhost:8080/"
        },
        "id": "jQj0mtCfgYfp",
        "outputId": "0ff40c6b-444d-4ed5-fd14-8bf2ddb82c0b"
      },
      "execution_count": 55,
      "outputs": [
        {
          "output_type": "stream",
          "name": "stdout",
          "text": [
            "['lex luthor', 'joker', 'cheetah']\n"
          ]
        }
      ]
    },
    {
      "cell_type": "markdown",
      "source": [
        "2. puede almacenar cualquier tipo de valor.\n",
        "\n",
        "3. es mutable"
      ],
      "metadata": {
        "id": "wtCoikxni61P"
      }
    },
    {
      "cell_type": "markdown",
      "source": [
        ".keys(): metodo de los diccionarios que me permite adquirir todas las llaves o claves del diccionario"
      ],
      "metadata": {
        "id": "E0CFkdGojKnn"
      }
    },
    {
      "cell_type": "code",
      "source": [
        "liga_justicia.keys()"
      ],
      "metadata": {
        "colab": {
          "base_uri": "https://localhost:8080/"
        },
        "id": "vWqMHbairgLo",
        "outputId": "c548a07b-4c68-46c9-e29d-42c4758e95f0"
      },
      "execution_count": 54,
      "outputs": [
        {
          "output_type": "execute_result",
          "data": {
            "text/plain": [
              "dict_keys(['superheroes', 'villanos', 'identidad secreta'])"
            ]
          },
          "metadata": {},
          "execution_count": 54
        }
      ]
    },
    {
      "cell_type": "code",
      "source": [
        "liga_justicia.copy()"
      ],
      "metadata": {
        "colab": {
          "base_uri": "https://localhost:8080/"
        },
        "id": "m1qd8FvXrgiv",
        "outputId": "0bf96692-94d0-42bd-f667-cabbbc381b51"
      },
      "execution_count": 43,
      "outputs": [
        {
          "output_type": "execute_result",
          "data": {
            "text/plain": [
              "{'superheroes': ['superman', 'batman', 'wonder woman'],\n",
              " 'villanos': ['lex luthor', 'joker', 'cheetah'],\n",
              " 'identidad secreta': ['clark kent', 'bruce wayne', 'diana prince']}"
            ]
          },
          "metadata": {},
          "execution_count": 43
        }
      ]
    },
    {
      "cell_type": "code",
      "source": [
        "nuevo_dic = dict.fromkeys([\"Pícaros\", \"Liga de la Injusticia\", \"Sociedad secreta de supervillanos\"], 0)\n",
        "print(nuevo_dic)"
      ],
      "metadata": {
        "colab": {
          "base_uri": "https://localhost:8080/"
        },
        "id": "jBu709-esKQ3",
        "outputId": "baf2032f-b2ff-47c0-b1fb-b5761a5281a5"
      },
      "execution_count": 38,
      "outputs": [
        {
          "output_type": "stream",
          "name": "stdout",
          "text": [
            "{'Pícaros': 0, 'Liga de la Injusticia': 0, 'Sociedad secreta de supervillanos': 0}\n"
          ]
        }
      ]
    },
    {
      "cell_type": "code",
      "source": [
        "liga_justicia.items()"
      ],
      "metadata": {
        "colab": {
          "base_uri": "https://localhost:8080/"
        },
        "id": "dFbz_MjRrgWw",
        "outputId": "c6bb2c56-05e8-4162-f554-3869a4ec3d8b"
      },
      "execution_count": 56,
      "outputs": [
        {
          "output_type": "execute_result",
          "data": {
            "text/plain": [
              "dict_items([('superheroes', ['superman', 'batman', 'wonder woman']), ('villanos', ['lex luthor', 'joker', 'cheetah']), ('identidad secreta', ['clark kent', 'bruce wayne', 'diana prince'])])"
            ]
          },
          "metadata": {},
          "execution_count": 56
        }
      ]
    },
    {
      "cell_type": "code",
      "source": [
        "liga_justicia.get(\"superhéroes\")"
      ],
      "metadata": {
        "id": "hVNgli0dsfIv"
      },
      "execution_count": 57,
      "outputs": []
    },
    {
      "cell_type": "code",
      "source": [
        "liga_justicia.items()"
      ],
      "metadata": {
        "colab": {
          "base_uri": "https://localhost:8080/"
        },
        "id": "JZjo3q5Wshtu",
        "outputId": "7eb33cd7-16a7-45d4-fdfd-6dc753291ef9"
      },
      "execution_count": 58,
      "outputs": [
        {
          "output_type": "execute_result",
          "data": {
            "text/plain": [
              "dict_items([('superheroes', ['superman', 'batman', 'wonder woman']), ('villanos', ['lex luthor', 'joker', 'cheetah']), ('identidad secreta', ['clark kent', 'bruce wayne', 'diana prince'])])"
            ]
          },
          "metadata": {},
          "execution_count": 58
        }
      ]
    },
    {
      "cell_type": "code",
      "source": [
        "liga_justicia.pop(\"villanos\")\n",
        "print(liga_justicia)"
      ],
      "metadata": {
        "colab": {
          "base_uri": "https://localhost:8080/"
        },
        "id": "KLjMPcMnslC3",
        "outputId": "e4aa19fe-74b1-43c7-c694-c7e5e6988a7b"
      },
      "execution_count": 61,
      "outputs": [
        {
          "output_type": "stream",
          "name": "stdout",
          "text": [
            "{'superheroes': ['superman', 'batman', 'wonder woman'], 'identidad secreta': ['clark kent', 'bruce wayne', 'diana prince']}\n"
          ]
        }
      ]
    },
    {
      "cell_type": "code",
      "source": [
        "liga_justicia.popitem()"
      ],
      "metadata": {
        "colab": {
          "base_uri": "https://localhost:8080/"
        },
        "id": "I2ySSh2csnw-",
        "outputId": "142e7f80-c368-4236-a64a-12812d00329f"
      },
      "execution_count": 62,
      "outputs": [
        {
          "output_type": "execute_result",
          "data": {
            "text/plain": [
              "('identidad secreta', ['clark kent', 'bruce wayne', 'diana prince'])"
            ]
          },
          "metadata": {},
          "execution_count": 62
        }
      ]
    },
    {
      "cell_type": "code",
      "source": [
        "liga_justicia.setdefault(\"Villanos\", [\"Lex Luthor\", \"Joker\", \"Cheetah\"])\n",
        "print(liga_justicia)\n",
        "\n",
        "liga_justicia.setdefault(\"Villanos\", [\"El pinguino, 2 caras\"])\n",
        "print(liga_justicia)\n",
        "\n",
        "liga_justicia.setdefault(\"aloados\", [\"Robin\", \"Aquaman\"])\n",
        "print(liga_justicia)"
      ],
      "metadata": {
        "colab": {
          "base_uri": "https://localhost:8080/"
        },
        "id": "D7vfqalIsq8e",
        "outputId": "2cc63c22-be8d-4af4-86c2-772031890fbb"
      },
      "execution_count": 63,
      "outputs": [
        {
          "output_type": "stream",
          "name": "stdout",
          "text": [
            "{'superheroes': ['superman', 'batman', 'wonder woman'], 'Villanos': ['Lex Luthor', 'Joker', 'Cheetah']}\n",
            "{'superheroes': ['superman', 'batman', 'wonder woman'], 'Villanos': ['Lex Luthor', 'Joker', 'Cheetah']}\n",
            "{'superheroes': ['superman', 'batman', 'wonder woman'], 'Villanos': ['Lex Luthor', 'Joker', 'Cheetah'], 'aloados': ['Robin', 'Aquaman']}\n"
          ]
        }
      ]
    },
    {
      "cell_type": "code",
      "source": [
        "liga_justicia.update()"
      ],
      "metadata": {
        "id": "kzPv9OXKstKe"
      },
      "execution_count": 65,
      "outputs": []
    },
    {
      "cell_type": "code",
      "source": [
        "liga_justicia.values()"
      ],
      "metadata": {
        "colab": {
          "base_uri": "https://localhost:8080/"
        },
        "id": "5g6BrHrTstee",
        "outputId": "ead5d89a-8142-4e03-c1ea-d645038024e4"
      },
      "execution_count": 66,
      "outputs": [
        {
          "output_type": "execute_result",
          "data": {
            "text/plain": [
              "dict_values([['superman', 'batman', 'wonder woman'], ['Lex Luthor', 'Joker', 'Cheetah'], ['Robin', 'Aquaman']])"
            ]
          },
          "metadata": {},
          "execution_count": 66
        }
      ]
    },
    {
      "cell_type": "code",
      "source": [
        "liga_justicia.clear()"
      ],
      "metadata": {
        "id": "ZXf5yLFzston"
      },
      "execution_count": 67,
      "outputs": []
    }
  ]
}