{
  "nbformat": 4,
  "nbformat_minor": 0,
  "metadata": {
    "colab": {
      "provenance": [],
      "authorship_tag": "ABX9TyOtFhztqTbfIsa8OlHJ2Pom",
      "include_colab_link": true
    },
    "kernelspec": {
      "name": "python3",
      "display_name": "Python 3"
    },
    "language_info": {
      "name": "python"
    }
  },
  "cells": [
    {
      "cell_type": "markdown",
      "metadata": {
        "id": "view-in-github",
        "colab_type": "text"
      },
      "source": [
        "<a href=\"https://colab.research.google.com/github/jossesg/PROGCOM-A/blob/main/10_ejercicios_parte_3.ipynb\" target=\"_parent\"><img src=\"https://colab.research.google.com/assets/colab-badge.svg\" alt=\"Open In Colab\"/></a>"
      ]
    },
    {
      "cell_type": "markdown",
      "source": [
        "ejercicio 1"
      ],
      "metadata": {
        "id": "_-h0TfBbaRig"
      }
    },
    {
      "cell_type": "code",
      "source": [
        "cuadrado = lambda x: x**2"
      ],
      "metadata": {
        "id": "1RWTBHsSaQjF"
      },
      "execution_count": null,
      "outputs": []
    },
    {
      "cell_type": "code",
      "source": [
        "print(cuadrado(5))"
      ],
      "metadata": {
        "colab": {
          "base_uri": "https://localhost:8080/"
        },
        "id": "hYiPTMF6dQZw",
        "outputId": "e4fe5082-b984-40db-db78-c0a69a33b84d"
      },
      "execution_count": null,
      "outputs": [
        {
          "output_type": "stream",
          "name": "stdout",
          "text": [
            "25\n"
          ]
        }
      ]
    },
    {
      "cell_type": "code",
      "source": [
        "print(cuadrado(10))"
      ],
      "metadata": {
        "colab": {
          "base_uri": "https://localhost:8080/"
        },
        "id": "Ksyav4DxdOK6",
        "outputId": "e110104a-7981-411c-ba8b-19e69ca58fdb"
      },
      "execution_count": null,
      "outputs": [
        {
          "output_type": "stream",
          "name": "stdout",
          "text": [
            "100\n"
          ]
        }
      ]
    },
    {
      "cell_type": "markdown",
      "source": [
        "ejercicio 3"
      ],
      "metadata": {
        "id": "a65EQUaIaUNB"
      }
    },
    {
      "cell_type": "code",
      "execution_count": null,
      "metadata": {
        "id": "AAMFroaCZ6zo"
      },
      "outputs": [],
      "source": [
        "operaciones = lambda a, b: (a+b, a-b, a*b, a/b if b != 0 else \"0\")"
      ]
    },
    {
      "cell_type": "code",
      "source": [
        "print(operaciones(7, 0))"
      ],
      "metadata": {
        "colab": {
          "base_uri": "https://localhost:8080/"
        },
        "id": "mjHZzrQsdWIp",
        "outputId": "9804fd8c-e9bb-47ef-c7e9-0dbc90b2fd9f"
      },
      "execution_count": null,
      "outputs": [
        {
          "output_type": "stream",
          "name": "stdout",
          "text": [
            "(7, 7, 0, '0')\n"
          ]
        }
      ]
    },
    {
      "cell_type": "code",
      "source": [
        "print(operaciones(10, 2))"
      ],
      "metadata": {
        "colab": {
          "base_uri": "https://localhost:8080/"
        },
        "id": "xPsms6hKdXSy",
        "outputId": "78e46ea6-6544-4e85-ed50-4ab77adb69ad"
      },
      "execution_count": null,
      "outputs": [
        {
          "output_type": "stream",
          "name": "stdout",
          "text": [
            "(12, 8, 20, 5.0)\n"
          ]
        }
      ]
    },
    {
      "cell_type": "markdown",
      "source": [
        "ejercicio 4"
      ],
      "metadata": {
        "id": "dbDKOGPbb0Bk"
      }
    },
    {
      "cell_type": "code",
      "source": [
        "mayor_edad = lambda edad: \"Mayor de edad\" if edad >= 18 else \"Menor de edad\""
      ],
      "metadata": {
        "id": "xpCua0qmb1Id"
      },
      "execution_count": null,
      "outputs": []
    },
    {
      "cell_type": "code",
      "source": [
        "print(mayor_edad(15))"
      ],
      "metadata": {
        "colab": {
          "base_uri": "https://localhost:8080/"
        },
        "id": "IT9fTeY4cZR6",
        "outputId": "332463f9-46cf-4987-9e0e-cfa41b59e68d"
      },
      "execution_count": null,
      "outputs": [
        {
          "output_type": "stream",
          "name": "stdout",
          "text": [
            "Menor de edad\n"
          ]
        }
      ]
    },
    {
      "cell_type": "code",
      "source": [
        "print(mayor_edad(20))"
      ],
      "metadata": {
        "colab": {
          "base_uri": "https://localhost:8080/"
        },
        "id": "bdPCHV5jdcGy",
        "outputId": "d43d482d-12c0-450d-c855-353a9820d535"
      },
      "execution_count": null,
      "outputs": [
        {
          "output_type": "stream",
          "name": "stdout",
          "text": [
            "Mayor de edad\n"
          ]
        }
      ]
    },
    {
      "cell_type": "markdown",
      "source": [
        "ejercicio 5"
      ],
      "metadata": {
        "id": "9tTHyTMSdlbk"
      }
    },
    {
      "cell_type": "code",
      "source": [
        "es_palindromo = lambda palabra: \"Es palíndromo\" if palabra.lower() == palabra.lower()[::-1] else \"No es palíndromo\""
      ],
      "metadata": {
        "id": "vsSFfZf3dnS8"
      },
      "execution_count": null,
      "outputs": []
    },
    {
      "cell_type": "code",
      "source": [
        "print(es_palindromo(\"hoja\"))"
      ],
      "metadata": {
        "colab": {
          "base_uri": "https://localhost:8080/"
        },
        "id": "H6N2gkLUdzru",
        "outputId": "72a706d5-27b8-491a-d861-91dd2a9a2f6b"
      },
      "execution_count": null,
      "outputs": [
        {
          "output_type": "stream",
          "name": "stdout",
          "text": [
            "No es palíndromo\n"
          ]
        }
      ]
    },
    {
      "cell_type": "code",
      "source": [
        "print(es_palindromo(\"jose\"))"
      ],
      "metadata": {
        "colab": {
          "base_uri": "https://localhost:8080/"
        },
        "id": "s0xHg5aBd0tl",
        "outputId": "7a986a1a-0c17-42d4-d8f7-e4fb5495a273"
      },
      "execution_count": null,
      "outputs": [
        {
          "output_type": "stream",
          "name": "stdout",
          "text": [
            "No es palíndromo\n"
          ]
        }
      ]
    },
    {
      "cell_type": "code",
      "source": [
        "print(es_palindromo(\"oso\"))"
      ],
      "metadata": {
        "colab": {
          "base_uri": "https://localhost:8080/"
        },
        "id": "o0jQLhHaeBV4",
        "outputId": "666cb995-f6d9-4030-b7d8-9908a0d95c72"
      },
      "execution_count": null,
      "outputs": [
        {
          "output_type": "stream",
          "name": "stdout",
          "text": [
            "Es palíndromo\n"
          ]
        }
      ]
    },
    {
      "cell_type": "markdown",
      "source": [
        "ejercicio 6"
      ],
      "metadata": {
        "id": "xMyqoR1TeIGq"
      }
    },
    {
      "cell_type": "code",
      "source": [
        "contar_vocales = lambda texto: sum(1 for c in texto if c in \"aeiouAEIOU\")"
      ],
      "metadata": {
        "id": "PIHhfjX5eHz8"
      },
      "execution_count": null,
      "outputs": []
    },
    {
      "cell_type": "code",
      "source": [
        "print(contar_vocales(\"Hola Mundo\"))"
      ],
      "metadata": {
        "colab": {
          "base_uri": "https://localhost:8080/"
        },
        "id": "pKBwl3Jled4c",
        "outputId": "92377cb4-ae22-4598-b722-dd93ae8849fd"
      },
      "execution_count": null,
      "outputs": [
        {
          "output_type": "stream",
          "name": "stdout",
          "text": [
            "4\n"
          ]
        }
      ]
    },
    {
      "cell_type": "code",
      "source": [
        "print(contar_vocales(\"joseeee\"))"
      ],
      "metadata": {
        "colab": {
          "base_uri": "https://localhost:8080/"
        },
        "id": "76hqS7XkehO8",
        "outputId": "53901de6-5392-45cc-f317-7e75bb4f670b"
      },
      "execution_count": null,
      "outputs": [
        {
          "output_type": "stream",
          "name": "stdout",
          "text": [
            "5\n"
          ]
        }
      ]
    },
    {
      "cell_type": "markdown",
      "source": [
        "ejercicio 7"
      ],
      "metadata": {
        "id": "d-gZNFsMeqFd"
      }
    },
    {
      "cell_type": "code",
      "source": [
        "suma_lista = lambda lista: sum(lista)"
      ],
      "metadata": {
        "id": "W85hAsN4ep7Q"
      },
      "execution_count": null,
      "outputs": []
    },
    {
      "cell_type": "code",
      "source": [
        "print(suma_lista([1, 2, 3, 4]))"
      ],
      "metadata": {
        "colab": {
          "base_uri": "https://localhost:8080/"
        },
        "id": "Bd6zbaQheyim",
        "outputId": "c48c7940-984c-4f60-84ec-a790642650e4"
      },
      "execution_count": null,
      "outputs": [
        {
          "output_type": "stream",
          "name": "stdout",
          "text": [
            "10\n"
          ]
        }
      ]
    },
    {
      "cell_type": "code",
      "source": [
        "print(suma_lista([10, 20, 0]))"
      ],
      "metadata": {
        "colab": {
          "base_uri": "https://localhost:8080/"
        },
        "id": "vAKJIcEUe1PW",
        "outputId": "f3e9b2f8-36aa-4f2d-d870-4c2c9b196ea3"
      },
      "execution_count": null,
      "outputs": [
        {
          "output_type": "stream",
          "name": "stdout",
          "text": [
            "30\n"
          ]
        }
      ]
    },
    {
      "cell_type": "markdown",
      "source": [
        "ejercicio 8\n"
      ],
      "metadata": {
        "id": "ME8AkyeFe6iP"
      }
    },
    {
      "cell_type": "code",
      "source": [
        "mayor_menor = lambda lista: (max(lista), min(lista)) if lista else (\"Lista vacía\", \"Lista vacía\")"
      ],
      "metadata": {
        "id": "JFY4oGspe83v"
      },
      "execution_count": null,
      "outputs": []
    },
    {
      "cell_type": "code",
      "source": [
        "print(mayor_menor([4, 1, 9, 2]))"
      ],
      "metadata": {
        "colab": {
          "base_uri": "https://localhost:8080/"
        },
        "id": "IRYXvM0BfYFu",
        "outputId": "75289b82-57ae-4e9b-850c-768bf1a6253a"
      },
      "execution_count": null,
      "outputs": [
        {
          "output_type": "stream",
          "name": "stdout",
          "text": [
            "(9, 1)\n"
          ]
        }
      ]
    },
    {
      "cell_type": "code",
      "source": [
        "print(mayor_menor([5, 1, 33]))"
      ],
      "metadata": {
        "colab": {
          "base_uri": "https://localhost:8080/"
        },
        "id": "nClDr9uQfbD8",
        "outputId": "ba05fc9a-974e-4603-8254-9b4c0270a9c1"
      },
      "execution_count": null,
      "outputs": [
        {
          "output_type": "stream",
          "name": "stdout",
          "text": [
            "(33, 1)\n"
          ]
        }
      ]
    },
    {
      "cell_type": "markdown",
      "source": [
        "ejercicio 9"
      ],
      "metadata": {
        "id": "kklslLEOfijt"
      }
    },
    {
      "cell_type": "code",
      "source": [
        "invertir_lista = lambda lista: lista[::-1]"
      ],
      "metadata": {
        "id": "QhyywYApgRsi"
      },
      "execution_count": null,
      "outputs": []
    },
    {
      "cell_type": "code",
      "source": [
        "print(invertir_lista([1, 2, 3, 4]))"
      ],
      "metadata": {
        "colab": {
          "base_uri": "https://localhost:8080/"
        },
        "id": "jBw2JdQjgiTG",
        "outputId": "2458c619-b6c6-429d-c0ae-5be8c7224076"
      },
      "execution_count": null,
      "outputs": [
        {
          "output_type": "stream",
          "name": "stdout",
          "text": [
            "[4, 3, 2, 1]\n"
          ]
        }
      ]
    },
    {
      "cell_type": "code",
      "source": [
        "print(invertir_lista([42, 22, 63, 74]))"
      ],
      "metadata": {
        "colab": {
          "base_uri": "https://localhost:8080/"
        },
        "id": "3PQYPrVhglcH",
        "outputId": "adcf12e7-5dd8-4b8f-8b1c-4236d87addcb"
      },
      "execution_count": null,
      "outputs": [
        {
          "output_type": "stream",
          "name": "stdout",
          "text": [
            "[74, 63, 22, 42]\n"
          ]
        }
      ]
    },
    {
      "cell_type": "markdown",
      "source": [
        "ejercicio 10"
      ],
      "metadata": {
        "id": "yy1C2VLNgsFv"
      }
    },
    {
      "cell_type": "code",
      "source": [
        "nombres_vocal = lambda lista: sum(1 for nombre in lista if nombre[0] in \"aeiou\")"
      ],
      "metadata": {
        "id": "mISEyIblguZw"
      },
      "execution_count": 36,
      "outputs": []
    },
    {
      "cell_type": "code",
      "source": [
        "print(nombres_vocal([\"sergio\", \"jose\", \"david\", \"Lucia\", \"sebastian\"]))"
      ],
      "metadata": {
        "colab": {
          "base_uri": "https://localhost:8080/"
        },
        "id": "tnOQncfXhInL",
        "outputId": "b05c2148-d03a-44ca-d224-fde0928e1d2a"
      },
      "execution_count": 37,
      "outputs": [
        {
          "output_type": "stream",
          "name": "stdout",
          "text": [
            "0\n"
          ]
        }
      ]
    },
    {
      "cell_type": "code",
      "source": [
        "print(nombres_vocal([\"ana\", \"Pedro\", \"oscar\", \"alejandro\", \"aldemar\"]))"
      ],
      "metadata": {
        "colab": {
          "base_uri": "https://localhost:8080/"
        },
        "id": "FYRRO2KKhVe9",
        "outputId": "250ffea9-aa3c-4312-a828-d0baf1902377"
      },
      "execution_count": 39,
      "outputs": [
        {
          "output_type": "stream",
          "name": "stdout",
          "text": [
            "4\n"
          ]
        }
      ]
    }
  ]
}