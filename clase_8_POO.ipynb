{
  "nbformat": 4,
  "nbformat_minor": 0,
  "metadata": {
    "colab": {
      "provenance": [],
      "authorship_tag": "ABX9TyPLwkGzpxDc2xu2Z3u10q1X",
      "include_colab_link": true
    },
    "kernelspec": {
      "name": "python3",
      "display_name": "Python 3"
    },
    "language_info": {
      "name": "python"
    }
  },
  "cells": [
    {
      "cell_type": "markdown",
      "metadata": {
        "id": "view-in-github",
        "colab_type": "text"
      },
      "source": [
        "<a href=\"https://colab.research.google.com/github/jossesg/PROGCOM-A/blob/main/clase_8_POO.ipynb\" target=\"_parent\"><img src=\"https://colab.research.google.com/assets/colab-badge.svg\" alt=\"Open In Colab\"/></a>"
      ]
    },
    {
      "cell_type": "code",
      "execution_count": 1,
      "metadata": {
        "colab": {
          "base_uri": "https://localhost:8080/"
        },
        "id": "-w7RjwDsN-nZ",
        "outputId": "f8318970-f208-469d-c558-1f5db3df3d38"
      },
      "outputs": [
        {
          "output_type": "execute_result",
          "data": {
            "text/plain": [
              "['lirio', 'clavel', 'geranio']"
            ]
          },
          "metadata": {},
          "execution_count": 1
        }
      ],
      "source": [
        "#floristeria\n",
        "#1 conjunto de flores se elige aleatoriamente una cantidad\n",
        "\n",
        "import random\n",
        "\n",
        "flores=[\"tulipan\", \"lirio\",\"margarita\",\"girasol\",\"dahlia\",\"rosa\",\"clavel\",\"geranio\"]\n",
        "seleccion=random.sample(flores,3)\n",
        "seleccion"
      ]
    },
    {
      "cell_type": "code",
      "source": [
        "def inventario():\n",
        "  flores=[\"tulipan\", \"lirio\",\"margarita\",\"girasol\",\"dahlia\",\"rosa\",\"clavel\",\"geranio\"]\n",
        "  seleccion=random.sample(flores,3)\n",
        "\n",
        "  inventario={\n",
        "      flor:{\n",
        "          \"precio\":random.randint(2000,6000),\n",
        "          \"cantidad\":random.randint(10,50),\n",
        "          \"vendidas\":0\n",
        "      } for flor in seleccion\n",
        "      }\n",
        "  return inventario\n"
      ],
      "metadata": {
        "id": "n50-3Q5oPNdX"
      },
      "execution_count": 5,
      "outputs": []
    },
    {
      "cell_type": "code",
      "source": [
        "flor=inventario()\n",
        "flor.items()"
      ],
      "metadata": {
        "colab": {
          "base_uri": "https://localhost:8080/"
        },
        "id": "awhXfBdZRC-9",
        "outputId": "6bee95fc-d27e-4d13-810b-11b88064db3e"
      },
      "execution_count": 8,
      "outputs": [
        {
          "output_type": "execute_result",
          "data": {
            "text/plain": [
              "dict_items([('dahlia', {'precio': 4211, 'cantidad': 24, 'vendidas': 0}), ('lirio', {'precio': 5435, 'cantidad': 24, 'vendidas': 0}), ('tulipan', {'precio': 4542, 'cantidad': 11, 'vendidas': 0})])"
            ]
          },
          "metadata": {},
          "execution_count": 8
        }
      ]
    },
    {
      "cell_type": "code",
      "source": [
        "def menu(inventario):\n",
        "  print(\"\\n menu de flores disponibles floristeria carlitos\")\n",
        "  for flor,datos in inventario.items():\n",
        "    print(f\"{flor}: ${datos[\"precio\"]} cant: {datos[\"cantidad\"]} disponibles\")\n",
        "  print(\"-----------------------------------------------\")"
      ],
      "metadata": {
        "id": "rzsEnm28RkVO"
      },
      "execution_count": 9,
      "outputs": []
    },
    {
      "cell_type": "code",
      "source": [
        "menu(inventario())"
      ],
      "metadata": {
        "colab": {
          "base_uri": "https://localhost:8080/"
        },
        "id": "y8kAMwpxTpvT",
        "outputId": "67e63c0c-d30d-4d84-c0ce-0d1120eeb60b"
      },
      "execution_count": 10,
      "outputs": [
        {
          "output_type": "stream",
          "name": "stdout",
          "text": [
            "\n",
            " menu de flores disponibles floristeria carlitos\n",
            "geranio: $2858 cant: 12 disponibles\n",
            "clavel: $5601 cant: 21 disponibles\n",
            "margarita: $4931 cant: 42 disponibles\n",
            "-----------------------------------------------\n"
          ]
        }
      ]
    },
    {
      "cell_type": "code",
      "source": [
        "from functools import total_ordering\n",
        "def ventas(inventario,flor,cantidad,total_ganado):\n",
        "  if flor not in inventario:\n",
        "    print(f\"{flor}no se encuentra a la venta\")\n",
        "    return total_ganado\n",
        "  datos=inventario[flor]\n",
        "  if cantidad>datos[\"cantidad\"]:\n",
        "    print(f\"lo siento no tenemos la cantidad requerida\")\n",
        "    return total_ganado\n",
        "\n",
        "  #realizando venta\n",
        "  datos[\"cantidad\"]-=cantidad\n",
        "  datos[\"ventas\"]+=cantidad\n",
        "  total_ganado+=ventas\n",
        "  print(f\"vendidas: {cantidad} de {flor} por un total de $ {ventas}\")\n",
        "\n",
        "  #si se acaba eliminamos la flor\n",
        "  if datos[\"cantidad\"]==0:\n",
        "    print(f\"{flor}ha sido eliminado del inventario\")\n",
        "    del inventario[flor]\n",
        "  return total_ganado\n",
        "\n",
        "\n",
        ""
      ],
      "metadata": {
        "id": "hr4N-LZ5VBzi"
      },
      "execution_count": 11,
      "outputs": []
    },
    {
      "cell_type": "code",
      "source": [
        "def cerrar_tienda(inventario_inicial,inventario_final,total_ganado):\n",
        "  print(\"\\n tienda cerrada\")\n",
        "  #combinar el inventario inicial con el final para saber cuanto se vendieron\n",
        "  flores_vendidas={}\n",
        "  for flor,datos in inventario_inicial.items():\n",
        "    cantidad_final=inventario_final.get(flor,{\"cantidad\":0})[\"cantidad\"]\n",
        "    vendidas=datos[\"cantidad\"]-cantidad_final\n",
        "    flores_vendidas[flor]=vendidas\n",
        "\n",
        "    #determinar cuales rueron las mas vendidas\n",
        "    mas_vendidas=max(flores_vendidas,key=flores_vendidas.get)\n",
        "    menos_vendidas=max(flores_vendidas,key=flores_vendidas.get)\n",
        "\n",
        "    print(f\"la flor mas vendida fue {mas_vendidas}:{flores_vendidas[mas_vendidas]} unidad(es)\")\n",
        "    print(f\"la flor menos vendida fue {menos_vendidas}:{flores_vendidas[menos_vendidas]} unidad(es)\")"
      ],
      "metadata": {
        "id": "_ionQJfpZ3tX"
      },
      "execution_count": 17,
      "outputs": []
    },
    {
      "cell_type": "code",
      "source": [
        "flor"
      ],
      "metadata": {
        "colab": {
          "base_uri": "https://localhost:8080/"
        },
        "id": "a1wYQ4QYeYX8",
        "outputId": "10cef0a5-59a2-466c-a23e-1781ab004d8c"
      },
      "execution_count": 18,
      "outputs": [
        {
          "output_type": "execute_result",
          "data": {
            "text/plain": [
              "{'dahlia': {'precio': 4211, 'cantidad': 24, 'vendidas': 0},\n",
              " 'lirio': {'precio': 5435, 'cantidad': 24, 'vendidas': 0},\n",
              " 'tulipan': {'precio': 4542, 'cantidad': 11, 'vendidas': 0}}"
            ]
          },
          "metadata": {},
          "execution_count": 18
        }
      ]
    },
    {
      "cell_type": "code",
      "source": [
        "total_ganado=0\n",
        "total_ganado=ventas(flor,\"rosa\",10,total_ganado)\n",
        "total_ganado=ventas(flor,\"clavel\",18,total_ganado)\n",
        "total_ganado=ventas(flor,\"margarita\",80,total_ganado)"
      ],
      "metadata": {
        "colab": {
          "base_uri": "https://localhost:8080/"
        },
        "id": "xd-dCLE7ea6z",
        "outputId": "76e929c6-5b27-40ab-e0f5-3a2af26741d3"
      },
      "execution_count": 19,
      "outputs": [
        {
          "output_type": "stream",
          "name": "stdout",
          "text": [
            "rosano se encuentra a la venta\n",
            "clavelno se encuentra a la venta\n",
            "margaritano se encuentra a la venta\n"
          ]
        }
      ]
    }
  ]
}