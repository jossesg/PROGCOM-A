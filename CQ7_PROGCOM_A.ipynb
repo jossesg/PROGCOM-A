{
  "nbformat": 4,
  "nbformat_minor": 0,
  "metadata": {
    "colab": {
      "provenance": [],
      "authorship_tag": "ABX9TyMV7XTHlTsgbq74gPq+QxVJ",
      "include_colab_link": true
    },
    "kernelspec": {
      "name": "python3",
      "display_name": "Python 3"
    },
    "language_info": {
      "name": "python"
    }
  },
  "cells": [
    {
      "cell_type": "markdown",
      "metadata": {
        "id": "view-in-github",
        "colab_type": "text"
      },
      "source": [
        "<a href=\"https://colab.research.google.com/github/jossesg/PROGCOM-A/blob/main/CQ7_PROGCOM_A.ipynb\" target=\"_parent\"><img src=\"https://colab.research.google.com/assets/colab-badge.svg\" alt=\"Open In Colab\"/></a>"
      ]
    },
    {
      "cell_type": "markdown",
      "source": [
        "False: Representa el valor falso"
      ],
      "metadata": {
        "id": "MjKkLjjutXxJ"
      }
    },
    {
      "cell_type": "code",
      "execution_count": 1,
      "metadata": {
        "colab": {
          "base_uri": "https://localhost:8080/"
        },
        "id": "0CbwbBkltP4F",
        "outputId": "a284a760-2fac-4fda-babe-dd22260d47c2"
      },
      "outputs": [
        {
          "output_type": "stream",
          "name": "stdout",
          "text": [
            "False\n"
          ]
        }
      ],
      "source": [
        "x = False; print(x)"
      ]
    },
    {
      "cell_type": "markdown",
      "source": [
        "None: Representa la ausencia de un valor"
      ],
      "metadata": {
        "id": "TBPzc0v2tYJI"
      }
    },
    {
      "cell_type": "code",
      "source": [
        " x = None; print(x)"
      ],
      "metadata": {
        "colab": {
          "base_uri": "https://localhost:8080/"
        },
        "id": "H1EOVcu-tXUw",
        "outputId": "b04e27c3-7bbb-4958-bce3-8c5ac7a14860"
      },
      "execution_count": 3,
      "outputs": [
        {
          "output_type": "stream",
          "name": "stdout",
          "text": [
            "None\n"
          ]
        }
      ]
    },
    {
      "cell_type": "markdown",
      "source": [
        "True: Representa el valor verdadero"
      ],
      "metadata": {
        "id": "-ugxj-5NuDx3"
      }
    },
    {
      "cell_type": "code",
      "source": [
        "x = True; print(x)"
      ],
      "metadata": {
        "colab": {
          "base_uri": "https://localhost:8080/"
        },
        "id": "JCQlIYr6uEG_",
        "outputId": "62d36f4c-c32c-4b82-fc8e-887b0d745c24"
      },
      "execution_count": 4,
      "outputs": [
        {
          "output_type": "stream",
          "name": "stdout",
          "text": [
            "True\n"
          ]
        }
      ]
    },
    {
      "cell_type": "markdown",
      "source": [
        "and: Operador lógico que devuelve True si ambos operandos son True"
      ],
      "metadata": {
        "id": "3oQ8EHaEuUXo"
      }
    },
    {
      "cell_type": "code",
      "source": [
        "print(True and False)"
      ],
      "metadata": {
        "colab": {
          "base_uri": "https://localhost:8080/"
        },
        "id": "DR2u3FjUuUw4",
        "outputId": "368ef5b1-c0e3-48d7-da35-a378a9ae6d14"
      },
      "execution_count": 5,
      "outputs": [
        {
          "output_type": "stream",
          "name": "stdout",
          "text": [
            "False\n"
          ]
        }
      ]
    },
    {
      "cell_type": "markdown",
      "source": [
        "as: Usado para crear un alias al importar módulos"
      ],
      "metadata": {
        "id": "2M-vUNlrvG75"
      }
    },
    {
      "cell_type": "code",
      "source": [
        "import math as m; print(m.pi)"
      ],
      "metadata": {
        "colab": {
          "base_uri": "https://localhost:8080/"
        },
        "id": "gbezgQDSvHNh",
        "outputId": "e50aa433-9c68-4970-ae56-4734f55a0a19"
      },
      "execution_count": 6,
      "outputs": [
        {
          "output_type": "stream",
          "name": "stdout",
          "text": [
            "3.141592653589793\n"
          ]
        }
      ]
    },
    {
      "cell_type": "markdown",
      "source": [
        "assert: Verifica si una condición es verdadera, lanza error si no lo es"
      ],
      "metadata": {
        "id": "OfKv631CvwAt"
      }
    },
    {
      "cell_type": "code",
      "source": [
        "assert 1 == 1"
      ],
      "metadata": {
        "id": "qjI_S8REvwOu"
      },
      "execution_count": 8,
      "outputs": []
    },
    {
      "cell_type": "code",
      "source": [
        "assert 1 == 2"
      ],
      "metadata": {
        "colab": {
          "base_uri": "https://localhost:8080/",
          "height": 141
        },
        "id": "_21-Xw__v3AW",
        "outputId": "8183a43e-4baf-4c18-94f6-f870c596f5e0"
      },
      "execution_count": 9,
      "outputs": [
        {
          "output_type": "error",
          "ename": "AssertionError",
          "evalue": "",
          "traceback": [
            "\u001b[0;31m---------------------------------------------------------------------------\u001b[0m",
            "\u001b[0;31mAssertionError\u001b[0m                            Traceback (most recent call last)",
            "\u001b[0;32m/tmp/ipython-input-3017664728.py\u001b[0m in \u001b[0;36m<cell line: 0>\u001b[0;34m()\u001b[0m\n\u001b[0;32m----> 1\u001b[0;31m \u001b[0;32massert\u001b[0m \u001b[0;36m1\u001b[0m \u001b[0;34m==\u001b[0m \u001b[0;36m2\u001b[0m\u001b[0;34m\u001b[0m\u001b[0;34m\u001b[0m\u001b[0m\n\u001b[0m",
            "\u001b[0;31mAssertionError\u001b[0m: "
          ]
        }
      ]
    },
    {
      "cell_type": "markdown",
      "source": [
        "break: Sale de un bucle inmediatamente."
      ],
      "metadata": {
        "id": "MGeODXJJw-KQ"
      }
    },
    {
      "cell_type": "code",
      "source": [
        "for i in range(5):\n",
        "  if i == 2: break;\n",
        "  print(i)"
      ],
      "metadata": {
        "colab": {
          "base_uri": "https://localhost:8080/"
        },
        "id": "mTGGvUEOxBgw",
        "outputId": "c475941d-9c3e-4b96-ac4b-4df49d390d15"
      },
      "execution_count": 21,
      "outputs": [
        {
          "output_type": "stream",
          "name": "stdout",
          "text": [
            "0\n",
            "1\n"
          ]
        }
      ]
    },
    {
      "cell_type": "markdown",
      "source": [
        "class: Define una clase (estructura de objeto)"
      ],
      "metadata": {
        "id": "ntCKWXQ9yjQY"
      }
    },
    {
      "cell_type": "code",
      "source": [
        "class MiClase: pass"
      ],
      "metadata": {
        "id": "CxyZ_cvByjis"
      },
      "execution_count": 15,
      "outputs": []
    },
    {
      "cell_type": "markdown",
      "source": [
        "continue: Salta a la siguiente iteración de un bucle."
      ],
      "metadata": {
        "id": "bHTd1ffsyv6u"
      }
    },
    {
      "cell_type": "code",
      "source": [
        "for i in range(5):\n",
        "   if i == 2: continue;\n",
        "   print(i)"
      ],
      "metadata": {
        "colab": {
          "base_uri": "https://localhost:8080/"
        },
        "id": "LTAVREYVywNu",
        "outputId": "04864429-cff6-4350-eab0-9f40441d8a93"
      },
      "execution_count": 19,
      "outputs": [
        {
          "output_type": "stream",
          "name": "stdout",
          "text": [
            "0\n",
            "1\n",
            "3\n",
            "4\n"
          ]
        }
      ]
    },
    {
      "cell_type": "markdown",
      "source": [
        "def: Define una función"
      ],
      "metadata": {
        "id": "B7eSXDFezdSW"
      }
    },
    {
      "cell_type": "code",
      "source": [
        "def suma(a, b): return a + b"
      ],
      "metadata": {
        "id": "dSGQgY7XzdlU"
      },
      "execution_count": 26,
      "outputs": []
    },
    {
      "cell_type": "markdown",
      "source": [
        "del: Elimina un objeto o variable"
      ],
      "metadata": {
        "id": "OLg655K8z18j"
      }
    },
    {
      "cell_type": "code",
      "source": [
        "x = 10\n",
        "print(x)\n",
        "del x"
      ],
      "metadata": {
        "colab": {
          "base_uri": "https://localhost:8080/"
        },
        "id": "CkoaiSPvz2Pn",
        "outputId": "c849f760-ccc8-460d-8532-759445cf907c"
      },
      "execution_count": 40,
      "outputs": [
        {
          "output_type": "stream",
          "name": "stdout",
          "text": [
            "10\n"
          ]
        }
      ]
    },
    {
      "cell_type": "markdown",
      "source": [
        "elif: Condición alternativa en una estructura if"
      ],
      "metadata": {
        "id": "mBuZoP2f0WMo"
      }
    },
    {
      "cell_type": "code",
      "source": [
        "edad = 15\n",
        "\n",
        "if edad < 12:\n",
        "    print(\"Niño\")\n",
        "elif edad < 18:\n",
        "    print(\"Adolescente\")\n",
        "else:\n",
        "    print(\"Adulto\")"
      ],
      "metadata": {
        "colab": {
          "base_uri": "https://localhost:8080/"
        },
        "id": "UuJOzg7a0Ws1",
        "outputId": "80c268f7-6612-4607-80c8-80da0d94b298"
      },
      "execution_count": 39,
      "outputs": [
        {
          "output_type": "stream",
          "name": "stdout",
          "text": [
            "Adolescente\n"
          ]
        }
      ]
    },
    {
      "cell_type": "markdown",
      "source": [
        "else: Bloque de código ejecutado si ninguna condición previa es verdadera"
      ],
      "metadata": {
        "id": "M9Hag13y1Ag6"
      }
    },
    {
      "cell_type": "code",
      "source": [
        "edad = 20\n",
        "\n",
        "if edad >= 18:\n",
        "    print(\"Mayor de edad\")\n",
        "else:\n",
        "    print(\"Menor de edad\")"
      ],
      "metadata": {
        "colab": {
          "base_uri": "https://localhost:8080/"
        },
        "id": "VFLf6nKm1Azq",
        "outputId": "6a0bbc33-b314-4ca5-ed2f-eef794cdb711"
      },
      "execution_count": 41,
      "outputs": [
        {
          "output_type": "stream",
          "name": "stdout",
          "text": [
            "Mayor de edad\n"
          ]
        }
      ]
    },
    {
      "cell_type": "markdown",
      "source": [
        "except: maneja excepciones en un bloque"
      ],
      "metadata": {
        "id": "FY1fmYeI1ZIU"
      }
    },
    {
      "cell_type": "code",
      "source": [
        "try:\n",
        "    1/0\n",
        "except:\n",
        "    print(\"Error detectado\")\n"
      ],
      "metadata": {
        "colab": {
          "base_uri": "https://localhost:8080/"
        },
        "id": "-yn5LsyP1ZZM",
        "outputId": "44d7fcd3-2c36-4883-9f79-65012f01ec62"
      },
      "execution_count": 44,
      "outputs": [
        {
          "output_type": "stream",
          "name": "stdout",
          "text": [
            "Error detectado\n"
          ]
        }
      ]
    },
    {
      "cell_type": "markdown",
      "source": [
        "finally: código que se ejecuta siempre, con o sin excepción"
      ],
      "metadata": {
        "id": "HAnf7Uts1lc-"
      }
    },
    {
      "cell_type": "code",
      "source": [
        "try:\n",
        "    x = 1/0\n",
        "except:\n",
        "    print(\"Error\")\n",
        "finally:\n",
        "    print(\"Fin del programa\")"
      ],
      "metadata": {
        "colab": {
          "base_uri": "https://localhost:8080/"
        },
        "id": "spdNzlze1lr8",
        "outputId": "314442ff-7407-49ee-a63c-9e2de107aade"
      },
      "execution_count": 45,
      "outputs": [
        {
          "output_type": "stream",
          "name": "stdout",
          "text": [
            "Error\n",
            "Fin del programa\n"
          ]
        }
      ]
    },
    {
      "cell_type": "markdown",
      "source": [
        "for: Bucle para recorrer elementos"
      ],
      "metadata": {
        "id": "3Mobfe8R2F1r"
      }
    },
    {
      "cell_type": "code",
      "source": [
        "for i in range(3):\n",
        "    print(i)"
      ],
      "metadata": {
        "colab": {
          "base_uri": "https://localhost:8080/"
        },
        "id": "XSSeL6tH2GK0",
        "outputId": "eb12f8b6-92af-48e7-b8e4-7e7e7dad899e"
      },
      "execution_count": 46,
      "outputs": [
        {
          "output_type": "stream",
          "name": "stdout",
          "text": [
            "0\n",
            "1\n",
            "2\n"
          ]
        }
      ]
    },
    {
      "cell_type": "markdown",
      "source": [
        "from\n",
        "\n",
        "Importa de un módulo específico."
      ],
      "metadata": {
        "id": "yUKM_u8z2MXC"
      }
    },
    {
      "cell_type": "code",
      "source": [
        "from math import sqrt\n",
        "print(sqrt(9))"
      ],
      "metadata": {
        "colab": {
          "base_uri": "https://localhost:8080/"
        },
        "id": "S-Rawh4r2Mrr",
        "outputId": "743b7b09-3d0b-4071-9203-8b0f15629578"
      },
      "execution_count": 47,
      "outputs": [
        {
          "output_type": "stream",
          "name": "stdout",
          "text": [
            "3.0\n"
          ]
        }
      ]
    },
    {
      "cell_type": "markdown",
      "source": [
        "global\n",
        "\n",
        "Declara variable global dentro de función."
      ],
      "metadata": {
        "id": "Rzc_TOfQ2TCt"
      }
    },
    {
      "cell_type": "code",
      "source": [
        "x = 10\n",
        "def f():\n",
        "    global x\n",
        "    x = 20\n",
        "f()\n",
        "print(x)"
      ],
      "metadata": {
        "colab": {
          "base_uri": "https://localhost:8080/"
        },
        "id": "rmJeO2P98EVd",
        "outputId": "f3a83c3a-1809-4375-f4f7-c775f6d21fe0"
      },
      "execution_count": 67,
      "outputs": [
        {
          "output_type": "stream",
          "name": "stdout",
          "text": [
            "20\n"
          ]
        }
      ]
    },
    {
      "cell_type": "markdown",
      "source": [
        "if\n",
        "\n",
        "Estructura condicional."
      ],
      "metadata": {
        "id": "pp9Gj8zo2YVk"
      }
    },
    {
      "cell_type": "code",
      "source": [
        "x = 5\n",
        "if x > 0:\n",
        "    print(\"Positivo\")"
      ],
      "metadata": {
        "colab": {
          "base_uri": "https://localhost:8080/"
        },
        "id": "rCZW27i-8D10",
        "outputId": "18765ede-e12e-4135-8445-e986dfadba8f"
      },
      "execution_count": 66,
      "outputs": [
        {
          "output_type": "stream",
          "name": "stdout",
          "text": [
            "Positivo\n"
          ]
        }
      ]
    },
    {
      "cell_type": "markdown",
      "source": [
        "import: Usado para importar librerías"
      ],
      "metadata": {
        "id": "Vt10b3Qq2YoM"
      }
    },
    {
      "cell_type": "code",
      "source": [
        "import math\n",
        "print(math.pi)"
      ],
      "metadata": {
        "colab": {
          "base_uri": "https://localhost:8080/"
        },
        "id": "gqYJ_rr28DHu",
        "outputId": "a9ca991b-f7e2-4c20-e09d-fee8ce76ef1d"
      },
      "execution_count": 65,
      "outputs": [
        {
          "output_type": "stream",
          "name": "stdout",
          "text": [
            "3.141592653589793\n"
          ]
        }
      ]
    },
    {
      "cell_type": "markdown",
      "source": [
        "in: Verifica si un valor está en una colección."
      ],
      "metadata": {
        "id": "K0qNtrbe6dEf"
      }
    },
    {
      "cell_type": "code",
      "source": [
        "print(2 in [1, 2, 3])"
      ],
      "metadata": {
        "colab": {
          "base_uri": "https://localhost:8080/"
        },
        "id": "wNVtxiLv79Ha",
        "outputId": "c896f0f6-238f-45ff-b324-f66b7299061b"
      },
      "execution_count": 64,
      "outputs": [
        {
          "output_type": "stream",
          "name": "stdout",
          "text": [
            "True\n"
          ]
        }
      ]
    },
    {
      "cell_type": "markdown",
      "source": [
        " is: Verifica identidad de objetos.Verifica si un valor está en una colección."
      ],
      "metadata": {
        "id": "foHL16nr2Y8d"
      }
    },
    {
      "cell_type": "code",
      "source": [
        "x = None\n",
        "print(x is None)"
      ],
      "metadata": {
        "colab": {
          "base_uri": "https://localhost:8080/"
        },
        "id": "8JHbSuFY76wy",
        "outputId": "fa399120-40cb-429f-a87f-ea154ff719e0"
      },
      "execution_count": 63,
      "outputs": [
        {
          "output_type": "stream",
          "name": "stdout",
          "text": [
            "True\n"
          ]
        }
      ]
    },
    {
      "cell_type": "markdown",
      "source": [
        "lambda: define funciones anónimas."
      ],
      "metadata": {
        "id": "nziQhrzW2ZKU"
      }
    },
    {
      "cell_type": "code",
      "source": [
        "suma = lambda a, b: a + b\n",
        "print(suma(2,3))"
      ],
      "metadata": {
        "colab": {
          "base_uri": "https://localhost:8080/"
        },
        "id": "KE_cyN9274HB",
        "outputId": "1b927fc0-110a-4cbb-d8e2-264511c8afda"
      },
      "execution_count": 62,
      "outputs": [
        {
          "output_type": "stream",
          "name": "stdout",
          "text": [
            "5\n"
          ]
        }
      ]
    },
    {
      "cell_type": "markdown",
      "source": [
        "nonlocal: Usa variables de un scope superior (no global)."
      ],
      "metadata": {
        "id": "tdx_w65i2Zel"
      }
    },
    {
      "cell_type": "code",
      "source": [
        "def f():\n",
        "    x = \"local\"\n",
        "    def g():\n",
        "        nonlocal x\n",
        "        x = \"cambiado\"\n",
        "    g()\n",
        "    print(x)\n",
        "f()"
      ],
      "metadata": {
        "colab": {
          "base_uri": "https://localhost:8080/"
        },
        "id": "V-39kzmf71px",
        "outputId": "64d92fea-0dde-4364-a57c-74b87338e1ed"
      },
      "execution_count": 61,
      "outputs": [
        {
          "output_type": "stream",
          "name": "stdout",
          "text": [
            "cambiado\n"
          ]
        }
      ]
    },
    {
      "cell_type": "markdown",
      "source": [
        "not: Negación lógica."
      ],
      "metadata": {
        "id": "0x5n9tCd2ZuN"
      }
    },
    {
      "cell_type": "code",
      "source": [
        "print(not True)"
      ],
      "metadata": {
        "colab": {
          "base_uri": "https://localhost:8080/"
        },
        "id": "dcEKhMLK7yrB",
        "outputId": "41ac058e-721a-4fd1-d972-fa1a43e1341a"
      },
      "execution_count": 60,
      "outputs": [
        {
          "output_type": "stream",
          "name": "stdout",
          "text": [
            "False\n"
          ]
        }
      ]
    },
    {
      "cell_type": "markdown",
      "source": [
        "or: Operador lógico \"o\"."
      ],
      "metadata": {
        "id": "Lf068a9D2Z6m"
      }
    },
    {
      "cell_type": "code",
      "source": [
        "print(True or False)"
      ],
      "metadata": {
        "colab": {
          "base_uri": "https://localhost:8080/"
        },
        "id": "TTuOlHxv7w3Q",
        "outputId": "1f125699-f43d-495e-c750-00ce2aeafdae"
      },
      "execution_count": 59,
      "outputs": [
        {
          "output_type": "stream",
          "name": "stdout",
          "text": [
            "True\n"
          ]
        }
      ]
    },
    {
      "cell_type": "markdown",
      "source": [
        "pass: Hace nada."
      ],
      "metadata": {
        "id": "LG-0C6Ag2aH1"
      }
    },
    {
      "cell_type": "code",
      "source": [
        "def f():\n",
        "    pass"
      ],
      "metadata": {
        "id": "6NSNUc7p7p8Q"
      },
      "execution_count": 58,
      "outputs": []
    },
    {
      "cell_type": "markdown",
      "source": [
        "raise: Lanza una excepción."
      ],
      "metadata": {
        "id": "3KxVuenV2aaF"
      }
    },
    {
      "cell_type": "code",
      "source": [
        "raise ValueError(\"Error lanzado\")"
      ],
      "metadata": {
        "colab": {
          "base_uri": "https://localhost:8080/",
          "height": 141
        },
        "id": "ni5zbnI_7ebY",
        "outputId": "c58e6829-9692-40ad-c574-8a492541f1bc"
      },
      "execution_count": 55,
      "outputs": [
        {
          "output_type": "error",
          "ename": "ValueError",
          "evalue": "Error lanzado",
          "traceback": [
            "\u001b[0;31m---------------------------------------------------------------------------\u001b[0m",
            "\u001b[0;31mValueError\u001b[0m                                Traceback (most recent call last)",
            "\u001b[0;32m/tmp/ipython-input-2266979624.py\u001b[0m in \u001b[0;36m<cell line: 0>\u001b[0;34m()\u001b[0m\n\u001b[0;32m----> 1\u001b[0;31m \u001b[0;32mraise\u001b[0m \u001b[0mValueError\u001b[0m\u001b[0;34m(\u001b[0m\u001b[0;34m\"Error lanzado\"\u001b[0m\u001b[0;34m)\u001b[0m\u001b[0;34m\u001b[0m\u001b[0;34m\u001b[0m\u001b[0m\n\u001b[0m",
            "\u001b[0;31mValueError\u001b[0m: Error lanzado"
          ]
        }
      ]
    },
    {
      "cell_type": "markdown",
      "source": [
        "return: devuelve un valor en una función."
      ],
      "metadata": {
        "id": "G3tKJwm36-K6"
      }
    },
    {
      "cell_type": "code",
      "source": [
        "def suma(a, b):\n",
        "    return a + b\n",
        "print(suma(2,3))"
      ],
      "metadata": {
        "colab": {
          "base_uri": "https://localhost:8080/"
        },
        "id": "YFZ5NBWC7X71",
        "outputId": "6cf1a323-0f6d-400a-b8d7-4120d392b51b"
      },
      "execution_count": 54,
      "outputs": [
        {
          "output_type": "stream",
          "name": "stdout",
          "text": [
            "5\n"
          ]
        }
      ]
    },
    {
      "cell_type": "markdown",
      "source": [
        "try: Bloque para manejar errores."
      ],
      "metadata": {
        "id": "XtW9cLTh7B6D"
      }
    },
    {
      "cell_type": "code",
      "source": [
        "try:\n",
        "    print(1/0)\n",
        "except:\n",
        "    print(\"Error\")"
      ],
      "metadata": {
        "colab": {
          "base_uri": "https://localhost:8080/"
        },
        "id": "tNwGObH07XqV",
        "outputId": "57cad115-0a54-4105-e551-46e764ad2318"
      },
      "execution_count": 53,
      "outputs": [
        {
          "output_type": "stream",
          "name": "stdout",
          "text": [
            "Error\n"
          ]
        }
      ]
    },
    {
      "cell_type": "markdown",
      "source": [
        "while: Bucle que se repite mientras la condición sea cierta."
      ],
      "metadata": {
        "id": "5Da-em287Cjr"
      }
    },
    {
      "cell_type": "code",
      "source": [
        "i = 0\n",
        "while i < 3:\n",
        "    print(i)\n",
        "    i += 1"
      ],
      "metadata": {
        "colab": {
          "base_uri": "https://localhost:8080/"
        },
        "id": "jywYnPf-7VK9",
        "outputId": "637fb1eb-bc74-4365-8447-ca8f89afe8c9"
      },
      "execution_count": 56,
      "outputs": [
        {
          "output_type": "stream",
          "name": "stdout",
          "text": [
            "0\n",
            "1\n",
            "2\n"
          ]
        }
      ]
    },
    {
      "cell_type": "markdown",
      "source": [
        "with: Maneja recursos de forma segura."
      ],
      "metadata": {
        "id": "B2E4Q3Fd7D16"
      }
    },
    {
      "cell_type": "code",
      "source": [
        "with open(\"archivo.txt\", \"w\") as f:\n",
        "    f.write(\"Hola\")"
      ],
      "metadata": {
        "id": "kmgFlfwQ7Kz1"
      },
      "execution_count": 57,
      "outputs": []
    },
    {
      "cell_type": "markdown",
      "source": [
        "yield: Convierte una función en generador."
      ],
      "metadata": {
        "id": "5bNMWJI37GkD"
      }
    },
    {
      "cell_type": "code",
      "source": [
        "def contar():\n",
        "    yield 1\n",
        "    yield 2\n",
        "for n in contar():\n",
        "    print(n)\n"
      ],
      "metadata": {
        "colab": {
          "base_uri": "https://localhost:8080/"
        },
        "id": "9Den9Hn87Irc",
        "outputId": "8c92181b-feeb-47ce-ea0e-6d8237858388"
      },
      "execution_count": 48,
      "outputs": [
        {
          "output_type": "stream",
          "name": "stdout",
          "text": [
            "1\n",
            "2\n"
          ]
        }
      ]
    }
  ]
}