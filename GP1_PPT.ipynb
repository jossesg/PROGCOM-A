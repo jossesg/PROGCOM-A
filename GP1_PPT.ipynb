{
  "nbformat": 4,
  "nbformat_minor": 0,
  "metadata": {
    "colab": {
      "provenance": [],
      "authorship_tag": "ABX9TyO5Wwiu2VLhUScdUri0LZkU",
      "include_colab_link": true
    },
    "kernelspec": {
      "name": "python3",
      "display_name": "Python 3"
    },
    "language_info": {
      "name": "python"
    }
  },
  "cells": [
    {
      "cell_type": "markdown",
      "metadata": {
        "id": "view-in-github",
        "colab_type": "text"
      },
      "source": [
        "<a href=\"https://colab.research.google.com/github/jossesg/PROGCOM-A/blob/main/GP1_PPT.ipynb\" target=\"_parent\"><img src=\"https://colab.research.google.com/assets/colab-badge.svg\" alt=\"Open In Colab\"/></a>"
      ]
    },
    {
      "cell_type": "code",
      "execution_count": null,
      "metadata": {
        "id": "6HkdzzfOS48R"
      },
      "outputs": [],
      "source": [
        "import random\n",
        "\n",
        "opciones = [\n",
        "    \"Piedra\", \"Papel\", \"Tijera\", \"Lagarto\", \"Spock\",\n",
        "    \"Dragón\", \"Hielo\", \"Tornado\", \"Veneno\", \"Sol\",\n",
        "    \"Luna\", \"Sombra\", \"Magia\", \"Bestia\", \"Cristal\"\n",
        "]\n",
        "\n",
        "reglas = {\n",
        "    \"Piedra\": [\"Tijera\", \"Lagarto\"],\n",
        "    \"Papel\": [\"Piedra\", \"Spock\"],\n",
        "    \"Tijera\": [\"Papel\", \"Lagarto\"],\n",
        "    \"Lagarto\": [\"Spock\", \"Papel\"],\n",
        "    \"Spock\": [\"Tijera\", \"Piedra\"],\n",
        "\n",
        "    \"Dragón\": [\"Aire\", \"Lagarto\"],\n",
        "    \"Hielo\": [\"Agua\", \"Dragón\"],\n",
        "    \"Tornado\": [\"Fuego\", \"Lagarto\"],\n",
        "    \"Veneno\": [\"Dragón\", \"Spock\"],\n",
        "    \"Sol\": [\"Agua\", \"Hielo\"],\n",
        "    \"Luna\": [\"Dragón\", \"Rayo\"],\n",
        "    \"Sombra\": [\"Papel\", \"Aire\"],\n",
        "    \"Magia\": [\"Metal\", \"Veneno\"],\n",
        "    \"Bestia\": [\"Lagarto\", \"Sombra\"],\n",
        "    \"Cristal\": [\"Rayo\", \"Papel\"]\n",
        "}\n",
        "\n",
        "\n",
        "rondas_totales = int(input(\"cuantas rondas quiere jugar? \"))\n",
        "\n",
        "puntos_jugador = 0\n",
        "puntos_maquina = 0\n",
        "\n",
        "for ronda in range(1, rondas_totales + 1):\n",
        "    print(f\" Ronda {ronda} de {rondas_totales} \")\n",
        "    print(\"Opciones:\", \", \".join(opciones))\n",
        "    eleccion_jugador = input(\"Elija una opción: \").capitalize()\n",
        "\n",
        "\n",
        "    if eleccion_jugador not in opciones:\n",
        "        print(\" opcion no valida pierde la ronda\")\n",
        "        puntos_maquina += 1\n",
        "        continue\n",
        "\n",
        "    eleccion_maquina = random.choice(opciones)\n",
        "    print(f\"La máquina eligió: {eleccion_maquina}\")\n",
        "\n",
        "    if eleccion_jugador == eleccion_maquina:\n",
        "        print(\"Empate en la ronda.\")\n",
        "    elif eleccion_maquina in reglas.get(eleccion_jugador, []):\n",
        "        print(\"gano la ronda\")\n",
        "        puntos_jugador += 1\n",
        "    else:\n",
        "        print(\"perdio la ronda\")\n",
        "        puntos_maquina += 1\n",
        "\n",
        "\n",
        "print(\" RESULTADO FINAL \")\n",
        "print(f\"Tus puntos: {puntos_jugador}\")\n",
        "print(f\"Puntos de la máquina: {puntos_maquina}\")\n",
        "\n",
        "if puntos_jugador > puntos_maquina:\n",
        "    print(\"ganaste la partida\")\n",
        "elif puntos_jugador < puntos_maquina:\n",
        "    print(\"la consola gano\")\n",
        "else:\n",
        "    print(\"empate\")\n"
      ]
    }
  ]
}