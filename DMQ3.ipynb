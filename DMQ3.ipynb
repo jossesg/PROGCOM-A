{
  "nbformat": 4,
  "nbformat_minor": 0,
  "metadata": {
    "colab": {
      "provenance": [],
      "authorship_tag": "ABX9TyMn6AN102hW40MNbnr1O1FC",
      "include_colab_link": true
    },
    "kernelspec": {
      "name": "python3",
      "display_name": "Python 3"
    },
    "language_info": {
      "name": "python"
    }
  },
  "cells": [
    {
      "cell_type": "markdown",
      "metadata": {
        "id": "view-in-github",
        "colab_type": "text"
      },
      "source": [
        "<a href=\"https://colab.research.google.com/github/jossesg/PROGCOM-A/blob/main/DMQ3.ipynb\" target=\"_parent\"><img src=\"https://colab.research.google.com/assets/colab-badge.svg\" alt=\"Open In Colab\"/></a>"
      ]
    },
    {
      "cell_type": "code",
      "execution_count": null,
      "metadata": {
        "id": "8M2cvJDiAokT"
      },
      "outputs": [],
      "source": [
        "import turtle\n",
        "\n",
        "pantalla = turtle.Screen()\n",
        "pantalla.title(\"Dibujando Figuras con Turtle\")\n",
        "pantalla.bgcolor(\"lightyellow\")\n",
        "\n",
        "t = turtle.Turtle()\n",
        "t.pensize(2)\n",
        "t.speed(3)\n",
        "\n",
        "\n",
        "def cuadrado(lado):\n",
        "    for _ in range(4):\n",
        "        t.forward(lado)\n",
        "        t.right(90)\n",
        "\n",
        "\n",
        "def triangulo(lado):\n",
        "    for _ in range(3):\n",
        "        t.forward(lado)\n",
        "        t.right(120)\n",
        "\n",
        "\n",
        "def circulo(radio):\n",
        "    t.circle(radio)\n",
        "\n",
        "\n",
        "def pentagono(lado):\n",
        "    for i in range(5):\n",
        "        t.forward(lado)\n",
        "        t.right(72)\n",
        "\n",
        "\n",
        "print(\" figura con turtle \")\n",
        "print(\"1 Cuadrado\")\n",
        "print(\"2 Triángulo\")\n",
        "print(\"3 Círculo\")\n",
        "print(\"4 Pentágono\")\n",
        "\n",
        "opcion = int(input(\"elige la figura que quieres dibujar: \"))\n",
        "\n",
        "if opcion == 1:\n",
        "    cuadrado(100)\n",
        "elif opcion == 2:\n",
        "    triangulo(100)\n",
        "elif opcion == 3:\n",
        "    circulo(80)\n",
        "elif opcion == 4:\n",
        "    pentagono(100)\n",
        "else:\n",
        "    print(\"opción no válida\")\n",
        "\n",
        "\n",
        "turtle.done()\n"
      ]
    }
  ]
}