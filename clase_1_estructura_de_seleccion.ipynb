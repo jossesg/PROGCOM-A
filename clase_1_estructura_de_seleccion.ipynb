{
  "nbformat": 4,
  "nbformat_minor": 0,
  "metadata": {
    "colab": {
      "provenance": [],
      "authorship_tag": "ABX9TyPiy2JtZvDFrwq9lk627ISU",
      "include_colab_link": true
    },
    "kernelspec": {
      "name": "python3",
      "display_name": "Python 3"
    },
    "language_info": {
      "name": "python"
    }
  },
  "cells": [
    {
      "cell_type": "markdown",
      "metadata": {
        "id": "view-in-github",
        "colab_type": "text"
      },
      "source": [
        "<a href=\"https://colab.research.google.com/github/jossesg/PROGCOM-A/blob/main/clase_1_estructura_de_seleccion.ipynb\" target=\"_parent\"><img src=\"https://colab.research.google.com/assets/colab-badge.svg\" alt=\"Open In Colab\"/></a>"
      ]
    },
    {
      "cell_type": "markdown",
      "source": [
        "1print(f\"{n} es un numero positivo\") if n>=0 else print(f\"{n} no es un numero positivo\")\n",
        "\n",
        "\n",
        "\n"
      ],
      "metadata": {
        "id": "WPetl8-G2kVv"
      }
    },
    {
      "cell_type": "markdown",
      "source": [
        "##operador terniario\n",
        "\n",
        "se usa cuando hay una condicion a evaluar simple y se desea resolver en una linea de codigo\n",
        "\n",
        "```\n",
        "(valor de verdad v) if (condicion) else (valor de verdad f)\n",
        "```\n",
        "\n"
      ],
      "metadata": {
        "id": "RickuJZf1L4P"
      }
    },
    {
      "cell_type": "markdown",
      "source": [
        "\n",
        "\n",
        "```\n",
        "##condicion\n",
        "\n",
        "if n>0: print(f\"{n} es un numero positivo\")\n",
        "elif n<0: print(f\"{n} no es un numero positivo\")\n",
        "else: print(f\"{n} es 0\")\n",
        "```\n",
        "\n"
      ],
      "metadata": {
        "id": "bq2_8Jog0o-I"
      }
    },
    {
      "cell_type": "markdown",
      "source": [
        "##seleccion multiple if-elif-else\n",
        "\n",
        "el elif siempre va compañado de una coindicion\n",
        "\n",
        "\n",
        "\n",
        "\n",
        "```\n",
        "if (condicion):\n",
        "  si se cumple condicion 1, entro aqui\n",
        "elif (condicion2):\n",
        "  si no se cumple condicion2, entro aqui\n",
        "else:\n",
        "  si no se cumple ninguna de las anteriores\n",
        "```\n",
        "\n"
      ],
      "metadata": {
        "id": "lHdD5en_zkgh"
      }
    },
    {
      "cell_type": "markdown",
      "source": [
        "#escribe un programa que reciba un numero e indique si es positivo\n",
        "\n",
        "\n",
        "\n",
        "```\n",
        "n=int(input(\"ingrese un numero\")\n",
        "if n>0:\n",
        "  print(f\"{n} es un numero positivo\")\n",
        "else:\n",
        "  print(n,\" No es un numero positivo\")\n",
        "```\n",
        "\n"
      ],
      "metadata": {
        "id": "HXzUT8J6t9f9"
      }
    },
    {
      "cell_type": "markdown",
      "source": [
        "##estructura if-else\n",
        "\n",
        "\n",
        "\n",
        "\n",
        "\n",
        "```\n",
        "if (coindicion):\n",
        "  entro aqui, si la coindicion es V.\n",
        "else:\n",
        "  entro aqui, si la coindicion es F.\n",
        "```\n",
        "\n"
      ],
      "metadata": {
        "id": "-0aQgPQ0tEa1"
      }
    },
    {
      "cell_type": "markdown",
      "source": [
        "#estructura de seleccion\n",
        "\n",
        "se emplean cuando se debe evaluar una coindicion y esta da un valor de verdad (v) o (f)"
      ],
      "metadata": {
        "id": "-GXgK4-xsv99"
      }
    },
    {
      "cell_type": "markdown",
      "source": [
        "ejercicios con (if-elif-else)"
      ],
      "metadata": {
        "id": "u1LmySXEIVYS"
      }
    },
    {
      "cell_type": "code",
      "source": [
        "if n>0: print(f\"{n} es un numero positivo\")\n",
        "elif n<0: print(f\"{n} no es un numero positivo\")\n",
        "else: print(f\"{n} es 0\")"
      ],
      "metadata": {
        "colab": {
          "base_uri": "https://localhost:8080/"
        },
        "id": "g4kaE_p341YM",
        "outputId": "3bcaf7a7-1baa-4bd8-8c9b-9609b0cde567"
      },
      "execution_count": null,
      "outputs": [
        {
          "output_type": "stream",
          "name": "stdout",
          "text": [
            "23 es un numero positivo\n"
          ]
        }
      ]
    },
    {
      "cell_type": "code",
      "source": [
        "a=f\"{n}es un numero positivo\" if n>0 else f\"{n} No es un numero positivo\"\n",
        "print(a)"
      ],
      "metadata": {
        "colab": {
          "base_uri": "https://localhost:8080/"
        },
        "id": "EYXbrbsh5bZk",
        "outputId": "1c9cfab7-d764-44c3-a582-604a071139d6"
      },
      "execution_count": null,
      "outputs": [
        {
          "output_type": "stream",
          "name": "stdout",
          "text": [
            "23es un numero positivo\n"
          ]
        }
      ]
    },
    {
      "cell_type": "code",
      "source": [
        "edad =int(input(\"ingrese su edad\"))\n",
        "\n",
        "pais =input(\"escriba el pais de donde es\")\n",
        "\n",
        "if edad <0:\n",
        "  print(\"la edad no puede ser negativa\")\n",
        "elif pais == \"estdos unidos\":\n",
        "  if edad < 21:\n",
        "    print(\"en estados unidos eres menor de edad\")\n",
        "  else:\n",
        "    print(\"en estados unidos eres mayor de edad\")\n",
        "else:\n",
        "  if edad <18:\n",
        "    print(\" eres menor de edad\")\n",
        "  else:\n",
        "    print(\" eres mayor de edad\")"
      ],
      "metadata": {
        "colab": {
          "base_uri": "https://localhost:8080/"
        },
        "id": "zy2eajJq59gk",
        "outputId": "d68b4d61-3ce7-4e7a-9cee-cbb89576531b"
      },
      "execution_count": null,
      "outputs": [
        {
          "output_type": "stream",
          "name": "stdout",
          "text": [
            "ingrese su edad14\n",
            "escriba el pais de donde escolombia\n",
            " eres menor de edad\n"
          ]
        }
      ]
    },
    {
      "cell_type": "code",
      "source": [
        "num1 = int(input(\"ingrese el primer numero\"))\n",
        "num2 = int(input(\"ingrese el segundo numero\"))\n",
        "\n",
        "if num1 > num2:\n",
        "  print(\"el mayor es\", num1)\n",
        "elif num2 > num1:\n",
        "  print(\"el mayor es\", num2)\n",
        "else:\n",
        "  print(\"ambos numeros son iguales\")"
      ],
      "metadata": {
        "colab": {
          "base_uri": "https://localhost:8080/"
        },
        "id": "EsVsNE_E_OLB",
        "outputId": "85eecb4f-a517-4317-bda3-06b64fab3117"
      },
      "execution_count": null,
      "outputs": [
        {
          "output_type": "stream",
          "name": "stdout",
          "text": [
            "ingrese el primer numero34\n",
            "ingrese el segundo numero23\n",
            "el mayor es 34\n"
          ]
        }
      ]
    },
    {
      "cell_type": "code",
      "source": [
        "calificacion =int(input(\"ingrese la nota que saco\"))\n",
        "\n",
        "if calificacion <0:\n",
        "  print(\"la nota no puede ser menor que cero\")\n",
        "elif calificacion >100:\n",
        "  print(\"la nota no puede ser mas de cien\")\n",
        "elif calificacion >=60:\n",
        "  print(\"aprobo\")\n",
        "else:\n",
        "  print(\"perdio\")\n"
      ],
      "metadata": {
        "colab": {
          "base_uri": "https://localhost:8080/"
        },
        "id": "s1_nPYy5_Ckw",
        "outputId": "82c55ab4-921f-4acc-ac9b-ad2e6e81ffb0"
      },
      "execution_count": null,
      "outputs": [
        {
          "output_type": "stream",
          "name": "stdout",
          "text": [
            "ingrese la nota que saco123\n",
            "la nota no puede ser mas de cien\n"
          ]
        }
      ]
    },
    {
      "cell_type": "code",
      "source": [
        "numero = int(input(\"escriba un numero\"))\n",
        "\n",
        "if numero % 2 == 0:\n",
        "  print(\"el numero es par\")\n",
        "elif numero % 2 != 0:\n",
        "  print(\"el numero es impar\")\n",
        "else:\n",
        "  print(\"error el numero no vale\")"
      ],
      "metadata": {
        "id": "Um0rbLhKClPn",
        "colab": {
          "base_uri": "https://localhost:8080/"
        },
        "outputId": "071d13db-a5f4-4b8e-c015-9d3892341758"
      },
      "execution_count": null,
      "outputs": [
        {
          "output_type": "stream",
          "name": "stdout",
          "text": [
            "escriba un numero2\n",
            "el numero es par\n"
          ]
        }
      ]
    },
    {
      "cell_type": "code",
      "source": [
        "num1 = int(input(\"escriba el primer numero\"))\n",
        "num2 = int(input(\"escriba el segundo numero\"))\n",
        "num3 = int(input(\"escriba el tercer numero\"))\n",
        "\n",
        "if num1 >= num2 and num1 > num3:\n",
        "  mayor = num1\n",
        "elif num2 > num3:\n",
        "  mayor = num2\n",
        "else:\n",
        "  mayor = num3\n",
        "\n",
        "print(\"el numero mayor es:\", mayor)"
      ],
      "metadata": {
        "colab": {
          "base_uri": "https://localhost:8080/"
        },
        "id": "2IvoSJJ10cpP",
        "outputId": "c22ced6d-7689-4ac2-b505-70c93928d300"
      },
      "execution_count": null,
      "outputs": [
        {
          "output_type": "stream",
          "name": "stdout",
          "text": [
            "escriba el primer numero20\n",
            "escriba el segundo numero2\n",
            "escriba el tercer numero4\n",
            "el numero mayor es: 20\n"
          ]
        }
      ]
    },
    {
      "cell_type": "code",
      "source": [
        "año = int(input(\"escriba un año: \"))\n",
        "\n",
        "\n",
        "if año % 400 == 0:\n",
        "    print(\"el año es bisiesto.\")\n",
        "elif año % 100 == 0:\n",
        "    print(\"el año NO es bisiesto.\")\n",
        "elif año % 4 == 0:\n",
        "    print(\"el año es bisiesto.\")\n",
        "else:\n",
        "    print(\"el año NO es bisiesto.\")"
      ],
      "metadata": {
        "colab": {
          "base_uri": "https://localhost:8080/"
        },
        "id": "4IWg5v0o2KEb",
        "outputId": "8e0414d1-ea5f-489b-8aed-5392d79c0e9f"
      },
      "execution_count": null,
      "outputs": [
        {
          "output_type": "stream",
          "name": "stdout",
          "text": [
            "escriba un año: 2000\n",
            "el año es bisiesto.\n"
          ]
        }
      ]
    },
    {
      "cell_type": "code",
      "source": [
        "contraseña = input(\"ingresa una contraseña: \")\n",
        "\n",
        "tiene_numero = False\n",
        "tiene_mayuscula = False\n",
        "mas_de_ocho = 0\n",
        "\n",
        "for caracter in contraseña:\n",
        "    mas_de_ocho += 1\n",
        "    if caracter >= '0' and caracter <= '9':\n",
        "        tiene_numero = True\n",
        "    if caracter >= 'A' and caracter <= 'Z':\n",
        "        tiene_mayuscula = True\n",
        "\n",
        "if mas_de_ocho <= 8:\n",
        "    print(\"la contraseña es inválida: debe tener más de 8 caracteres.\")\n",
        "elif tiene_numero == False:\n",
        "    print(\"la contraseña es inválida: debe contener al menos un número.\")\n",
        "elif tiene_mayuscula == False:\n",
        "    print(\"la contraseña es inválida: debe contener al menos una letra mayúscula.\")\n",
        "else:\n",
        "    print(\"la contraseña es válida.\")"
      ],
      "metadata": {
        "id": "gh1eIZxa4svi"
      },
      "execution_count": null,
      "outputs": []
    },
    {
      "cell_type": "code",
      "source": [
        "numero = int(input(\"escriba un numero\"))\n",
        "\n",
        "if numero % 3 == 0 and numero % 5 == 0:\n",
        "  print(\"fizzbuzz\")\n",
        "elif numero % 3 == 0:\n",
        "  print(\"fizz\")\n",
        "elif numero % 5 == 0:\n",
        "  print(\"buzz\")\n",
        "else:\n",
        "  print(numero)"
      ],
      "metadata": {
        "colab": {
          "base_uri": "https://localhost:8080/"
        },
        "id": "-DLg3mNK5uOU",
        "outputId": "7db07916-63b9-40ae-9e88-3d0179aeb8d0"
      },
      "execution_count": null,
      "outputs": [
        {
          "output_type": "stream",
          "name": "stdout",
          "text": [
            "escriba un numero50\n",
            "buzz\n"
          ]
        }
      ]
    },
    {
      "cell_type": "code",
      "source": [
        "saldo = 2500\n",
        "\n",
        "monto = int(input(\"escriba un monto a retirar\"))\n",
        "if monto <= 0:\n",
        "  print(\"monto invalido, tiene que ser mayor que cero\")\n",
        "elif monto > saldo:\n",
        "  print(\"fondos insuficientes\")\n",
        "else:\n",
        "  saldo -= monto\n",
        "  print(\"su retiro fue exitoso, salto restante:\", saldo)"
      ],
      "metadata": {
        "colab": {
          "base_uri": "https://localhost:8080/"
        },
        "id": "ACmjbvCF67m-",
        "outputId": "57c2a033-9e82-40d1-8795-ace30d06b968"
      },
      "execution_count": null,
      "outputs": [
        {
          "output_type": "stream",
          "name": "stdout",
          "text": [
            "escriba un monto a retirar200\n",
            "su retiro fue exitoso, salto restante: 2300\n"
          ]
        }
      ]
    },
    {
      "cell_type": "markdown",
      "source": [
        "ejercicios con (if-else)"
      ],
      "metadata": {
        "id": "LpCD3AznIOEK"
      }
    },
    {
      "cell_type": "code",
      "source": [
        "n=int(input(\"ingrese un numero\"))\n",
        "if n>0:\n",
        "  print(f\"{n} es un numero positivo\")\n",
        "else:\n",
        "  print(n,\" No es un numero positivo\")"
      ],
      "metadata": {
        "colab": {
          "base_uri": "https://localhost:8080/"
        },
        "id": "wcF00Ve0C6cR",
        "outputId": "075e7201-e407-4b2a-a4d6-9594ae51cd40"
      },
      "execution_count": null,
      "outputs": [
        {
          "output_type": "stream",
          "name": "stdout",
          "text": [
            "ingrese un numero22\n",
            "22 es un numero positivo\n"
          ]
        }
      ]
    },
    {
      "cell_type": "code",
      "source": [
        "edad = int(input(\"escriba su edad\"))\n",
        "\n",
        "if edad >= 18:\n",
        "  print(\"eres mayor de edad en tu pais (18)\")\n",
        "else:\n",
        "  print(\"eres menor de edad en tu pais (18)\")\n",
        "\n",
        "if edad >= 21:\n",
        "  print(\"eres mayor de edad en estados unidos (21)\")\n",
        "else:\n",
        "  print(\"eres menor de edad en estados unidos (21)\")"
      ],
      "metadata": {
        "colab": {
          "base_uri": "https://localhost:8080/"
        },
        "id": "E8w7saL-DZk2",
        "outputId": "1fa2eee4-afb3-40c5-e42b-51cb77d4278f"
      },
      "execution_count": null,
      "outputs": [
        {
          "output_type": "stream",
          "name": "stdout",
          "text": [
            "escriba su edad18\n",
            "eres mayor de edad en tu pais (18)\n",
            "eres menor de edad en estados unidos (21)\n"
          ]
        }
      ]
    },
    {
      "cell_type": "code",
      "source": [
        "num1 = int(input(\"escriba el primer numero\"))\n",
        "num2 = int(input(\"escriba el segundonumero\"))\n",
        "\n",
        "if num1 > num2:\n",
        "  print(\"el mayor es\", num1)\n",
        "else:\n",
        "  print(\"el mayor es\", num2)"
      ],
      "metadata": {
        "colab": {
          "base_uri": "https://localhost:8080/"
        },
        "id": "ddhqm9mHFe1p",
        "outputId": "fe48df60-fd56-44aa-d1d9-e4eee395884f"
      },
      "execution_count": null,
      "outputs": [
        {
          "output_type": "stream",
          "name": "stdout",
          "text": [
            "escriba el primer numero2\n",
            "escriba el segundonumero25\n",
            "el mayor es 25\n"
          ]
        }
      ]
    },
    {
      "cell_type": "code",
      "source": [
        "nota = int(input(\"escriba cuanto fue la nota\"))\n",
        "\n",
        "if nota >= 60:\n",
        "  print(\"aprobado\")\n",
        "else:\n",
        "  print(\"reprobo\")"
      ],
      "metadata": {
        "colab": {
          "base_uri": "https://localhost:8080/"
        },
        "id": "9veKkewwHw1l",
        "outputId": "18bd4ee2-c3aa-494f-a1c7-84230794e759"
      },
      "execution_count": null,
      "outputs": [
        {
          "output_type": "stream",
          "name": "stdout",
          "text": [
            "escriba cuanto fue la nota50\n",
            "reprobo\n"
          ]
        }
      ]
    },
    {
      "cell_type": "code",
      "source": [
        "numero = int(input(\"escriba un numero\"))\n",
        "\n",
        "if numero % 2 == 0:\n",
        "  print(\"el numero es par\")\n",
        "else:\n",
        "  print(\"el numero es impar\")"
      ],
      "metadata": {
        "colab": {
          "base_uri": "https://localhost:8080/"
        },
        "id": "2OlHYjHvJn2H",
        "outputId": "e3acef12-b27d-42df-cbd9-22081071577f"
      },
      "execution_count": null,
      "outputs": [
        {
          "output_type": "stream",
          "name": "stdout",
          "text": [
            "escriba un numero20\n",
            "el numero es par\n"
          ]
        }
      ]
    },
    {
      "cell_type": "code",
      "source": [
        "num1 = int(input(\"ingrese el primer numero\"))\n",
        "num2 = int(input(\"ingrese el segundo numero\"))\n",
        "num3 = int(input(\"ingrese el tercer numero\"))\n",
        "\n",
        "if num1 > num2:\n",
        "  if num1 > num3:\n",
        "    mayor = num1\n",
        "  else:\n",
        "    mayor = num3\n",
        "else:\n",
        "  if num2 > num3:\n",
        "    mayor = num2\n",
        "  else:\n",
        "    mayor = num3\n",
        "print(\"el mayor es\", mayor)"
      ],
      "metadata": {
        "colab": {
          "base_uri": "https://localhost:8080/"
        },
        "id": "--HwHrE4Ki73",
        "outputId": "9d8c65e7-e71f-491c-b1e8-8f6456b4c4ad"
      },
      "execution_count": null,
      "outputs": [
        {
          "output_type": "stream",
          "name": "stdout",
          "text": [
            "ingrese el primer numero5\n",
            "ingrese el segundo numero6\n",
            "ingrese el tercer numero7\n",
            "el mayor es 7\n"
          ]
        }
      ]
    },
    {
      "cell_type": "code",
      "source": [
        "año = int(input(\"escriba un año cualquiera\"))\n",
        "\n",
        "if (año % 400 == 0) or (año % 4 == 0 and año % 100 != 0):\n",
        "  print(\"el año es bisiesto\")\n",
        "else:\n",
        "    print(\"el año no es bisiesto\")"
      ],
      "metadata": {
        "colab": {
          "base_uri": "https://localhost:8080/"
        },
        "id": "eceI1F5gRNOO",
        "outputId": "6c9f2400-c683-4c57-eed0-fdf70425d734"
      },
      "execution_count": null,
      "outputs": [
        {
          "output_type": "stream",
          "name": "stdout",
          "text": [
            "escriba un año cualquiera1998\n",
            "el año no es bisiesto\n"
          ]
        }
      ]
    },
    {
      "cell_type": "code",
      "source": [
        "longitud = int(input(\"Número de caracteres: \"))\n",
        "numero = input(\"¿Tiene número? (s/n): \")\n",
        "mayuscula = input(\"¿Tiene mayúscula? (s/n): \")\n",
        "\n",
        "if longitud > 8 and numero == \"s\" and mayuscula == \"s\":\n",
        "    print(\"La contraseña es válida.\")\n",
        "else:\n",
        "    print(\"La contraseña no es válida.\")"
      ],
      "metadata": {
        "id": "WKut1A1MSKth"
      },
      "execution_count": null,
      "outputs": []
    },
    {
      "cell_type": "code",
      "source": [
        "numero = int(input(\"ingrese un numero\"))\n",
        "\n",
        "if numero % 3 == 0 and numero % 5 == 0:\n",
        "  print(\"fizzbuzz\")\n",
        "else:\n",
        "  if numero % 3 == 0:\n",
        "    print(\"fizz\")\n",
        "  else:\n",
        "    if numero % 5 == 0:\n",
        "      print(\"buzz\")\n",
        "    else:\n",
        "      print(numero)\n"
      ],
      "metadata": {
        "id": "GULxE4T5Shk6",
        "colab": {
          "base_uri": "https://localhost:8080/"
        },
        "outputId": "2357cc67-2b14-45d9-d5ce-fdd2886ebb9d"
      },
      "execution_count": 2,
      "outputs": [
        {
          "output_type": "stream",
          "name": "stdout",
          "text": [
            "ingrese un numero5\n",
            "buzz\n"
          ]
        }
      ]
    },
    {
      "cell_type": "code",
      "source": [
        "saldo = 5000\n",
        "\n",
        "monto = int(input(\"ingrese el monto a retirar: \"))\n",
        "\n",
        "if monto <= saldo:\n",
        "    print(\"retiro exitoso. Su nuevo saldo es:\", saldo - monto)\n",
        "else:\n",
        "    print(\"fondos insuficientes.\")"
      ],
      "metadata": {
        "id": "tP4MB2_3MZKH"
      },
      "execution_count": null,
      "outputs": []
    },
    {
      "cell_type": "markdown",
      "source": [
        "ejercicios con operador terniario"
      ],
      "metadata": {
        "id": "lxdG8ZDFM2Zz"
      }
    },
    {
      "cell_type": "code",
      "source": [
        "numero = int(input(\"ingrese un numero\"))\n",
        "print(\"positivo\" if numero > 0 else \"no es positivo\")"
      ],
      "metadata": {
        "colab": {
          "base_uri": "https://localhost:8080/"
        },
        "id": "snQgEd9PNEzv",
        "outputId": "5f9f6ad7-791f-419e-935b-0e3ac60b3914"
      },
      "execution_count": 7,
      "outputs": [
        {
          "output_type": "stream",
          "name": "stdout",
          "text": [
            "ingrese un numero52\n",
            "positivo\n"
          ]
        }
      ]
    },
    {
      "cell_type": "code",
      "source": [
        "edad = int(input(\"ingrese su edad\"))\n",
        "print(\"mayor de edad\" if edad >= 18 else \"es menor de edad\")"
      ],
      "metadata": {
        "colab": {
          "base_uri": "https://localhost:8080/"
        },
        "id": "aa1Q8IzrODSG",
        "outputId": "96c67bae-78d6-46f9-820d-8e7ba456bf14"
      },
      "execution_count": 9,
      "outputs": [
        {
          "output_type": "stream",
          "name": "stdout",
          "text": [
            "ingrese su edad11\n",
            "es menor de edad\n"
          ]
        }
      ]
    },
    {
      "cell_type": "code",
      "source": [
        "edad = int(input(\"Ingrese su edad: \"))\n",
        "print(\"Mayor de edad\" if edad >= 18 else \"Menor de edad\")"
      ],
      "metadata": {
        "id": "AMNFYwnzQoE1"
      },
      "execution_count": null,
      "outputs": []
    },
    {
      "cell_type": "code",
      "source": [
        "num1 = int(input(\"ingrese el primer numero\"))\n",
        "num2 = int(input(\"ingrese el segundo numero\"))\n",
        "\n",
        "print(num1 if num1 > num2 else num2)"
      ],
      "metadata": {
        "colab": {
          "base_uri": "https://localhost:8080/"
        },
        "id": "_PyUjPNDOP9n",
        "outputId": "3d8bb62f-69a4-4c72-db53-67cd674cf5f3"
      },
      "execution_count": 10,
      "outputs": [
        {
          "output_type": "stream",
          "name": "stdout",
          "text": [
            "ingrese el primer numero20\n",
            "ingrese el segundo numero25\n",
            "25\n"
          ]
        }
      ]
    },
    {
      "cell_type": "code",
      "source": [
        "calificacion = int(input(\"Ingrese la calificación (0-100): \"))\n",
        "print(\"Aprobado\" if calificacion >= 60 else \"Reprobado\")"
      ],
      "metadata": {
        "colab": {
          "base_uri": "https://localhost:8080/"
        },
        "id": "SqG_LaLxQPEq",
        "outputId": "e4be483a-6b76-4e92-d4a4-c49247b289f0"
      },
      "execution_count": 11,
      "outputs": [
        {
          "output_type": "stream",
          "name": "stdout",
          "text": [
            "Ingrese la calificación (0-100): 26\n",
            "Reprobado\n"
          ]
        }
      ]
    },
    {
      "cell_type": "code",
      "source": [
        "numero = int(input(\"Ingrese un número: \"))\n",
        "print(\"Par\" if numero % 2 == 0 else \"Impar\")"
      ],
      "metadata": {
        "colab": {
          "base_uri": "https://localhost:8080/"
        },
        "id": "zALSkDemQ20v",
        "outputId": "a7f9ca51-3ec4-4a36-ca6d-5a5c42effc20"
      },
      "execution_count": 14,
      "outputs": [
        {
          "output_type": "stream",
          "name": "stdout",
          "text": [
            "Ingrese un número: 60\n",
            "Par\n"
          ]
        }
      ]
    },
    {
      "cell_type": "code",
      "source": [
        "a = int(input(\"Ingrese el primer número: \"))\n",
        "b = int(input(\"Ingrese el segundo número: \"))\n",
        "c = int(input(\"Ingrese el tercer número: \"))\n",
        "\n",
        "mayor = a if a > b and a > c else (b if b > c else c)\n",
        "print(\"El mayor es:\", mayor)"
      ],
      "metadata": {
        "colab": {
          "base_uri": "https://localhost:8080/"
        },
        "id": "nFWo2gFZQ7x4",
        "outputId": "d1f8b2ed-93bc-43fb-ad2a-470763fe41bd"
      },
      "execution_count": 15,
      "outputs": [
        {
          "output_type": "stream",
          "name": "stdout",
          "text": [
            "Ingrese el primer número: 50\n",
            "Ingrese el segundo número: 20\n",
            "Ingrese el tercer número: 33\n",
            "El mayor es: 50\n"
          ]
        }
      ]
    },
    {
      "cell_type": "code",
      "source": [
        "año = int(input(\"Ingrese un año: \"))\n",
        "print(\"Bisiesto\" if (año % 400 == 0 or (año % 4 == 0 and año % 100 != 0)) else \"No bisiesto\")"
      ],
      "metadata": {
        "colab": {
          "base_uri": "https://localhost:8080/"
        },
        "id": "gSyBq8vGRXGU",
        "outputId": "5efb91ef-5b61-4afe-904c-36ee83f7694c"
      },
      "execution_count": 16,
      "outputs": [
        {
          "output_type": "stream",
          "name": "stdout",
          "text": [
            "Ingrese un año: 2003\n",
            "No bisiesto\n"
          ]
        }
      ]
    },
    {
      "cell_type": "code",
      "source": [
        "contraseña = input(\"Ingrese la contraseña: \")\n",
        "\n",
        "print(\n",
        "    \"Contraseña válida\"\n",
        "    if len(contraseña) > 8\n",
        "    and any(c.isdigit() for c in contraseña)\n",
        "    and any(c.isupper() for c in contraseña)\n",
        "    else \"Contraseña inválida\"\n",
        ")"
      ],
      "metadata": {
        "colab": {
          "base_uri": "https://localhost:8080/"
        },
        "id": "9yYhgqA3Rgyl",
        "outputId": "9eb1029d-97dc-446f-90af-5850318adc54"
      },
      "execution_count": 19,
      "outputs": [
        {
          "output_type": "stream",
          "name": "stdout",
          "text": [
            "Ingrese la contraseña: daoniw\n",
            "Contraseña inválida\n"
          ]
        }
      ]
    },
    {
      "cell_type": "code",
      "source": [
        "numero = int(input(\"Ingrese un número: \"))\n",
        "print(\"FizzBuzz\" if numero % 3 == 0 and numero % 5 == 0 else \"Fizz\" if numero % 3 == 0 else \"Buzz\" if numero % 5 == 0 else numero)"
      ],
      "metadata": {
        "colab": {
          "base_uri": "https://localhost:8080/"
        },
        "id": "jRIzbtSgR84J",
        "outputId": "2119450b-d645-4495-c9f2-2d455d34a078"
      },
      "execution_count": 20,
      "outputs": [
        {
          "output_type": "stream",
          "name": "stdout",
          "text": [
            "Ingrese un número: 20\n",
            "Buzz\n"
          ]
        }
      ]
    },
    {
      "cell_type": "code",
      "source": [
        "saldo = 5000\n",
        "monto = int(input(\"Ingrese el monto a retirar: \"))\n",
        "\n",
        "print(\n",
        "    f\"Retiro exitoso. Nuevo saldo: {saldo - monto}\"\n",
        "    if monto <= saldo\n",
        "    else \"Fondos insuficientes\"\n",
        ")"
      ],
      "metadata": {
        "id": "LLk0F_j0SKmb"
      },
      "execution_count": null,
      "outputs": []
    }
  ]
}