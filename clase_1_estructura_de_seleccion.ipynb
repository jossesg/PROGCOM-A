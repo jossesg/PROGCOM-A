{
  "nbformat": 4,
  "nbformat_minor": 0,
  "metadata": {
    "colab": {
      "provenance": [],
      "authorship_tag": "ABX9TyPKLxU35DzhrVMK5cgxF5rp",
      "include_colab_link": true
    },
    "kernelspec": {
      "name": "python3",
      "display_name": "Python 3"
    },
    "language_info": {
      "name": "python"
    }
  },
  "cells": [
    {
      "cell_type": "markdown",
      "metadata": {
        "id": "view-in-github",
        "colab_type": "text"
      },
      "source": [
        "<a href=\"https://colab.research.google.com/github/jossesg/PROGCOM-A/blob/main/clase_1_estructura_de_seleccion.ipynb\" target=\"_parent\"><img src=\"https://colab.research.google.com/assets/colab-badge.svg\" alt=\"Open In Colab\"/></a>"
      ]
    },
    {
      "cell_type": "markdown",
      "source": [
        "1print(f\"{n} es un numero positivo\") if n>=0 else print(f\"{n} no es un numero positivo\")\n",
        "\n",
        "\n",
        "\n"
      ],
      "metadata": {
        "id": "WPetl8-G2kVv"
      }
    },
    {
      "cell_type": "markdown",
      "source": [
        "##operador terniario\n",
        "\n",
        "se usa cuando hay una condicion a evaluar simple y se desea resolver en una linea de codigo\n",
        "\n",
        "```\n",
        "(valor de verdad v) if (condicion) else (valor de verdad f)\n",
        "```\n",
        "\n"
      ],
      "metadata": {
        "id": "RickuJZf1L4P"
      }
    },
    {
      "cell_type": "markdown",
      "source": [
        "\n",
        "\n",
        "```\n",
        "##condicion\n",
        "\n",
        "if n>0: print(f\"{n} es un numero positivo\")\n",
        "elif n<0: print(f\"{n} no es un numero positivo\")\n",
        "else: print(f\"{n} es 0\")\n",
        "```\n",
        "\n"
      ],
      "metadata": {
        "id": "bq2_8Jog0o-I"
      }
    },
    {
      "cell_type": "markdown",
      "source": [
        "##seleccion multiple if-elif-else\n",
        "\n",
        "el elif siempre va compañado de una coindicion\n",
        "\n",
        "\n",
        "\n",
        "\n",
        "```\n",
        "if (condicion):\n",
        "  si se cumple condicion 1, entro aqui\n",
        "elif (condicion2):\n",
        "  si no se cumple condicion2, entro aqui\n",
        "else:\n",
        "  si no se cumple ninguna de las anteriores\n",
        "```\n",
        "\n"
      ],
      "metadata": {
        "id": "lHdD5en_zkgh"
      }
    },
    {
      "cell_type": "markdown",
      "source": [
        "#escribe un programa que reciba un numero e indique si es positivo\n",
        "\n",
        "\n",
        "\n",
        "```\n",
        "n=int(input(\"ingrese un numero\")\n",
        "if n>0:\n",
        "  print(f\"{n} es un numero positivo\")\n",
        "else:\n",
        "  print(n,\" No es un numero positivo\")\n",
        "```\n",
        "\n"
      ],
      "metadata": {
        "id": "HXzUT8J6t9f9"
      }
    },
    {
      "cell_type": "markdown",
      "source": [
        "##estructura if-else\n",
        "\n",
        "\n",
        "\n",
        "\n",
        "\n",
        "```\n",
        "if (coindicion):\n",
        "  entro aqui, si la coindicion es V.\n",
        "else:\n",
        "  entro aqui, si la coindicion es F.\n",
        "```\n",
        "\n"
      ],
      "metadata": {
        "id": "-0aQgPQ0tEa1"
      }
    },
    {
      "cell_type": "markdown",
      "source": [
        "#estructura de seleccion\n",
        "\n",
        "se emplean cuando se debe evaluar una coindicion y esta da un valor de verdad (v) o (f)"
      ],
      "metadata": {
        "id": "-GXgK4-xsv99"
      }
    },
    {
      "cell_type": "code",
      "source": [
        "n=int(input(\"ingrese un numero\"))\n",
        "if n>0:\n",
        "  print(f\"{n} es un numero positivo\")\n",
        "else:\n",
        "  print(n,\" No es un numero positivo\")"
      ],
      "metadata": {
        "colab": {
          "base_uri": "https://localhost:8080/"
        },
        "id": "mox5gbHv4iFV",
        "outputId": "c492340a-3f40-4aa2-a095-c9e0b8cfc1c1"
      },
      "execution_count": 6,
      "outputs": [
        {
          "output_type": "stream",
          "name": "stdout",
          "text": [
            "ingrese un numero23\n",
            "23 es un numero positivo\n"
          ]
        }
      ]
    },
    {
      "cell_type": "code",
      "source": [
        "if n>0: print(f\"{n} es un numero positivo\")\n",
        "elif n<0: print(f\"{n} no es un numero positivo\")\n",
        "else: print(f\"{n} es 0\")"
      ],
      "metadata": {
        "colab": {
          "base_uri": "https://localhost:8080/"
        },
        "id": "g4kaE_p341YM",
        "outputId": "3bcaf7a7-1baa-4bd8-8c9b-9609b0cde567"
      },
      "execution_count": 7,
      "outputs": [
        {
          "output_type": "stream",
          "name": "stdout",
          "text": [
            "23 es un numero positivo\n"
          ]
        }
      ]
    },
    {
      "cell_type": "code",
      "source": [
        "print(f\"{n} es un numero positivo\") if n>0 else print(f\"{n} no es un numero positivo\")\n"
      ],
      "metadata": {
        "colab": {
          "base_uri": "https://localhost:8080/"
        },
        "id": "mEk81lFm5Gtc",
        "outputId": "e7744331-150a-46d1-8d80-1e372dbef683"
      },
      "execution_count": 14,
      "outputs": [
        {
          "output_type": "stream",
          "name": "stdout",
          "text": [
            "23 es un numero positivo\n"
          ]
        }
      ]
    },
    {
      "cell_type": "code",
      "source": [
        "a=f\"{n}es un numero positivo\" if n>0 else f\"{n} No es un numero positivo\"\n",
        "print(a)"
      ],
      "metadata": {
        "colab": {
          "base_uri": "https://localhost:8080/"
        },
        "id": "EYXbrbsh5bZk",
        "outputId": "1c9cfab7-d764-44c3-a582-604a071139d6"
      },
      "execution_count": 13,
      "outputs": [
        {
          "output_type": "stream",
          "name": "stdout",
          "text": [
            "23es un numero positivo\n"
          ]
        }
      ]
    },
    {
      "cell_type": "code",
      "source": [
        "edad =int(input(\"ingrese su edad\"))\n",
        "\n",
        "pais =input(\"escriba el pais de donde es\")\n",
        "\n",
        "if edad <0:\n",
        "  print(\"la edad no puede ser negativa\")\n",
        "elif pais == \"estdos unidos\":\n",
        "  if edad < 21:\n",
        "    print(\"en estados unidos eres menor de edad\")\n",
        "  else:\n",
        "    print(\"en estados unidos eres mayor de edad\")\n",
        "else:\n",
        "  if edad <18:\n",
        "    print(\" eres menor de edad\")\n",
        "  else:\n",
        "    print(\" eres mayor de edad\")"
      ],
      "metadata": {
        "colab": {
          "base_uri": "https://localhost:8080/"
        },
        "id": "zy2eajJq59gk",
        "outputId": "d68b4d61-3ce7-4e7a-9cee-cbb89576531b"
      },
      "execution_count": 18,
      "outputs": [
        {
          "output_type": "stream",
          "name": "stdout",
          "text": [
            "ingrese su edad14\n",
            "escriba el pais de donde escolombia\n",
            " eres menor de edad\n"
          ]
        }
      ]
    },
    {
      "cell_type": "code",
      "source": [
        "num1 = int(input(\"ingrese el primer numero\"))\n",
        "num2 = int(input(\"ingrese el segundo numero\"))\n",
        "\n",
        "if num1 > num2:\n",
        "  print(\"el mayor es\", num1)\n",
        "elif num2 > num1:\n",
        "  print(\"el mayor es\", num2)\n",
        "else:\n",
        "  print(\"ambos numeros son iguales\")"
      ],
      "metadata": {
        "colab": {
          "base_uri": "https://localhost:8080/"
        },
        "id": "EsVsNE_E_OLB",
        "outputId": "85eecb4f-a517-4317-bda3-06b64fab3117"
      },
      "execution_count": 24,
      "outputs": [
        {
          "output_type": "stream",
          "name": "stdout",
          "text": [
            "ingrese el primer numero34\n",
            "ingrese el segundo numero23\n",
            "el mayor es 34\n"
          ]
        }
      ]
    },
    {
      "cell_type": "code",
      "source": [
        "calificacion =int(input(\"ingrese la nota que saco\"))\n",
        "\n",
        "if calificacion <0:\n",
        "  print(\"la nota no puede ser menor que cero\")\n",
        "elif calificacion >100:\n",
        "  print(\"la nota no puede ser mas de cien\")\n",
        "elif calificacion >=60:\n",
        "  print(\"aprobo\")\n",
        "else:\n",
        "  print(\"perdio\")\n",
        ""
      ],
      "metadata": {
        "colab": {
          "base_uri": "https://localhost:8080/"
        },
        "id": "s1_nPYy5_Ckw",
        "outputId": "82c55ab4-921f-4acc-ac9b-ad2e6e81ffb0"
      },
      "execution_count": 28,
      "outputs": [
        {
          "output_type": "stream",
          "name": "stdout",
          "text": [
            "ingrese la nota que saco123\n",
            "la nota no puede ser mas de cien\n"
          ]
        }
      ]
    },
    {
      "cell_type": "code",
      "source": [],
      "metadata": {
        "id": "Um0rbLhKClPn"
      },
      "execution_count": null,
      "outputs": []
    }
  ]
}