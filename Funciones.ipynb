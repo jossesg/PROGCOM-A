{
  "nbformat": 4,
  "nbformat_minor": 0,
  "metadata": {
    "colab": {
      "provenance": [],
      "authorship_tag": "ABX9TyP1+fKZ/wHrwyRW4qJNfVz+",
      "include_colab_link": true
    },
    "kernelspec": {
      "name": "python3",
      "display_name": "Python 3"
    },
    "language_info": {
      "name": "python"
    }
  },
  "cells": [
    {
      "cell_type": "markdown",
      "metadata": {
        "id": "view-in-github",
        "colab_type": "text"
      },
      "source": [
        "<a href=\"https://colab.research.google.com/github/jossesg/PROGCOM-A/blob/main/Funciones.ipynb\" target=\"_parent\"><img src=\"https://colab.research.google.com/assets/colab-badge.svg\" alt=\"Open In Colab\"/></a>"
      ]
    },
    {
      "cell_type": "markdown",
      "source": [
        "\n",
        "##FUNCIONES\n",
        "\n",
        "Copiado dinamico\n",
        "\n",
        "dio nacimiento a un nuevo paradigma de programacion llamado programacion modular\n",
        "\n",
        "##FORMA GENERAL DE PROGRAMAR FUNCIONES\n",
        "\n",
        "def ( nombre_de_funcion)(p,p2,p3...pn):\n",
        "  donde p, p2, p3...pn: son parametros\n"
      ],
      "metadata": {
        "id": "e0EYli8S4HJ7"
      }
    },
    {
      "cell_type": "markdown",
      "source": [
        "1. list()\n",
        "2. len()\n",
        "3. print()\n",
        "4. append()#metodo\n",
        "5. int()\n",
        "6. input()"
      ],
      "metadata": {
        "id": "SYdrRL4P4utK"
      }
    },
    {
      "cell_type": "markdown",
      "source": [
        "##tipos de funciones\n",
        "\n",
        "1. sin parametros, sin retorno\n",
        "2. sin parametros, con retorno\n",
        "3. con parametros, sin retorno\n",
        "4. con parametros, con retorno\n"
      ],
      "metadata": {
        "id": "EyULzr5c5RFJ"
      }
    },
    {
      "cell_type": "markdown",
      "source": [
        "1. sin parametros, sin retornos\n",
        "\n",
        "se emplea como copiado dinamico"
      ],
      "metadata": {
        "id": "H2qTK8KQ6Px5"
      }
    },
    {
      "cell_type": "code",
      "source": [
        "#ejemplo: entrada de cajero electronico\n",
        "def cajero():# esto significa que es sin parametro\n",
        "  print(\"bienvenido a daviunab\")\n",
        "  print(\"estas son las operaciones que puede realizar:\")\n",
        "  print(\"1. retirar\\n2. transferencia\\n3. denunciar\\n4. operaciones sin tarjeta\")"
      ],
      "metadata": {
        "id": "pCGKbw0W4GoL"
      },
      "execution_count": 1,
      "outputs": []
    },
    {
      "cell_type": "code",
      "source": [
        "cajero()"
      ],
      "metadata": {
        "colab": {
          "base_uri": "https://localhost:8080/"
        },
        "id": "LpgcF8C57NcB",
        "outputId": "6eb384ea-a9ef-40d3-d02a-b14091d2ad6c"
      },
      "execution_count": 3,
      "outputs": [
        {
          "output_type": "stream",
          "name": "stdout",
          "text": [
            "bienvenido a daviunab\n",
            "estas son las operaciones que puede realizar:\n",
            "1. retirar\n",
            "2. transferencia\n",
            "3. denunciar\n",
            "4. operaciones sin tarjeta\n"
          ]
        }
      ]
    },
    {
      "cell_type": "code",
      "source": [
        "##SIN PARAMETROS, CON RETORNO"
      ],
      "metadata": {
        "id": "F3-GxjgU8eKX"
      },
      "execution_count": null,
      "outputs": []
    },
    {
      "cell_type": "code",
      "source": [
        "def cajero2():# esto significa que es sin parametro\n",
        "  print(\"bienvenido a daviunab\")\n",
        "  print(\"estas son las operaciones que puede realizar:\")\n",
        "  print(\"1. retirar\\n2. transferencia\\n3. denunciar\\n4. operaciones sin tarjeta\")\n",
        "  rta=input(\"ingrese una opcion\")\n",
        "  return rta#vuela una variable local a global"
      ],
      "metadata": {
        "id": "b-PGtUp58t2O"
      },
      "execution_count": 4,
      "outputs": []
    },
    {
      "cell_type": "code",
      "source": [
        "cajero2()"
      ],
      "metadata": {
        "colab": {
          "base_uri": "https://localhost:8080/",
          "height": 391
        },
        "id": "9MJ6rlHC9EFu",
        "outputId": "4abaa382-ada3-411f-c09e-84bef5c4fc91"
      },
      "execution_count": 5,
      "outputs": [
        {
          "output_type": "stream",
          "name": "stdout",
          "text": [
            "bienvenido a daviunab\n",
            "estas son las operaciones que puede realizar:\n",
            "1. retirar\n",
            "2. transferencia\n",
            "3. denunciar\n",
            "4. operaciones sin tarjeta\n"
          ]
        },
        {
          "output_type": "error",
          "ename": "KeyboardInterrupt",
          "evalue": "Interrupted by user",
          "traceback": [
            "\u001b[0;31m---------------------------------------------------------------------------\u001b[0m",
            "\u001b[0;31mKeyboardInterrupt\u001b[0m                         Traceback (most recent call last)",
            "\u001b[0;32m/tmp/ipython-input-1904711666.py\u001b[0m in \u001b[0;36m<cell line: 0>\u001b[0;34m()\u001b[0m\n\u001b[0;32m----> 1\u001b[0;31m \u001b[0mcajero2\u001b[0m\u001b[0;34m(\u001b[0m\u001b[0;34m)\u001b[0m\u001b[0;34m\u001b[0m\u001b[0;34m\u001b[0m\u001b[0m\n\u001b[0m",
            "\u001b[0;32m/tmp/ipython-input-3994879928.py\u001b[0m in \u001b[0;36mcajero2\u001b[0;34m()\u001b[0m\n\u001b[1;32m      3\u001b[0m   \u001b[0mprint\u001b[0m\u001b[0;34m(\u001b[0m\u001b[0;34m\"estas son las operaciones que puede realizar:\"\u001b[0m\u001b[0;34m)\u001b[0m\u001b[0;34m\u001b[0m\u001b[0;34m\u001b[0m\u001b[0m\n\u001b[1;32m      4\u001b[0m   \u001b[0mprint\u001b[0m\u001b[0;34m(\u001b[0m\u001b[0;34m\"1. retirar\\n2. transferencia\\n3. denunciar\\n4. operaciones sin tarjeta\"\u001b[0m\u001b[0;34m)\u001b[0m\u001b[0;34m\u001b[0m\u001b[0;34m\u001b[0m\u001b[0m\n\u001b[0;32m----> 5\u001b[0;31m   \u001b[0mrta\u001b[0m\u001b[0;34m=\u001b[0m\u001b[0minput\u001b[0m\u001b[0;34m(\u001b[0m\u001b[0;34m\"ingrese una opcion\"\u001b[0m\u001b[0;34m)\u001b[0m\u001b[0;34m\u001b[0m\u001b[0;34m\u001b[0m\u001b[0m\n\u001b[0m",
            "\u001b[0;32m/usr/local/lib/python3.12/dist-packages/ipykernel/kernelbase.py\u001b[0m in \u001b[0;36mraw_input\u001b[0;34m(self, prompt)\u001b[0m\n\u001b[1;32m   1175\u001b[0m                 \u001b[0;34m\"raw_input was called, but this frontend does not support input requests.\"\u001b[0m\u001b[0;34m\u001b[0m\u001b[0;34m\u001b[0m\u001b[0m\n\u001b[1;32m   1176\u001b[0m             )\n\u001b[0;32m-> 1177\u001b[0;31m         return self._input_request(\n\u001b[0m\u001b[1;32m   1178\u001b[0m             \u001b[0mstr\u001b[0m\u001b[0;34m(\u001b[0m\u001b[0mprompt\u001b[0m\u001b[0;34m)\u001b[0m\u001b[0;34m,\u001b[0m\u001b[0;34m\u001b[0m\u001b[0;34m\u001b[0m\u001b[0m\n\u001b[1;32m   1179\u001b[0m             \u001b[0mself\u001b[0m\u001b[0;34m.\u001b[0m\u001b[0m_parent_ident\u001b[0m\u001b[0;34m[\u001b[0m\u001b[0;34m\"shell\"\u001b[0m\u001b[0;34m]\u001b[0m\u001b[0;34m,\u001b[0m\u001b[0;34m\u001b[0m\u001b[0;34m\u001b[0m\u001b[0m\n",
            "\u001b[0;32m/usr/local/lib/python3.12/dist-packages/ipykernel/kernelbase.py\u001b[0m in \u001b[0;36m_input_request\u001b[0;34m(self, prompt, ident, parent, password)\u001b[0m\n\u001b[1;32m   1217\u001b[0m             \u001b[0;32mexcept\u001b[0m \u001b[0mKeyboardInterrupt\u001b[0m\u001b[0;34m:\u001b[0m\u001b[0;34m\u001b[0m\u001b[0;34m\u001b[0m\u001b[0m\n\u001b[1;32m   1218\u001b[0m                 \u001b[0;31m# re-raise KeyboardInterrupt, to truncate traceback\u001b[0m\u001b[0;34m\u001b[0m\u001b[0;34m\u001b[0m\u001b[0m\n\u001b[0;32m-> 1219\u001b[0;31m                 \u001b[0;32mraise\u001b[0m \u001b[0mKeyboardInterrupt\u001b[0m\u001b[0;34m(\u001b[0m\u001b[0;34m\"Interrupted by user\"\u001b[0m\u001b[0;34m)\u001b[0m \u001b[0;32mfrom\u001b[0m \u001b[0;32mNone\u001b[0m\u001b[0;34m\u001b[0m\u001b[0;34m\u001b[0m\u001b[0m\n\u001b[0m\u001b[1;32m   1220\u001b[0m             \u001b[0;32mexcept\u001b[0m \u001b[0mException\u001b[0m\u001b[0;34m:\u001b[0m\u001b[0;34m\u001b[0m\u001b[0;34m\u001b[0m\u001b[0m\n\u001b[1;32m   1221\u001b[0m                 \u001b[0mself\u001b[0m\u001b[0;34m.\u001b[0m\u001b[0mlog\u001b[0m\u001b[0;34m.\u001b[0m\u001b[0mwarning\u001b[0m\u001b[0;34m(\u001b[0m\u001b[0;34m\"Invalid Message:\"\u001b[0m\u001b[0;34m,\u001b[0m \u001b[0mexc_info\u001b[0m\u001b[0;34m=\u001b[0m\u001b[0;32mTrue\u001b[0m\u001b[0;34m)\u001b[0m\u001b[0;34m\u001b[0m\u001b[0;34m\u001b[0m\u001b[0m\n",
            "\u001b[0;31mKeyboardInterrupt\u001b[0m: Interrupted by user"
          ]
        }
      ]
    },
    {
      "cell_type": "markdown",
      "source": [
        "#CON PARAMETROS, SIN RETORNO"
      ],
      "metadata": {
        "id": "0xr8h0Eo_X-8"
      }
    },
    {
      "cell_type": "code",
      "source": [
        "#Ejemplo: el area de un rectangulo\n",
        "def area_rectangulo(u,du):\n",
        "  return f\"el area de un rectangulo de base {u} y altura {du} es {u*du}\"\n"
      ],
      "metadata": {
        "id": "Qfx1pI6O_dh4"
      },
      "execution_count": 11,
      "outputs": []
    },
    {
      "cell_type": "code",
      "source": [
        "a=area_rectangulo(10,25)"
      ],
      "metadata": {
        "id": "LBLvRtpFALW7"
      },
      "execution_count": 12,
      "outputs": []
    },
    {
      "cell_type": "code",
      "source": [
        "print(a)"
      ],
      "metadata": {
        "colab": {
          "base_uri": "https://localhost:8080/"
        },
        "id": "9mlY9mGGBEVq",
        "outputId": "31845870-b0c3-4aa5-a4b4-c434870e6ae1"
      },
      "execution_count": 13,
      "outputs": [
        {
          "output_type": "stream",
          "name": "stdout",
          "text": [
            "el area de un rectangulo de base 10 y altura 25 es 250\n"
          ]
        }
      ]
    },
    {
      "cell_type": "markdown",
      "source": [
        "##FUNCIONES ANONIMAS O LAMBDA\n",
        "\n",
        "1. siempre usan parametros\n",
        "2. siempre usan retorno\n",
        "3. no tiene nombre --> anonimas\n",
        "4. **se puede emplear n parametros, pero solo ejecuta una linea de codigo**\n",
        "\n",
        "##definicion de funciones LAMBDA\n",
        "\n",
        "\n",
        "\n",
        "```\n",
        "variable=LAMBDA (p,p1,p2,....,pn): operacion\n",
        "\n",
        "```\n",
        "\n"
      ],
      "metadata": {
        "id": "AbHHv0izDHAy"
      }
    },
    {
      "cell_type": "code",
      "source": [
        "#ejemplo: calcular el area de un triangulo\n",
        "area_triangulo=lambda a,b:a*b/2"
      ],
      "metadata": {
        "id": "mtADiyz5D8TA"
      },
      "execution_count": 1,
      "outputs": []
    },
    {
      "cell_type": "code",
      "source": [
        "area_triangulo(3,8)"
      ],
      "metadata": {
        "colab": {
          "base_uri": "https://localhost:8080/"
        },
        "id": "aFQjIrMcEsCg",
        "outputId": "8fd51c48-6560-4e52-9d17-19dd6693cfd1"
      },
      "execution_count": 2,
      "outputs": [
        {
          "output_type": "execute_result",
          "data": {
            "text/plain": [
              "12.0"
            ]
          },
          "metadata": {},
          "execution_count": 2
        }
      ]
    },
    {
      "cell_type": "code",
      "source": [
        "x=int(input(\"ingrese la altura de un triangulo\"))\n",
        "y=int(input(\"ingrese la base de un triangulo\"))\n",
        "area_triangulo(x,y)"
      ],
      "metadata": {
        "colab": {
          "base_uri": "https://localhost:8080/"
        },
        "id": "6sCndDo1E_Sv",
        "outputId": "c0a4c533-2f6a-4cec-f8d2-480b64d267a7"
      },
      "execution_count": 3,
      "outputs": [
        {
          "name": "stdout",
          "output_type": "stream",
          "text": [
            "ingrese la altura de un triangulo2\n",
            "ingrese la base de un triangulo5\n"
          ]
        },
        {
          "output_type": "execute_result",
          "data": {
            "text/plain": [
              "5.0"
            ]
          },
          "metadata": {},
          "execution_count": 3
        }
      ]
    },
    {
      "cell_type": "markdown",
      "source": [
        "calcule cual de 3 numeros es el mayor:"
      ],
      "metadata": {
        "id": "7l2nofX3Hy6g"
      }
    },
    {
      "cell_type": "code",
      "source": [
        "a,b,c = 12, 14, 23\n",
        "\n",
        "mayor = lambda x,y: x if x > y else y\n",
        "\n",
        "mayor_tres = mayor(mayor(a, b), c)\n",
        "print(\"el mayor es\", mayor_tres)"
      ],
      "metadata": {
        "colab": {
          "base_uri": "https://localhost:8080/"
        },
        "id": "5jmwv_IDHyjV",
        "outputId": "3f8a4115-6339-4031-f9a4-b696595842f3"
      },
      "execution_count": 6,
      "outputs": [
        {
          "output_type": "stream",
          "name": "stdout",
          "text": [
            "el mayor es 23\n"
          ]
        }
      ]
    }
  ]
}