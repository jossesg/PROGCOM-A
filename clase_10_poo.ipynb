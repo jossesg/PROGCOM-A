{
  "nbformat": 4,
  "nbformat_minor": 0,
  "metadata": {
    "colab": {
      "provenance": [],
      "authorship_tag": "ABX9TyOIHTpbV4ppXdmHua+ua90+",
      "include_colab_link": true
    },
    "kernelspec": {
      "name": "python3",
      "display_name": "Python 3"
    },
    "language_info": {
      "name": "python"
    }
  },
  "cells": [
    {
      "cell_type": "markdown",
      "metadata": {
        "id": "view-in-github",
        "colab_type": "text"
      },
      "source": [
        "<a href=\"https://colab.research.google.com/github/jossesg/PROGCOM-A/blob/main/clase_10_poo.ipynb\" target=\"_parent\"><img src=\"https://colab.research.google.com/assets/colab-badge.svg\" alt=\"Open In Colab\"/></a>"
      ]
    },
    {
      "cell_type": "markdown",
      "source": [
        "![png-transparent-house-cartoon-house-angle-text-rectangle-thumbnail.png](data:image/png;base64,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)"
      ],
      "metadata": {
        "id": "8t4hj1MJODEI"
      }
    },
    {
      "cell_type": "code",
      "execution_count": 6,
      "metadata": {
        "id": "QuFER_odN6H6"
      },
      "outputs": [],
      "source": [
        "class casa:\n",
        "  \"\"\"\n",
        "  construir el conrtructor\n",
        "  argumentos:\n",
        "    color(str): color de la casa\n",
        "    numero_habitaciones(int): el numero de habitaciones de la casa\n",
        "    numero_baños(int): el numero de baños de la casa\n",
        "    estacionamiento(bool): si tiene estacionamiento o no\n",
        "    tiene_patio(bool): si tiene patio o no\n",
        "  \"\"\"\n",
        "  def __init__(self,color,numero_habitaciones,numero_baños,estacionamiento,tiene_patio):\n",
        "    self.color = color\n",
        "    self.numero_habitaciones = numero_habitaciones\n",
        "    self.numero_baños = numero_baños\n",
        "    self.estacionamiento = estacionamiento\n",
        "    self.tiene_patio = tiene_patio\n",
        "  def descripcion(self):\n",
        "    descripcion=f\"la casa es de color {self.color}, tiene {self.numero_habitaciones}, {self.numero_baños}baños\"\n",
        "    if self.estacionamiento:\n",
        "      descripcion += \"y tiene estacionamiento\"\n",
        "    if self.tiene_patio:\n",
        "      descripcion += \"y tiene patio\"\n",
        "    return descripcion\n",
        "  def pintar(self,numero_color):\n",
        "    self.color=nuevo_color\n",
        "    print(f\"la casa ha sido pintada de color {self.color}\")"
      ]
    },
    {
      "cell_type": "code",
      "source": [
        "mi_casa=casa(\"blanca\",1,1,True,True)\n",
        "type(mi_casa)"
      ],
      "metadata": {
        "colab": {
          "base_uri": "https://localhost:8080/",
          "height": 186
        },
        "id": "8NkAhB_dTW0E",
        "outputId": "0fb6733d-0a93-491b-97c1-fcef3d591152"
      },
      "execution_count": 33,
      "outputs": [
        {
          "output_type": "execute_result",
          "data": {
            "text/plain": [
              "__main__.casa"
            ],
            "text/html": [
              "<div style=\"max-width:800px; border: 1px solid var(--colab-border-color);\"><style>\n",
              "      pre.function-repr-contents {\n",
              "        overflow-x: auto;\n",
              "        padding: 8px 12px;\n",
              "        max-height: 500px;\n",
              "      }\n",
              "\n",
              "      pre.function-repr-contents.function-repr-contents-collapsed {\n",
              "        cursor: pointer;\n",
              "        max-height: 100px;\n",
              "      }\n",
              "    </style>\n",
              "    <pre style=\"white-space: initial; background:\n",
              "         var(--colab-secondary-surface-color); padding: 8px 12px;\n",
              "         border-bottom: 1px solid var(--colab-border-color);\"><b>casa</b><br/>def __init__(color, numero_habitaciones, numero_baños, estacionamiento, tiene_patio)</pre><pre class=\"function-repr-contents function-repr-contents-collapsed\" style=\"\"><a class=\"filepath\" style=\"display:none\" href=\"#\"></a>construir el conrtructor \n",
              "argumentos:\n",
              "  color(str): color de la casa \n",
              "  numero_habitaciones(int): el numero de habitaciones de la casa\n",
              "  numero_baños(int): el numero de baños de la casa\n",
              "  estacionamiento(bool): si tiene estacionamiento o no \n",
              "  tiene_patio(bool): si tiene patio o no </pre></div>"
            ]
          },
          "metadata": {},
          "execution_count": 33
        }
      ]
    },
    {
      "cell_type": "code",
      "source": [
        "print(mi_casa.descripcion())"
      ],
      "metadata": {
        "colab": {
          "base_uri": "https://localhost:8080/"
        },
        "id": "MbULpLDeVkCQ",
        "outputId": "afcec709-8f97-40b6-ff2c-415fa67759eb"
      },
      "execution_count": 35,
      "outputs": [
        {
          "output_type": "stream",
          "name": "stdout",
          "text": [
            "la casa es de color blanca, tiene 1, 1bañosy tiene estacionamientoy tiene patio\n"
          ]
        }
      ]
    },
    {
      "cell_type": "code",
      "source": [
        "mi_casa.tiene_patio=False\n",
        "print(mi_casa.descripcion())"
      ],
      "metadata": {
        "colab": {
          "base_uri": "https://localhost:8080/"
        },
        "id": "JDV6i1UiWOt4",
        "outputId": "5a1f532c-5c3f-47b7-b85c-585c1ef88ba5"
      },
      "execution_count": 36,
      "outputs": [
        {
          "output_type": "stream",
          "name": "stdout",
          "text": [
            "la casa es de color blanca, tiene 1, 1bañosy tiene estacionamiento\n"
          ]
        }
      ]
    },
    {
      "cell_type": "code",
      "source": [
        "mi_casa.pintar(\"azul\")"
      ],
      "metadata": {
        "colab": {
          "base_uri": "https://localhost:8080/",
          "height": 256
        },
        "id": "9kO6mGiZWoCw",
        "outputId": "0dd363b4-5577-4f53-ecf8-56e916ca38f3"
      },
      "execution_count": 37,
      "outputs": [
        {
          "output_type": "error",
          "ename": "NameError",
          "evalue": "name 'nuevo_color' is not defined",
          "traceback": [
            "\u001b[0;31m---------------------------------------------------------------------------\u001b[0m",
            "\u001b[0;31mNameError\u001b[0m                                 Traceback (most recent call last)",
            "\u001b[0;32m/tmp/ipython-input-59735904.py\u001b[0m in \u001b[0;36m<cell line: 0>\u001b[0;34m()\u001b[0m\n\u001b[0;32m----> 1\u001b[0;31m \u001b[0mmi_casa\u001b[0m\u001b[0;34m.\u001b[0m\u001b[0mpintar\u001b[0m\u001b[0;34m(\u001b[0m\u001b[0;34m\"azul\"\u001b[0m\u001b[0;34m)\u001b[0m\u001b[0;34m\u001b[0m\u001b[0;34m\u001b[0m\u001b[0m\n\u001b[0m",
            "\u001b[0;32m/tmp/ipython-input-2460779952.py\u001b[0m in \u001b[0;36mpintar\u001b[0;34m(self, numero_color)\u001b[0m\n\u001b[1;32m     23\u001b[0m     \u001b[0;32mreturn\u001b[0m \u001b[0mdescripcion\u001b[0m\u001b[0;34m\u001b[0m\u001b[0;34m\u001b[0m\u001b[0m\n\u001b[1;32m     24\u001b[0m   \u001b[0;32mdef\u001b[0m \u001b[0mpintar\u001b[0m\u001b[0;34m(\u001b[0m\u001b[0mself\u001b[0m\u001b[0;34m,\u001b[0m\u001b[0mnumero_color\u001b[0m\u001b[0;34m)\u001b[0m\u001b[0;34m:\u001b[0m\u001b[0;34m\u001b[0m\u001b[0;34m\u001b[0m\u001b[0m\n\u001b[0;32m---> 25\u001b[0;31m     \u001b[0mself\u001b[0m\u001b[0;34m.\u001b[0m\u001b[0mcolor\u001b[0m\u001b[0;34m=\u001b[0m\u001b[0mnuevo_color\u001b[0m\u001b[0;34m\u001b[0m\u001b[0;34m\u001b[0m\u001b[0m\n\u001b[0m\u001b[1;32m     26\u001b[0m     \u001b[0mprint\u001b[0m\u001b[0;34m(\u001b[0m\u001b[0;34mf\"la casa ha sido pintada de color {self.color}\"\u001b[0m\u001b[0;34m)\u001b[0m\u001b[0;34m\u001b[0m\u001b[0;34m\u001b[0m\u001b[0m\n",
            "\u001b[0;31mNameError\u001b[0m: name 'nuevo_color' is not defined"
          ]
        }
      ]
    },
    {
      "cell_type": "code",
      "source": [
        "class floristeria(casa):\n",
        "  \"\"\"\n",
        "  constructor de la floristeria\n",
        "  argumentos:\n",
        "    color(str): color de la casa\n",
        "    numero_habitaciones(int): el numero de habitaciones de la casa\n",
        "    numero_baños(int): el numero de baños de la casa\n",
        "    tipos_flores: lista de flores\n",
        "    nombre_floristeria: nombre de la floristeria\n",
        "  \"\"\"\n",
        "  def __init__(self,color,numero_habitaciones,numero_baños,nombre_floristeria,tipos_flores):\n",
        "    super().__init__(color,numero_habitaciones,numero_baños,True,True)\n",
        "    self.nombre_floristeria=nombre_floristeria\n",
        "    self.tipos_flores=tipos_flores\n",
        "\n",
        "\n"
      ],
      "metadata": {
        "id": "oA1AukhyW96f"
      },
      "execution_count": 28,
      "outputs": []
    },
    {
      "cell_type": "code",
      "source": [
        "mi_floristeria=floristeria(\"blanca\",1,1,\"floristeria\",[\"petunias\",\"hortalizas\",\"rosas\"])\n",
        "mi_floristeria.descripcion()"
      ],
      "metadata": {
        "colab": {
          "base_uri": "https://localhost:8080/",
          "height": 36
        },
        "id": "WCisnPa3aDDl",
        "outputId": "63d7692b-e8b9-4009-d527-97e5c7561351"
      },
      "execution_count": 38,
      "outputs": [
        {
          "output_type": "execute_result",
          "data": {
            "text/plain": [
              "'la casa es de color blanca, tiene 1, 1bañosy tiene estacionamientoy tiene patio'"
            ],
            "application/vnd.google.colaboratory.intrinsic+json": {
              "type": "string"
            }
          },
          "metadata": {},
          "execution_count": 38
        }
      ]
    },
    {
      "cell_type": "code",
      "source": [
        "class concurso():\n",
        "  \"\"\"\n",
        "  atributos\n",
        "    mensaje: mensaje a decodificar\n",
        "    metodos: codificar\n",
        "    metodo: decodificar\n",
        "    vocal: se mueven 2 veces a la derecha U => E\n",
        "    tilde: 2 a la izquierda Ó => É\n",
        "    consonante: 1 a la izquierda D => C"
      ],
      "metadata": {
        "id": "YogR_M7OehDL"
      },
      "execution_count": null,
      "outputs": []
    }
  ]
}