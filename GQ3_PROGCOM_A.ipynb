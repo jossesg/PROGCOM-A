{
  "nbformat": 4,
  "nbformat_minor": 0,
  "metadata": {
    "colab": {
      "provenance": [],
      "include_colab_link": true
    },
    "kernelspec": {
      "name": "python3",
      "display_name": "Python 3"
    },
    "language_info": {
      "name": "python"
    }
  },
  "cells": [
    {
      "cell_type": "markdown",
      "metadata": {
        "id": "view-in-github",
        "colab_type": "text"
      },
      "source": [
        "<a href=\"https://colab.research.google.com/github/jossesg/PROGCOM-A/blob/main/GQ3_PROGCOM_A.ipynb\" target=\"_parent\"><img src=\"https://colab.research.google.com/assets/colab-badge.svg\" alt=\"Open In Colab\"/></a>"
      ]
    },
    {
      "cell_type": "markdown",
      "source": [
        "tasa_interes"
      ],
      "metadata": {
        "id": "H-Z3p8CXof6l"
      }
    },
    {
      "cell_type": "code",
      "execution_count": 11,
      "metadata": {
        "colab": {
          "base_uri": "https://localhost:8080/"
        },
        "id": "c-DgHTIIoZMZ",
        "outputId": "8c3ea5e5-4e49-4b45-d79f-d41b385e3abd"
      },
      "outputs": [
        {
          "output_type": "stream",
          "name": "stdout",
          "text": [
            "Ingrese la tasa de interés a convertir (en %): 2000\n",
            "Ingrese el tipo de conversión (anualmensual, anualtrimestral, mensualanual,trimestralanual, mensualatrimestral, anualsemestral, semestralanual, anualbimestral, bimestralanual, anualquincenal, quincenalanual): bimestralanual\n",
            "Resultado de la conversión: 408410100.00%\n"
          ]
        }
      ],
      "source": [
        "tasa_interes = float(input(\"Ingrese la tasa de interés a convertir (en %): \")) / 100\n",
        "\n",
        "\n",
        "tipo_conversion = input(\"Ingrese el tipo de conversión (anualmensual, anualtrimestral, mensualanual,\"\n",
        "                        \"trimestralanual, mensualatrimestral, anualsemestral, semestralanual,\"\n",
        "                        \" anualbimestral, bimestralanual, anualquincenal, quincenalanual): \")\n",
        "\n",
        "if tipo_conversion == \"anualmensual\":\n",
        "    resultado_tasa = (1 + tasa_interes) ** (1 / 12) - 1\n",
        "elif tipo_conversion == \"anualtrimestral\":\n",
        "    resultado_tasa = (1 + tasa_interes) ** (1 / 4) - 1\n",
        "elif tipo_conversion == \"mensualanual\":\n",
        "    resultado_tasa = (1 + tasa_interes) ** (12 - 1)\n",
        "elif tipo_conversion == \"trimestralanual\":\n",
        "    resultado_tasa = (1 + tasa_interes) ** 4 - 1\n",
        "elif tipo_conversion == \"mensualtrimestral\":\n",
        "    resultado_tasa = (1 + tasa_interes) ** (3 - 1)\n",
        "elif tipo_conversion == \"anualsemestral\":\n",
        "    resultado_tasa = (1 + tasa_interes) ** (1 / 2) - 1\n",
        "elif tipo_conversion == \"semestralanual\":\n",
        "    resultado_tasa = (1 + tasa_interes) ** (2 - 1)\n",
        "elif tipo_conversion == \"anualbimestral\":\n",
        "    resultado_tasa = (1 + tasa_interes)  (1 / 6) - 1\n",
        "elif tipo_conversion == \"bimestralanual\":\n",
        "    resultado_tasa = (1 + tasa_interes) ** (6 - 1)\n",
        "elif tipo_conversion == \"anualquincenal\":\n",
        "    resultado_tasa = (1 + tasa_interes)  (1 / 24) - 1\n",
        "elif tipo_conversion == \"quincenalanual\":\n",
        "    resultado_tasa = (1 + tasa_interes) ** (24 - 1)\n",
        "else:\n",
        "    resultado_tasa = None\n",
        "\n",
        "\n",
        "if resultado_tasa is not None:\n",
        "    print(f\"Resultado de la conversión: {resultado_tasa * 100:.2f}%\")\n",
        "else:\n",
        "    print(\"Tipo de conversión inválido.\")"
      ]
    }
  ]
}