{
  "nbformat": 4,
  "nbformat_minor": 0,
  "metadata": {
    "colab": {
      "provenance": []
    },
    "kernelspec": {
      "name": "python3",
      "display_name": "Python 3"
    },
    "language_info": {
      "name": "python"
    }
  },
  "cells": [
    {
      "cell_type": "markdown",
      "source": [
        "#Estructuras de seleccion"
      ],
      "metadata": {
        "id": "QJfkG-fWJbpe"
      }
    },
    {
      "cell_type": "markdown",
      "source": [],
      "metadata": {
        "id": "nh7wqF3GKQx1"
      }
    },
    {
      "cell_type": "markdown",
      "source": [],
      "metadata": {
        "id": "Efq6NcBoKPDH"
      }
    },
    {
      "cell_type": "code",
      "execution_count": null,
      "metadata": {
        "id": "YaKx7pdpH92B"
      },
      "outputs": [],
      "source": []
    },
    {
      "cell_type": "markdown",
      "source": [
        "prueba diagnostica"
      ],
      "metadata": {
        "id": "LXYLptz2KT5l"
      }
    },
    {
      "cell_type": "markdown",
      "source": [
        "#estructura de seleccion\n",
        "aqui se derrollaran ejercicios sobre\n",
        "estructuras de seleccion\n",
        "\n",
        "\n",
        "\n",
        "```\n",
        "si (coindicion) entonces:\n",
        "  pasan cosas divertidas\n",
        "sino:\n",
        "  llorelo 😞\n",
        "\n",
        "  \n",
        "\n",
        "\n",
        "\n",
        "```\n",
        "\n",
        "\n",
        "\n",
        "\n",
        "\n"
      ],
      "metadata": {
        "id": "-jijHqYQKV5G"
      }
    },
    {
      "cell_type": "markdown",
      "source": [
        "ejercicio 1\n",
        "\n",
        "\n",
        "```\n",
        "Algoritmo primera_parte\n",
        "\tescribir \"ingrese un numero\"\n",
        "\tleer numeroo\n",
        "\n",
        "\tsi numeroo>0 entonces\n",
        "\t\tescribir \"es positivo\"\n",
        "\tSiNo\n",
        "\t\tsi numeroo<0 entonces\n",
        "\t\t\tescribir \"es negativo o es cero\"\n",
        "\t\tFinSi\n",
        "\tFinSi\n",
        "\n",
        "FinAlgoritmo\n",
        "```\n",
        "\n"
      ],
      "metadata": {
        "id": "A-DRYnXgXsP0"
      }
    },
    {
      "cell_type": "markdown",
      "source": [
        "segundo ejercicio\n",
        "\n",
        "```\n",
        "Algoritmo second_ejercicio\n",
        "\tescribir \"ingrese su edad\"\n",
        "\tleer edad\n",
        "\n",
        "\tsi edad<18 Entonces\n",
        "\t\tescribir \" es menor de edad \"\n",
        "\tsino\n",
        "\t\tsi edad>=18\n",
        "\t\t\tescribir \"es mayor de edad\"\n",
        "\t\tFinSi\n",
        "\tFinSi\n",
        "\n",
        "FinAlgoritmo\n",
        "```\n",
        "\n"
      ],
      "metadata": {
        "id": "lzRAkP8XXwNc"
      }
    },
    {
      "cell_type": "markdown",
      "source": [
        "cuarto ejercicio\n",
        "\n",
        "```\n",
        "Algoritmo cuarto_ejercicio\n",
        "\tescribir \"cuanto es su calificacion\"\n",
        "\tleer calificacion\n",
        "\n",
        "\tsi calificacion<=60 Entonces\n",
        "\t\tescribir \"estas reprobado\"\n",
        "\tsino\n",
        "\t\tsi calificacion>60 Entonces\n",
        "\t\t\tEscribir \"estas aprobado\"\n",
        "\t\tFinSi\n",
        "\tFinSi\n",
        "\n",
        "FinAlgoritmo\n",
        "```\n",
        "\n"
      ],
      "metadata": {
        "id": "tEOH2V0qZbxj"
      }
    },
    {
      "cell_type": "code",
      "source": [],
      "metadata": {
        "id": "ecomAW_QODq7"
      },
      "execution_count": null,
      "outputs": []
    },
    {
      "cell_type": "code",
      "source": [],
      "metadata": {
        "id": "aUSM-QwLOD5r"
      },
      "execution_count": null,
      "outputs": []
    }
  ]
}