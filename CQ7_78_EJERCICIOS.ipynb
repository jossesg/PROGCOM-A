{
  "nbformat": 4,
  "nbformat_minor": 0,
  "metadata": {
    "colab": {
      "provenance": []
    },
    "kernelspec": {
      "name": "python3",
      "display_name": "Python 3"
    },
    "language_info": {
      "name": "python"
    }
  },
  "cells": [
    {
      "cell_type": "markdown",
      "source": [
        "False: Representa el valor falso"
      ],
      "metadata": {
        "id": "MjKkLjjutXxJ"
      }
    },
    {
      "cell_type": "code",
      "execution_count": 37,
      "metadata": {
        "colab": {
          "base_uri": "https://localhost:8080/"
        },
        "id": "0CbwbBkltP4F",
        "outputId": "43abb4c7-9a7e-423e-ceaa-6772174204b3"
      },
      "outputs": [
        {
          "output_type": "stream",
          "name": "stdout",
          "text": [
            "False\n"
          ]
        }
      ],
      "source": [
        "x = False; print(x)"
      ]
    },
    {
      "cell_type": "markdown",
      "source": [
        "None: Representa la ausencia de un valor"
      ],
      "metadata": {
        "id": "TBPzc0v2tYJI"
      }
    },
    {
      "cell_type": "code",
      "source": [
        " x = None; print(x)"
      ],
      "metadata": {
        "colab": {
          "base_uri": "https://localhost:8080/"
        },
        "id": "H1EOVcu-tXUw",
        "outputId": "d96316fa-6da0-491d-83b0-5c7635c4e68a"
      },
      "execution_count": 38,
      "outputs": [
        {
          "output_type": "stream",
          "name": "stdout",
          "text": [
            "None\n"
          ]
        }
      ]
    },
    {
      "cell_type": "markdown",
      "source": [
        "True: Representa el valor verdadero"
      ],
      "metadata": {
        "id": "-ugxj-5NuDx3"
      }
    },
    {
      "cell_type": "code",
      "source": [
        "x = True; print(x)"
      ],
      "metadata": {
        "colab": {
          "base_uri": "https://localhost:8080/"
        },
        "id": "JCQlIYr6uEG_",
        "outputId": "e536f859-efd5-40f7-c9ac-c5d047c2669f"
      },
      "execution_count": 39,
      "outputs": [
        {
          "output_type": "stream",
          "name": "stdout",
          "text": [
            "True\n"
          ]
        }
      ]
    },
    {
      "cell_type": "markdown",
      "source": [
        "and: Operador lógico que devuelve True si ambos operandos son True"
      ],
      "metadata": {
        "id": "3oQ8EHaEuUXo"
      }
    },
    {
      "cell_type": "code",
      "source": [
        "print(True and False)"
      ],
      "metadata": {
        "colab": {
          "base_uri": "https://localhost:8080/"
        },
        "id": "DR2u3FjUuUw4",
        "outputId": "a7793433-8ae7-493b-c5c4-748a59c04f5b"
      },
      "execution_count": 40,
      "outputs": [
        {
          "output_type": "stream",
          "name": "stdout",
          "text": [
            "False\n"
          ]
        }
      ]
    },
    {
      "cell_type": "markdown",
      "source": [
        "as: Usado para crear un alias al importar módulos"
      ],
      "metadata": {
        "id": "2M-vUNlrvG75"
      }
    },
    {
      "cell_type": "code",
      "source": [
        "import math as m; print(m.pi)"
      ],
      "metadata": {
        "colab": {
          "base_uri": "https://localhost:8080/"
        },
        "id": "gbezgQDSvHNh",
        "outputId": "6d152fb7-655a-4fa9-f2ab-856ae4c1240a"
      },
      "execution_count": 41,
      "outputs": [
        {
          "output_type": "stream",
          "name": "stdout",
          "text": [
            "3.141592653589793\n"
          ]
        }
      ]
    },
    {
      "cell_type": "markdown",
      "source": [
        "assert: Verifica si una condición es verdadera, lanza error si no lo es"
      ],
      "metadata": {
        "id": "OfKv631CvwAt"
      }
    },
    {
      "cell_type": "code",
      "source": [
        "assert 1 == 1"
      ],
      "metadata": {
        "id": "qjI_S8REvwOu"
      },
      "execution_count": 42,
      "outputs": []
    },
    {
      "cell_type": "code",
      "source": [
        "assert 1 == 2"
      ],
      "metadata": {
        "colab": {
          "base_uri": "https://localhost:8080/",
          "height": 141
        },
        "id": "_21-Xw__v3AW",
        "outputId": "c54ae429-2e2d-4cae-a56f-86407d81cadb"
      },
      "execution_count": 43,
      "outputs": [
        {
          "output_type": "error",
          "ename": "AssertionError",
          "evalue": "",
          "traceback": [
            "\u001b[0;31m---------------------------------------------------------------------------\u001b[0m",
            "\u001b[0;31mAssertionError\u001b[0m                            Traceback (most recent call last)",
            "\u001b[0;32m/tmp/ipython-input-3017664728.py\u001b[0m in \u001b[0;36m<cell line: 0>\u001b[0;34m()\u001b[0m\n\u001b[0;32m----> 1\u001b[0;31m \u001b[0;32massert\u001b[0m \u001b[0;36m1\u001b[0m \u001b[0;34m==\u001b[0m \u001b[0;36m2\u001b[0m\u001b[0;34m\u001b[0m\u001b[0;34m\u001b[0m\u001b[0m\n\u001b[0m",
            "\u001b[0;31mAssertionError\u001b[0m: "
          ]
        }
      ]
    },
    {
      "cell_type": "markdown",
      "source": [
        "break: Sale de un bucle inmediatamente."
      ],
      "metadata": {
        "id": "MGeODXJJw-KQ"
      }
    },
    {
      "cell_type": "code",
      "source": [
        "for i in range(5):\n",
        "  if i == 2: break;\n",
        "  print(i)"
      ],
      "metadata": {
        "id": "mTGGvUEOxBgw"
      },
      "execution_count": null,
      "outputs": []
    },
    {
      "cell_type": "markdown",
      "source": [
        "class: Define una clase (estructura de objeto)"
      ],
      "metadata": {
        "id": "ntCKWXQ9yjQY"
      }
    },
    {
      "cell_type": "code",
      "source": [
        "class MiClase: pass"
      ],
      "metadata": {
        "id": "CxyZ_cvByjis"
      },
      "execution_count": null,
      "outputs": []
    },
    {
      "cell_type": "markdown",
      "source": [
        "continue: Salta a la siguiente iteración de un bucle."
      ],
      "metadata": {
        "id": "bHTd1ffsyv6u"
      }
    },
    {
      "cell_type": "code",
      "source": [
        "for i in range(5):\n",
        "   if i == 2: continue;\n",
        "   print(i)"
      ],
      "metadata": {
        "colab": {
          "base_uri": "https://localhost:8080/"
        },
        "id": "LTAVREYVywNu",
        "outputId": "98434c74-8c49-4808-b71d-22115ac89214"
      },
      "execution_count": 99,
      "outputs": [
        {
          "output_type": "stream",
          "name": "stdout",
          "text": [
            "0\n",
            "1\n",
            "3\n",
            "4\n"
          ]
        }
      ]
    },
    {
      "cell_type": "markdown",
      "source": [
        "def: Define una función"
      ],
      "metadata": {
        "id": "B7eSXDFezdSW"
      }
    },
    {
      "cell_type": "code",
      "source": [
        "def suma(a, b): return a + b"
      ],
      "metadata": {
        "id": "dSGQgY7XzdlU"
      },
      "execution_count": 98,
      "outputs": []
    },
    {
      "cell_type": "markdown",
      "source": [
        "del: Elimina un objeto o variable"
      ],
      "metadata": {
        "id": "OLg655K8z18j"
      }
    },
    {
      "cell_type": "code",
      "source": [
        "x = 10\n",
        "print(x)\n",
        "del x"
      ],
      "metadata": {
        "colab": {
          "base_uri": "https://localhost:8080/"
        },
        "id": "CkoaiSPvz2Pn",
        "outputId": "c76c056c-5329-4f31-ea72-c54f290ac591"
      },
      "execution_count": 97,
      "outputs": [
        {
          "output_type": "stream",
          "name": "stdout",
          "text": [
            "10\n"
          ]
        }
      ]
    },
    {
      "cell_type": "markdown",
      "source": [
        "elif: Condición alternativa en una estructura if"
      ],
      "metadata": {
        "id": "mBuZoP2f0WMo"
      }
    },
    {
      "cell_type": "code",
      "source": [
        "edad = 15\n",
        "\n",
        "if edad < 12:\n",
        "    print(\"Niño\")\n",
        "elif edad < 18:\n",
        "    print(\"Adolescente\")\n",
        "else:\n",
        "    print(\"Adulto\")"
      ],
      "metadata": {
        "colab": {
          "base_uri": "https://localhost:8080/"
        },
        "id": "UuJOzg7a0Ws1",
        "outputId": "df47e30e-4064-4456-d620-524d91643e0c"
      },
      "execution_count": 96,
      "outputs": [
        {
          "output_type": "stream",
          "name": "stdout",
          "text": [
            "Adolescente\n"
          ]
        }
      ]
    },
    {
      "cell_type": "markdown",
      "source": [
        "else: Bloque de código ejecutado si ninguna condición previa es verdadera"
      ],
      "metadata": {
        "id": "M9Hag13y1Ag6"
      }
    },
    {
      "cell_type": "code",
      "source": [
        "edad = 20\n",
        "\n",
        "if edad >= 18:\n",
        "    print(\"Mayor de edad\")\n",
        "else:\n",
        "    print(\"Menor de edad\")"
      ],
      "metadata": {
        "colab": {
          "base_uri": "https://localhost:8080/"
        },
        "id": "VFLf6nKm1Azq",
        "outputId": "7c09ddbe-d3f5-4af3-ebc6-e2e20941302c"
      },
      "execution_count": 44,
      "outputs": [
        {
          "output_type": "stream",
          "name": "stdout",
          "text": [
            "Mayor de edad\n"
          ]
        }
      ]
    },
    {
      "cell_type": "markdown",
      "source": [
        "except: maneja excepciones en un bloque"
      ],
      "metadata": {
        "id": "FY1fmYeI1ZIU"
      }
    },
    {
      "cell_type": "code",
      "source": [
        "try:\n",
        "    1/0\n",
        "except:\n",
        "    print(\"Error detectado\")\n"
      ],
      "metadata": {
        "colab": {
          "base_uri": "https://localhost:8080/"
        },
        "id": "-yn5LsyP1ZZM",
        "outputId": "48de7112-419f-46db-a8f1-faeb67da452d"
      },
      "execution_count": 45,
      "outputs": [
        {
          "output_type": "stream",
          "name": "stdout",
          "text": [
            "Error detectado\n"
          ]
        }
      ]
    },
    {
      "cell_type": "markdown",
      "source": [
        "finally: código que se ejecuta siempre, con o sin excepción"
      ],
      "metadata": {
        "id": "HAnf7Uts1lc-"
      }
    },
    {
      "cell_type": "code",
      "source": [
        "try:\n",
        "    x = 1/0\n",
        "except:\n",
        "    print(\"Error\")\n",
        "finally:\n",
        "    print(\"Fin del programa\")"
      ],
      "metadata": {
        "colab": {
          "base_uri": "https://localhost:8080/"
        },
        "id": "spdNzlze1lr8",
        "outputId": "c81a0973-1220-4b50-9b79-a16de65f79f5"
      },
      "execution_count": 46,
      "outputs": [
        {
          "output_type": "stream",
          "name": "stdout",
          "text": [
            "Error\n",
            "Fin del programa\n"
          ]
        }
      ]
    },
    {
      "cell_type": "markdown",
      "source": [
        "for: Bucle para recorrer elementos"
      ],
      "metadata": {
        "id": "3Mobfe8R2F1r"
      }
    },
    {
      "cell_type": "code",
      "source": [
        "for i in range(3):\n",
        "    print(i)"
      ],
      "metadata": {
        "colab": {
          "base_uri": "https://localhost:8080/"
        },
        "id": "XSSeL6tH2GK0",
        "outputId": "1e60d6bd-63eb-44e8-deaf-a9715b24064f"
      },
      "execution_count": 47,
      "outputs": [
        {
          "output_type": "stream",
          "name": "stdout",
          "text": [
            "0\n",
            "1\n",
            "2\n"
          ]
        }
      ]
    },
    {
      "cell_type": "markdown",
      "source": [
        "from\n",
        "\n",
        "Importa de un módulo específico."
      ],
      "metadata": {
        "id": "yUKM_u8z2MXC"
      }
    },
    {
      "cell_type": "code",
      "source": [
        "from math import sqrt\n",
        "print(sqrt(9))"
      ],
      "metadata": {
        "colab": {
          "base_uri": "https://localhost:8080/"
        },
        "id": "S-Rawh4r2Mrr",
        "outputId": "a817cfc2-2939-480e-c25e-e2c8d765e4cb"
      },
      "execution_count": 48,
      "outputs": [
        {
          "output_type": "stream",
          "name": "stdout",
          "text": [
            "3.0\n"
          ]
        }
      ]
    },
    {
      "cell_type": "markdown",
      "source": [
        "global\n",
        "\n",
        "Declara variable global dentro de función."
      ],
      "metadata": {
        "id": "Rzc_TOfQ2TCt"
      }
    },
    {
      "cell_type": "code",
      "source": [
        "x = 10\n",
        "def f():\n",
        "    global x\n",
        "    x = 20\n",
        "f()\n",
        "print(x)"
      ],
      "metadata": {
        "colab": {
          "base_uri": "https://localhost:8080/"
        },
        "id": "rmJeO2P98EVd",
        "outputId": "6cbf404a-fbe7-47fb-9621-3193a1d09cdd"
      },
      "execution_count": 49,
      "outputs": [
        {
          "output_type": "stream",
          "name": "stdout",
          "text": [
            "20\n"
          ]
        }
      ]
    },
    {
      "cell_type": "markdown",
      "source": [
        "if\n",
        "\n",
        "Estructura condicional."
      ],
      "metadata": {
        "id": "pp9Gj8zo2YVk"
      }
    },
    {
      "cell_type": "code",
      "source": [
        "x = 5\n",
        "if x > 0:\n",
        "    print(\"Positivo\")"
      ],
      "metadata": {
        "colab": {
          "base_uri": "https://localhost:8080/"
        },
        "id": "rCZW27i-8D10",
        "outputId": "7a2f2006-cc5e-4236-88f8-923364d8bd65"
      },
      "execution_count": 50,
      "outputs": [
        {
          "output_type": "stream",
          "name": "stdout",
          "text": [
            "Positivo\n"
          ]
        }
      ]
    },
    {
      "cell_type": "markdown",
      "source": [
        "import: Usado para importar librerías"
      ],
      "metadata": {
        "id": "Vt10b3Qq2YoM"
      }
    },
    {
      "cell_type": "code",
      "source": [
        "import math\n",
        "print(math.pi)"
      ],
      "metadata": {
        "colab": {
          "base_uri": "https://localhost:8080/"
        },
        "id": "gqYJ_rr28DHu",
        "outputId": "69e87ca0-c1f0-432d-e905-0827757a9ab2"
      },
      "execution_count": 51,
      "outputs": [
        {
          "output_type": "stream",
          "name": "stdout",
          "text": [
            "3.141592653589793\n"
          ]
        }
      ]
    },
    {
      "cell_type": "markdown",
      "source": [
        "in: Verifica si un valor está en una colección."
      ],
      "metadata": {
        "id": "K0qNtrbe6dEf"
      }
    },
    {
      "cell_type": "code",
      "source": [
        "print(2 in [1, 2, 3])"
      ],
      "metadata": {
        "colab": {
          "base_uri": "https://localhost:8080/"
        },
        "id": "wNVtxiLv79Ha",
        "outputId": "e48dd854-7436-4796-912e-1503e2b4f9c5"
      },
      "execution_count": 52,
      "outputs": [
        {
          "output_type": "stream",
          "name": "stdout",
          "text": [
            "True\n"
          ]
        }
      ]
    },
    {
      "cell_type": "markdown",
      "source": [
        " is: Verifica identidad de objetos.Verifica si un valor está en una colección."
      ],
      "metadata": {
        "id": "foHL16nr2Y8d"
      }
    },
    {
      "cell_type": "code",
      "source": [
        "x = None\n",
        "print(x is None)"
      ],
      "metadata": {
        "colab": {
          "base_uri": "https://localhost:8080/"
        },
        "id": "8JHbSuFY76wy",
        "outputId": "b4e56446-d9ad-4d42-ca2f-cb9dd0b2eb8b"
      },
      "execution_count": 53,
      "outputs": [
        {
          "output_type": "stream",
          "name": "stdout",
          "text": [
            "True\n"
          ]
        }
      ]
    },
    {
      "cell_type": "markdown",
      "source": [
        "lambda: define funciones anónimas."
      ],
      "metadata": {
        "id": "nziQhrzW2ZKU"
      }
    },
    {
      "cell_type": "code",
      "source": [
        "suma = lambda a, b: a + b\n",
        "print(suma(2,3))"
      ],
      "metadata": {
        "colab": {
          "base_uri": "https://localhost:8080/"
        },
        "id": "KE_cyN9274HB",
        "outputId": "b37fbdc9-2360-40e0-a851-e0c7f345cf60"
      },
      "execution_count": 54,
      "outputs": [
        {
          "output_type": "stream",
          "name": "stdout",
          "text": [
            "5\n"
          ]
        }
      ]
    },
    {
      "cell_type": "markdown",
      "source": [
        "nonlocal: Usa variables de un scope superior (no global)."
      ],
      "metadata": {
        "id": "tdx_w65i2Zel"
      }
    },
    {
      "cell_type": "code",
      "source": [
        "def f():\n",
        "    x = \"local\"\n",
        "    def g():\n",
        "        nonlocal x\n",
        "        x = \"cambiado\"\n",
        "    g()\n",
        "    print(x)\n",
        "f()"
      ],
      "metadata": {
        "colab": {
          "base_uri": "https://localhost:8080/"
        },
        "id": "V-39kzmf71px",
        "outputId": "2a697d2f-f1f6-47ed-c2ee-04262abf70d2"
      },
      "execution_count": 55,
      "outputs": [
        {
          "output_type": "stream",
          "name": "stdout",
          "text": [
            "cambiado\n"
          ]
        }
      ]
    },
    {
      "cell_type": "markdown",
      "source": [
        "not: Negación lógica."
      ],
      "metadata": {
        "id": "0x5n9tCd2ZuN"
      }
    },
    {
      "cell_type": "code",
      "source": [
        "print(not True)"
      ],
      "metadata": {
        "colab": {
          "base_uri": "https://localhost:8080/"
        },
        "id": "dcEKhMLK7yrB",
        "outputId": "8a169e4e-6c33-48c2-b155-0f71686d9324"
      },
      "execution_count": 56,
      "outputs": [
        {
          "output_type": "stream",
          "name": "stdout",
          "text": [
            "False\n"
          ]
        }
      ]
    },
    {
      "cell_type": "markdown",
      "source": [
        "or: Operador lógico \"o\"."
      ],
      "metadata": {
        "id": "Lf068a9D2Z6m"
      }
    },
    {
      "cell_type": "code",
      "source": [
        "print(True or False)"
      ],
      "metadata": {
        "colab": {
          "base_uri": "https://localhost:8080/"
        },
        "id": "TTuOlHxv7w3Q",
        "outputId": "736e35d5-d4de-471d-8db7-c18f1042ed39"
      },
      "execution_count": 57,
      "outputs": [
        {
          "output_type": "stream",
          "name": "stdout",
          "text": [
            "True\n"
          ]
        }
      ]
    },
    {
      "cell_type": "markdown",
      "source": [
        "pass: Hace nada."
      ],
      "metadata": {
        "id": "LG-0C6Ag2aH1"
      }
    },
    {
      "cell_type": "code",
      "source": [
        "def f():\n",
        "    pass"
      ],
      "metadata": {
        "id": "6NSNUc7p7p8Q"
      },
      "execution_count": 58,
      "outputs": []
    },
    {
      "cell_type": "markdown",
      "source": [
        "raise: Lanza una excepción."
      ],
      "metadata": {
        "id": "3KxVuenV2aaF"
      }
    },
    {
      "cell_type": "code",
      "source": [
        "raise ValueError(\"Error lanzado\")"
      ],
      "metadata": {
        "colab": {
          "base_uri": "https://localhost:8080/",
          "height": 141
        },
        "id": "ni5zbnI_7ebY",
        "outputId": "8c49744a-b346-4f66-e6c2-06b9e15f5c70"
      },
      "execution_count": 59,
      "outputs": [
        {
          "output_type": "error",
          "ename": "ValueError",
          "evalue": "Error lanzado",
          "traceback": [
            "\u001b[0;31m---------------------------------------------------------------------------\u001b[0m",
            "\u001b[0;31mValueError\u001b[0m                                Traceback (most recent call last)",
            "\u001b[0;32m/tmp/ipython-input-2266979624.py\u001b[0m in \u001b[0;36m<cell line: 0>\u001b[0;34m()\u001b[0m\n\u001b[0;32m----> 1\u001b[0;31m \u001b[0;32mraise\u001b[0m \u001b[0mValueError\u001b[0m\u001b[0;34m(\u001b[0m\u001b[0;34m\"Error lanzado\"\u001b[0m\u001b[0;34m)\u001b[0m\u001b[0;34m\u001b[0m\u001b[0;34m\u001b[0m\u001b[0m\n\u001b[0m",
            "\u001b[0;31mValueError\u001b[0m: Error lanzado"
          ]
        }
      ]
    },
    {
      "cell_type": "markdown",
      "source": [
        "return: devuelve un valor en una función."
      ],
      "metadata": {
        "id": "G3tKJwm36-K6"
      }
    },
    {
      "cell_type": "code",
      "source": [
        "def suma(a, b):\n",
        "    return a + b\n",
        "print(suma(2,3))"
      ],
      "metadata": {
        "id": "YFZ5NBWC7X71"
      },
      "execution_count": null,
      "outputs": []
    },
    {
      "cell_type": "markdown",
      "source": [
        "try: Bloque para manejar errores."
      ],
      "metadata": {
        "id": "XtW9cLTh7B6D"
      }
    },
    {
      "cell_type": "code",
      "source": [
        "try:\n",
        "    print(1/0)\n",
        "except:\n",
        "    print(\"Error\")"
      ],
      "metadata": {
        "id": "tNwGObH07XqV"
      },
      "execution_count": null,
      "outputs": []
    },
    {
      "cell_type": "markdown",
      "source": [
        "while: Bucle que se repite mientras la condición sea cierta."
      ],
      "metadata": {
        "id": "5Da-em287Cjr"
      }
    },
    {
      "cell_type": "code",
      "source": [
        "i = 0\n",
        "while i < 3:\n",
        "    print(i)\n",
        "    i += 1"
      ],
      "metadata": {
        "id": "jywYnPf-7VK9"
      },
      "execution_count": null,
      "outputs": []
    },
    {
      "cell_type": "markdown",
      "source": [
        "with: Maneja recursos de forma segura."
      ],
      "metadata": {
        "id": "B2E4Q3Fd7D16"
      }
    },
    {
      "cell_type": "code",
      "source": [
        "with open(\"archivo.txt\", \"w\") as f:\n",
        "    f.write(\"Hola\")"
      ],
      "metadata": {
        "id": "kmgFlfwQ7Kz1"
      },
      "execution_count": null,
      "outputs": []
    },
    {
      "cell_type": "markdown",
      "source": [
        "yield: Convierte una función en generador."
      ],
      "metadata": {
        "id": "5bNMWJI37GkD"
      }
    },
    {
      "cell_type": "code",
      "source": [
        "def contar():\n",
        "    yield 1\n",
        "    yield 2\n",
        "for n in contar():\n",
        "    print(n)\n"
      ],
      "metadata": {
        "id": "9Den9Hn87Irc"
      },
      "execution_count": null,
      "outputs": []
    },
    {
      "cell_type": "markdown",
      "source": [
        "hasattr(): Verifica si un objeto tiene atributo."
      ],
      "metadata": {
        "id": "EeE2ymx0pvxp"
      }
    },
    {
      "cell_type": "code",
      "source": [
        "class X: a=5\n",
        "print(hasattr(X,'a'))"
      ],
      "metadata": {
        "id": "Wf0fhhHapnTB",
        "outputId": "260ca693-5e19-40f3-e9b8-875bf09185cf",
        "colab": {
          "base_uri": "https://localhost:8080/"
        }
      },
      "execution_count": 60,
      "outputs": [
        {
          "output_type": "stream",
          "name": "stdout",
          "text": [
            "True\n"
          ]
        }
      ]
    },
    {
      "cell_type": "markdown",
      "source": [
        "setattr(): Asigna atributos a objetos."
      ],
      "metadata": {
        "id": "usc-bcyqpybi"
      }
    },
    {
      "cell_type": "code",
      "source": [
        "class X: pass\n",
        "setattr(X,'a',10)\n",
        "print(X.a)"
      ],
      "metadata": {
        "id": "fRepFNnYpyqJ",
        "outputId": "a643c22e-eb2c-43d0-c32d-8a31750d0fb0",
        "colab": {
          "base_uri": "https://localhost:8080/"
        }
      },
      "execution_count": 61,
      "outputs": [
        {
          "output_type": "stream",
          "name": "stdout",
          "text": [
            "10\n"
          ]
        }
      ]
    },
    {
      "cell_type": "markdown",
      "source": [
        "getattr(): Obtiene atributos de un objeto."
      ],
      "metadata": {
        "id": "X91QEkPqp4WC"
      }
    },
    {
      "cell_type": "code",
      "source": [
        "class X: a=5\n",
        "print(getattr(X,'a'))"
      ],
      "metadata": {
        "id": "9bF0UkGgp3la",
        "outputId": "408f871c-e818-4575-a087-ff6589ffe72e",
        "colab": {
          "base_uri": "https://localhost:8080/"
        }
      },
      "execution_count": 62,
      "outputs": [
        {
          "output_type": "stream",
          "name": "stdout",
          "text": [
            "5\n"
          ]
        }
      ]
    },
    {
      "cell_type": "markdown",
      "source": [
        "delattr(): Elimina atributos de objetos."
      ],
      "metadata": {
        "id": "4MuLY5_9p7Rz"
      }
    },
    {
      "cell_type": "code",
      "source": [
        "class X: a=5\n",
        "delattr(X,'a')"
      ],
      "metadata": {
        "id": "HJsF35hkp7j9"
      },
      "execution_count": 63,
      "outputs": []
    },
    {
      "cell_type": "markdown",
      "source": [
        "eval(): Evalúa expresiones."
      ],
      "metadata": {
        "id": "n3jJrCwpp_cL"
      }
    },
    {
      "cell_type": "code",
      "source": [
        "print(eval(\"3+5\"))"
      ],
      "metadata": {
        "id": "q21zILYGp_qL",
        "outputId": "0c96e32e-f5ab-4d03-8e3a-802a1bb97e59",
        "colab": {
          "base_uri": "https://localhost:8080/"
        }
      },
      "execution_count": 64,
      "outputs": [
        {
          "output_type": "stream",
          "name": "stdout",
          "text": [
            "8\n"
          ]
        }
      ]
    },
    {
      "cell_type": "markdown",
      "source": [
        "exec(): Ejecuta código dinámicamente."
      ],
      "metadata": {
        "id": "8VHUyNs_qHJc"
      }
    },
    {
      "cell_type": "code",
      "source": [
        "exec(\"print('Hola')\")"
      ],
      "metadata": {
        "id": "8Xjv2koFqHet",
        "colab": {
          "base_uri": "https://localhost:8080/"
        },
        "outputId": "6b7fa3e6-cd36-4fa3-e3bb-71d382dc3f01"
      },
      "execution_count": 65,
      "outputs": [
        {
          "output_type": "stream",
          "name": "stdout",
          "text": [
            "Hola\n"
          ]
        }
      ]
    },
    {
      "cell_type": "markdown",
      "source": [
        "len(): Devuelve la cantidad de elementos de un objeto."
      ],
      "metadata": {
        "id": "iIIW-Z0UqZ0H"
      }
    },
    {
      "cell_type": "code",
      "source": [
        "frutas = [\"manzana\", \"pera\", \"uva\"]\n",
        "print(len(frutas))"
      ],
      "metadata": {
        "id": "_P9JjqkfqaAy",
        "outputId": "6346f556-c3ff-4162-c4c9-57f12b5c7daf",
        "colab": {
          "base_uri": "https://localhost:8080/"
        }
      },
      "execution_count": 66,
      "outputs": [
        {
          "output_type": "stream",
          "name": "stdout",
          "text": [
            "3\n"
          ]
        }
      ]
    },
    {
      "cell_type": "markdown",
      "source": [
        "id(): Devuelve el identificador único de un objeto."
      ],
      "metadata": {
        "id": "3FfQ8FbuqtaR"
      }
    },
    {
      "cell_type": "code",
      "source": [
        "x = 10\n",
        "print(id(x))"
      ],
      "metadata": {
        "id": "ienL1suDqtOJ",
        "outputId": "3ea1de13-0df0-4941-f3e9-91f17e93ee3c",
        "colab": {
          "base_uri": "https://localhost:8080/"
        }
      },
      "execution_count": 67,
      "outputs": [
        {
          "output_type": "stream",
          "name": "stdout",
          "text": [
            "11642376\n"
          ]
        }
      ]
    },
    {
      "cell_type": "markdown",
      "source": [
        "pow(): Calcula una potencia."
      ],
      "metadata": {
        "id": "dAt1_W5eqvx-"
      }
    },
    {
      "cell_type": "code",
      "source": [
        "print(pow(2, 3))"
      ],
      "metadata": {
        "id": "2_ZgvV1iqv_h",
        "outputId": "f66588c8-112d-452a-9301-4a4b5ab4135b",
        "colab": {
          "base_uri": "https://localhost:8080/"
        }
      },
      "execution_count": 68,
      "outputs": [
        {
          "output_type": "stream",
          "name": "stdout",
          "text": [
            "8\n"
          ]
        }
      ]
    },
    {
      "cell_type": "markdown",
      "source": [
        "chr(): Convierte un número entero al carácter Unicode correspondiente"
      ],
      "metadata": {
        "id": "YF6Uw_vMqwSx"
      }
    },
    {
      "cell_type": "code",
      "source": [
        "print(chr(65))"
      ],
      "metadata": {
        "id": "bzYxAS5qqxKh",
        "outputId": "486ffffd-95b9-4757-e132-de5159ca3582",
        "colab": {
          "base_uri": "https://localhost:8080/"
        }
      },
      "execution_count": 69,
      "outputs": [
        {
          "output_type": "stream",
          "name": "stdout",
          "text": [
            "A\n"
          ]
        }
      ]
    },
    {
      "cell_type": "markdown",
      "source": [
        "ascii(): Devuelve la representación ASCII de un objeto."
      ],
      "metadata": {
        "id": "p1A4ls6Xq8eT"
      }
    },
    {
      "cell_type": "code",
      "source": [
        "print(ascii('ñ'))"
      ],
      "metadata": {
        "id": "82v3Hiezq9Vz",
        "outputId": "9ea05c04-9685-433d-8b70-efd91d3b7a5c",
        "colab": {
          "base_uri": "https://localhost:8080/"
        }
      },
      "execution_count": 70,
      "outputs": [
        {
          "output_type": "stream",
          "name": "stdout",
          "text": [
            "'\\xf1'\n"
          ]
        }
      ]
    },
    {
      "cell_type": "markdown",
      "source": [
        "repr(): Devuelve la representación en cadena de un objeto"
      ],
      "metadata": {
        "id": "IiUfTOQ8q-Y1"
      }
    },
    {
      "cell_type": "code",
      "source": [
        "x = \"Hola\"\n",
        "print(repr(x))"
      ],
      "metadata": {
        "id": "Q2FR6f-fq-z9",
        "outputId": "1922eadd-6930-4c13-9367-5b0759d67920",
        "colab": {
          "base_uri": "https://localhost:8080/"
        }
      },
      "execution_count": 71,
      "outputs": [
        {
          "output_type": "stream",
          "name": "stdout",
          "text": [
            "'Hola'\n"
          ]
        }
      ]
    },
    {
      "cell_type": "markdown",
      "source": [
        "await: Pausa la ejecución hasta que una corrutina termine."
      ],
      "metadata": {
        "id": "zCZBQXbTG3I1"
      }
    },
    {
      "cell_type": "code",
      "source": [
        "import asyncio\n",
        "async def hola():\n",
        "    await asyncio.sleep(1)\n",
        "    print(\"Hola async!\")"
      ],
      "metadata": {
        "id": "0JgeGe_iG3bi"
      },
      "execution_count": 72,
      "outputs": []
    },
    {
      "cell_type": "markdown",
      "source": [
        "async: Define una función asíncrona."
      ],
      "metadata": {
        "id": "ayYH-lOdHP93"
      }
    },
    {
      "cell_type": "code",
      "source": [
        "async def tarea():\n",
        "    return 42"
      ],
      "metadata": {
        "id": "iK33iuSdHQLa"
      },
      "execution_count": 73,
      "outputs": []
    },
    {
      "cell_type": "markdown",
      "source": [
        "match: Estructura de control similar a switch-case"
      ],
      "metadata": {
        "id": "DkgIFy0hHUqB"
      }
    },
    {
      "cell_type": "code",
      "source": [
        "x = 2\n",
        "match x:\n",
        "    case 1: print(\"Uno\")\n",
        "    case 2: print(\"Dos\")"
      ],
      "metadata": {
        "colab": {
          "base_uri": "https://localhost:8080/"
        },
        "id": "n2tqVClFHU8u",
        "outputId": "17ee3ca3-74e3-4364-e608-47eb18e2beeb"
      },
      "execution_count": 74,
      "outputs": [
        {
          "output_type": "stream",
          "name": "stdout",
          "text": [
            "Dos\n"
          ]
        }
      ]
    },
    {
      "cell_type": "markdown",
      "source": [
        "case → Se usa dentro de match para cada opción."
      ],
      "metadata": {
        "id": "3bb3-isrHaK3"
      }
    },
    {
      "cell_type": "code",
      "source": [
        "match \"a\":\n",
        "    case \"a\": print(\"Letra A\")"
      ],
      "metadata": {
        "colab": {
          "base_uri": "https://localhost:8080/"
        },
        "id": "3F-uH4YkHaXo",
        "outputId": "604db4c1-9344-4c0e-b974-ee6511d6a71b"
      },
      "execution_count": 75,
      "outputs": [
        {
          "output_type": "stream",
          "name": "stdout",
          "text": [
            "Letra A\n"
          ]
        }
      ]
    },
    {
      "cell_type": "markdown",
      "source": [
        "del:Elimina variables o elementos de una lista/diccionario.d"
      ],
      "metadata": {
        "id": "4-JryvUWHd-N"
      }
    },
    {
      "cell_type": "code",
      "source": [
        "nums = [1, 2, 3]\n",
        "del nums[1]"
      ],
      "metadata": {
        "id": "LBAvZt-qHeQx"
      },
      "execution_count": 76,
      "outputs": []
    },
    {
      "cell_type": "markdown",
      "source": [
        "except: Captura excepciones en bloques"
      ],
      "metadata": {
        "id": "WlQKsLhqHnwz"
      }
    },
    {
      "cell_type": "code",
      "source": [
        "try:\n",
        "    1/0\n",
        "except ZeroDivisionError:\n",
        "    print(\"Error: división por cero\")"
      ],
      "metadata": {
        "colab": {
          "base_uri": "https://localhost:8080/"
        },
        "id": "P9t8bWeHHoB7",
        "outputId": "ed051e20-ae33-407b-f572-7a9eee18d716"
      },
      "execution_count": 77,
      "outputs": [
        {
          "output_type": "stream",
          "name": "stdout",
          "text": [
            "Error: división por cero\n"
          ]
        }
      ]
    },
    {
      "cell_type": "markdown",
      "source": [
        "finally: Bloque que siempre se ejecuta en try-except."
      ],
      "metadata": {
        "id": "MtiIOIKKHu9M"
      }
    },
    {
      "cell_type": "code",
      "source": [
        "try:\n",
        "    print(\"haciendo el intento\")\n",
        "finally:\n",
        "    print(\"Esto siempre se ejecuta\")"
      ],
      "metadata": {
        "colab": {
          "base_uri": "https://localhost:8080/"
        },
        "id": "oAXyWaplHvOk",
        "outputId": "c2576dee-e5a9-4404-ba5b-727e2becb77f"
      },
      "execution_count": 78,
      "outputs": [
        {
          "output_type": "stream",
          "name": "stdout",
          "text": [
            "haciendo el intento\n",
            "Esto siempre se ejecuta\n"
          ]
        }
      ]
    },
    {
      "cell_type": "markdown",
      "source": [
        "async: Define una función asíncrona que se puede ejecutar en paralelo con *otras*"
      ],
      "metadata": {
        "id": "vsAmR72IICvX"
      }
    },
    {
      "cell_type": "code",
      "source": [
        "async def tarea():\n",
        "    return \"Resultado async\""
      ],
      "metadata": {
        "id": "g128yaSiIC-2"
      },
      "execution_count": 79,
      "outputs": []
    },
    {
      "cell_type": "markdown",
      "source": [
        "match:Implementa un sistema parecido a switch-case de otros lenguajes, ideal para patrones complejos."
      ],
      "metadata": {
        "id": "nyVvtZUoIIbG"
      }
    },
    {
      "cell_type": "code",
      "source": [
        "valor = [1, 2]\n",
        "match valor:\n",
        "    case [1, 2]:\n",
        "        print(\"lista con el 1 y el 2\")\n",
        "    case _:\n",
        "        print(\"otro caso\")"
      ],
      "metadata": {
        "colab": {
          "base_uri": "https://localhost:8080/"
        },
        "id": "jbzF9IAzIIqr",
        "outputId": "f9117e04-ae8d-4f9b-9a4b-f44a4e33b510"
      },
      "execution_count": 80,
      "outputs": [
        {
          "output_type": "stream",
          "name": "stdout",
          "text": [
            "lista con el 1 y el 2\n"
          ]
        }
      ]
    },
    {
      "cell_type": "markdown",
      "source": [
        "slots : Restringe qué atributos puede tener una clase"
      ],
      "metadata": {
        "id": "De7bpwY6IvXP"
      }
    },
    {
      "cell_type": "code",
      "source": [
        "class Punto:\n",
        "    __slots__ = ('x', 'y')\n",
        "    def __init__(self, x, y):\n",
        "        self.x = x\n",
        "        self.y = y\n",
        "\n",
        "p = Punto(1, 2)"
      ],
      "metadata": {
        "id": "BXj72wdlIvkd"
      },
      "execution_count": 81,
      "outputs": []
    },
    {
      "cell_type": "markdown",
      "source": [
        "property: Define atributos calculados como si fueran variables normales."
      ],
      "metadata": {
        "id": "PM4PzcmKI1jt"
      }
    },
    {
      "cell_type": "code",
      "source": [
        "class Circulo:\n",
        "    def __init__(self, radio):\n",
        "        self._radio = radio\n",
        "\n",
        "    @property\n",
        "    def area(self):\n",
        "        return 3.14 * (self._radio ** 2)\n",
        "\n",
        "c = Circulo(5)\n",
        "print(c.area)"
      ],
      "metadata": {
        "colab": {
          "base_uri": "https://localhost:8080/"
        },
        "id": "iktH8V1MI1zV",
        "outputId": "ebf6610e-ea76-4683-dbdc-4961c204c737"
      },
      "execution_count": 82,
      "outputs": [
        {
          "output_type": "stream",
          "name": "stdout",
          "text": [
            "78.5\n"
          ]
        }
      ]
    },
    {
      "cell_type": "markdown",
      "source": [
        "metaclass : Controla cómo se crean las clases"
      ],
      "metadata": {
        "id": "ReVSmnasI2Lm"
      }
    },
    {
      "cell_type": "code",
      "source": [
        "class Meta(type):\n",
        "    def __new__(cls, name, bases, dct):\n",
        "        dct[\"saludo\"] = lambda self: \"Hola desde meta clase\"\n",
        "        return super().__new__(cls, name, bases, dct)\n",
        "\n",
        "class Ejemplo(metaclass=Meta):\n",
        "    pass\n",
        "\n",
        "e = Ejemplo()\n",
        "print(e.saludo())"
      ],
      "metadata": {
        "colab": {
          "base_uri": "https://localhost:8080/"
        },
        "id": "B7spaThxI2jN",
        "outputId": "1f9b3d90-581e-4e62-baa5-eb42a249093c"
      },
      "execution_count": 83,
      "outputs": [
        {
          "output_type": "stream",
          "name": "stdout",
          "text": [
            "Hola desde meta clase\n"
          ]
        }
      ]
    },
    {
      "cell_type": "markdown",
      "source": [
        "classmethod: Convierte un método en de clase (recibe cls en vez de self)"
      ],
      "metadata": {
        "id": "YeRGidPxJQBB"
      }
    },
    {
      "cell_type": "code",
      "source": [
        "class Persona:\n",
        "    contador = 0\n",
        "    def __init__(self, nombre):\n",
        "        self.nombre = nombre\n",
        "        Persona.contador += 1\n",
        "\n",
        "    @classmethod\n",
        "    def total(cls):\n",
        "        return cls.contador\n",
        "\n",
        "p1 = Persona(\"Ana\")\n",
        "p2 = Persona(\"Luis\")\n",
        "print(Persona.total())"
      ],
      "metadata": {
        "colab": {
          "base_uri": "https://localhost:8080/"
        },
        "id": "svdUQB2kJQRq",
        "outputId": "073fbad2-4ab9-49f0-8644-c6dcf9b90539"
      },
      "execution_count": 84,
      "outputs": [
        {
          "output_type": "stream",
          "name": "stdout",
          "text": [
            "2\n"
          ]
        }
      ]
    },
    {
      "cell_type": "markdown",
      "source": [
        "dir(): Lista atributos y métodos disponibles"
      ],
      "metadata": {
        "id": "PN4Kc4nGXlJK"
      }
    },
    {
      "cell_type": "code",
      "source": [
        "print(dir(str))"
      ],
      "metadata": {
        "colab": {
          "base_uri": "https://localhost:8080/"
        },
        "id": "viVievwRXkvm",
        "outputId": "b7d51cdd-042a-4cca-bded-0abd91dab29f"
      },
      "execution_count": 85,
      "outputs": [
        {
          "output_type": "stream",
          "name": "stdout",
          "text": [
            "['__add__', '__class__', '__contains__', '__delattr__', '__dir__', '__doc__', '__eq__', '__format__', '__ge__', '__getattribute__', '__getitem__', '__getnewargs__', '__getstate__', '__gt__', '__hash__', '__init__', '__init_subclass__', '__iter__', '__le__', '__len__', '__lt__', '__mod__', '__mul__', '__ne__', '__new__', '__reduce__', '__reduce_ex__', '__repr__', '__rmod__', '__rmul__', '__setattr__', '__sizeof__', '__str__', '__subclasshook__', 'capitalize', 'casefold', 'center', 'count', 'encode', 'endswith', 'expandtabs', 'find', 'format', 'format_map', 'index', 'isalnum', 'isalpha', 'isascii', 'isdecimal', 'isdigit', 'isidentifier', 'islower', 'isnumeric', 'isprintable', 'isspace', 'istitle', 'isupper', 'join', 'ljust', 'lower', 'lstrip', 'maketrans', 'partition', 'removeprefix', 'removesuffix', 'replace', 'rfind', 'rindex', 'rjust', 'rpartition', 'rsplit', 'rstrip', 'split', 'splitlines', 'startswith', 'strip', 'swapcase', 'title', 'translate', 'upper', 'zfill']\n"
          ]
        }
      ]
    },
    {
      "cell_type": "markdown",
      "source": [
        "help() : Documentación de funciones/módulos"
      ],
      "metadata": {
        "id": "rQdcHbZrXlv9"
      }
    },
    {
      "cell_type": "code",
      "source": [
        "help(len)"
      ],
      "metadata": {
        "colab": {
          "base_uri": "https://localhost:8080/"
        },
        "id": "Zid4Ep9JXlet",
        "outputId": "bcddfd9b-b4d8-4cbc-e8ed-8496dce5fcd6"
      },
      "execution_count": 86,
      "outputs": [
        {
          "output_type": "stream",
          "name": "stdout",
          "text": [
            "Help on built-in function len in module builtins:\n",
            "\n",
            "len(obj, /)\n",
            "    Return the number of items in a container.\n",
            "\n"
          ]
        }
      ]
    },
    {
      "cell_type": "markdown",
      "source": [
        "isinstance() : Verifica tipo de objeto"
      ],
      "metadata": {
        "id": "k7N_NldlZfS0"
      }
    },
    {
      "cell_type": "code",
      "source": [
        "print(isinstance(5, int))\n",
        "print(isinstance(\"texto\", str))"
      ],
      "metadata": {
        "colab": {
          "base_uri": "https://localhost:8080/"
        },
        "id": "64P2t2-zZfiP",
        "outputId": "f4e7bb4b-a947-4e6e-be62-afea555c785c"
      },
      "execution_count": 87,
      "outputs": [
        {
          "output_type": "stream",
          "name": "stdout",
          "text": [
            "True\n",
            "True\n"
          ]
        }
      ]
    },
    {
      "cell_type": "markdown",
      "source": [
        "class : Definir clases"
      ],
      "metadata": {
        "id": "JerJu89NZpHk"
      }
    },
    {
      "cell_type": "code",
      "source": [
        "class Persona:\n",
        "    def __init__(self, nombre):\n",
        "        self.nombre = nombre\n",
        "    def saludar(self):\n",
        "        return f\"Hola, soy {self.nombre}\"\n",
        "\n",
        "p1 = Persona(\"Carlos\")\n",
        "print(p1.saludar())"
      ],
      "metadata": {
        "colab": {
          "base_uri": "https://localhost:8080/"
        },
        "id": "8H1LrTSDZpfB",
        "outputId": "16dde975-44ab-41dc-a1b7-c8752a8ce697"
      },
      "execution_count": 88,
      "outputs": [
        {
          "output_type": "stream",
          "name": "stdout",
          "text": [
            "Hola, soy Carlos\n"
          ]
        }
      ]
    },
    {
      "cell_type": "markdown",
      "source": [
        "filter() : Filtrar elementos según condición"
      ],
      "metadata": {
        "id": "gaVgsPxAZugR"
      }
    },
    {
      "cell_type": "code",
      "source": [
        "pares = list(filter(lambda x: x % 10 == 0, nums))\n",
        "print(pares)"
      ],
      "metadata": {
        "colab": {
          "base_uri": "https://localhost:8080/"
        },
        "id": "v2LqMxKRZuOB",
        "outputId": "b19c990e-1108-45ff-c116-bc2ef9510ed9"
      },
      "execution_count": 89,
      "outputs": [
        {
          "output_type": "stream",
          "name": "stdout",
          "text": [
            "[]\n"
          ]
        }
      ]
    },
    {
      "cell_type": "markdown",
      "source": [
        "map() : Aplicar función a lista"
      ],
      "metadata": {
        "id": "MI8bb-TWZ2hk"
      }
    },
    {
      "cell_type": "code",
      "source": [
        "nums = [1, 2, 3]\n",
        "dobles = list(map(lambda x: x * 2, nums))\n",
        "print(dobles)"
      ],
      "metadata": {
        "colab": {
          "base_uri": "https://localhost:8080/"
        },
        "id": "D2ZNX6LdZ2v8",
        "outputId": "95da76b1-9f88-423f-b966-6768802d8fa7"
      },
      "execution_count": 90,
      "outputs": [
        {
          "output_type": "stream",
          "name": "stdout",
          "text": [
            "[2, 4, 6]\n"
          ]
        }
      ]
    },
    {
      "cell_type": "markdown",
      "source": [
        "zip(): Combinar listas"
      ],
      "metadata": {
        "id": "TtfEgzHlaCF0"
      }
    },
    {
      "cell_type": "code",
      "source": [
        "nombres = [\"Ana\", \"Luis\"]\n",
        "edades = [20, 25]\n",
        "for n, e in zip(nombres, edades):\n",
        "    print(n, e)"
      ],
      "metadata": {
        "colab": {
          "base_uri": "https://localhost:8080/"
        },
        "id": "ONgJb_6PaCQd",
        "outputId": "87b30fc5-8c2c-4ace-cdbe-551a5a5e9847"
      },
      "execution_count": 91,
      "outputs": [
        {
          "output_type": "stream",
          "name": "stdout",
          "text": [
            "Ana 20\n",
            "Luis 25\n"
          ]
        }
      ]
    },
    {
      "cell_type": "markdown",
      "source": [
        "enumerate() → Enumerar elementos con índice"
      ],
      "metadata": {
        "id": "KmD8ucPNaK3X"
      }
    },
    {
      "cell_type": "code",
      "source": [
        "animales = [\"perro\", \"gato\", \"loro\"]\n",
        "for i, animal in enumerate(animales):\n",
        "    print(i, animal)"
      ],
      "metadata": {
        "colab": {
          "base_uri": "https://localhost:8080/"
        },
        "id": "oux0Mt_vaLFW",
        "outputId": "49b47078-6c6d-4293-d4c8-6328df53ede4"
      },
      "execution_count": 92,
      "outputs": [
        {
          "output_type": "stream",
          "name": "stdout",
          "text": [
            "0 perro\n",
            "1 gato\n",
            "2 loro\n"
          ]
        }
      ]
    },
    {
      "cell_type": "markdown",
      "source": [
        "with open(): Manejo de archivos"
      ],
      "metadata": {
        "id": "DrVVO-z7aQ1f"
      }
    },
    {
      "cell_type": "code",
      "source": [
        "with open(\"archivo.txt\", \"w\") as f:\n",
        "    f.write(\"Hola archivo\")"
      ],
      "metadata": {
        "id": "l5Nwed_KaRv2"
      },
      "execution_count": 93,
      "outputs": []
    },
    {
      "cell_type": "markdown",
      "source": [
        "tuple: Tuplas (inmutables)"
      ],
      "metadata": {
        "id": "tZEsRiWtaXT8"
      }
    },
    {
      "cell_type": "code",
      "source": [
        "colores = (\"rojo\", \"verde\", \"azul\")\n",
        "print(colores)"
      ],
      "metadata": {
        "colab": {
          "base_uri": "https://localhost:8080/"
        },
        "id": "AEcVg4DjaXiZ",
        "outputId": "a47f156f-7875-4f66-b62b-61ce3f41aa7f"
      },
      "execution_count": 94,
      "outputs": [
        {
          "output_type": "stream",
          "name": "stdout",
          "text": [
            "('rojo', 'verde', 'azul')\n"
          ]
        }
      ]
    },
    {
      "cell_type": "markdown",
      "source": [
        "set: Conjuntos (no se repiten los elementos)"
      ],
      "metadata": {
        "id": "y8SaWwxZacOI"
      }
    },
    {
      "cell_type": "code",
      "source": [
        "numeros = {1, 2, 2, 3, 4}\n",
        "print(numeros)"
      ],
      "metadata": {
        "colab": {
          "base_uri": "https://localhost:8080/"
        },
        "id": "t3FTKfRsacaJ",
        "outputId": "c3a734d6-1e60-4830-c49d-37d30454199c"
      },
      "execution_count": 95,
      "outputs": [
        {
          "output_type": "stream",
          "name": "stdout",
          "text": [
            "{1, 2, 3, 4}\n"
          ]
        }
      ]
    }
  ]
}